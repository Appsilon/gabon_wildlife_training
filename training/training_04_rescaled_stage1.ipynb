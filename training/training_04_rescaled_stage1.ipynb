{
 "cells": [
  {
   "cell_type": "markdown",
   "metadata": {},
   "source": [
    "in this notebook we:\n",
    "* train stage1 for rescaled images\n",
    "* train stage2 for rescaled images"
   ]
  },
  {
   "cell_type": "code",
   "execution_count": 1,
   "metadata": {},
   "outputs": [],
   "source": [
    "from pathlib import Path\n",
    "import json\n",
    "import logging\n",
    "\n",
    "import numpy as np\n",
    "import pandas as pd\n",
    "\n",
    "from fastai.vision import *\n",
    "\n",
    "import os\n",
    "\n",
    "import neptune\n",
    "from neptunecontrib.monitoring.fastai import NeptuneMonitor\n",
    "\n",
    "from PIL import ImageFile\n",
    "ImageFile.LOAD_TRUNCATED_IMAGES = True\n",
    "\n",
    "import configparser\n",
    "\n",
    "from functions import *"
   ]
  },
  {
   "cell_type": "code",
   "execution_count": 2,
   "metadata": {},
   "outputs": [],
   "source": [
    "logging.basicConfig(level=logging.INFO)"
   ]
  },
  {
   "cell_type": "code",
   "execution_count": 3,
   "metadata": {},
   "outputs": [],
   "source": [
    "# PATH_TO_IMG = Path(\"/data_rescaled\")\n",
    "\n",
    "# PATH_TO_MAIN = Path(\"/home/jupyter/\")\n",
    "# PATH_TO_TRAIN_DF = PATH_TO_MAIN / \"inspect_data_split_validation\"\n",
    "# PATH_TO_MODELS = PATH_TO_MAIN / \"training\" / \"saved_models\"\n",
    "# PATH_TO_CONFIG = PATH_TO_MAIN / \"config\"\n",
    "\n",
    "# CONFIG = configparser.ConfigParser()\n",
    "# CONFIG.read(PATH_TO_CONFIG / \"neptune.ini\")"
   ]
  },
  {
   "cell_type": "code",
   "execution_count": 4,
   "metadata": {},
   "outputs": [],
   "source": [
    "# ! pip install neptune-client neptune-contrib"
   ]
  },
  {
   "cell_type": "code",
   "execution_count": 5,
   "metadata": {},
   "outputs": [],
   "source": [
    "# neptune.init(project_qualified_name='appsilon/gabon-wildlife', \n",
    "#             api_token=CONFIG[\"neptune\"][\"NEPTUNE_API_TOKEN\"])"
   ]
  },
  {
   "cell_type": "code",
   "execution_count": 6,
   "metadata": {},
   "outputs": [
    {
     "name": "stdout",
     "output_type": "stream",
     "text": [
      "28\n"
     ]
    },
    {
     "data": {
      "text/plain": [
       "array(['Human', 'Blank', 'Elephant_African', 'Hog_Red_River', 'Buffalo_African', 'Leopard_African', 'Monkey',\n",
       "       'Duiker_Red', 'Civet_African_Palm', 'Squirrel', 'Duiker_Blue', 'Bird', 'Mongoose_Black_Footed', 'Rodent',\n",
       "       'Duiker_Yellow_Backed', 'Genet', 'Chimpanzee', 'Gorilla', 'Mongoose', 'Porcupine_Brush_Tailed', 'Pangolin',\n",
       "       'Mandrillus', 'Chevrotain_Water', 'Cat_Golden', 'Rat_Giant', 'Guineafowl_Crested', 'Guineafowl_Black',\n",
       "       'Rail_Nkulengu'], dtype=object)"
      ]
     },
     "execution_count": 6,
     "metadata": {},
     "output_type": "execute_result"
    }
   ],
   "source": [
    "df = pd.read_csv(PATH_TO_TRAIN_DF / \"train_valid_df.csv\")\n",
    "\n",
    "classes = df.species.unique()\n",
    "print(len(classes)) # no \"Mammal_Other\"\n",
    "classes"
   ]
  },
  {
   "cell_type": "code",
   "execution_count": 7,
   "metadata": {},
   "outputs": [
    {
     "data": {
      "text/plain": [
       "347120"
      ]
     },
     "execution_count": 7,
     "metadata": {},
     "output_type": "execute_result"
    }
   ],
   "source": [
    "len(df.uniqueName)"
   ]
  },
  {
   "cell_type": "code",
   "execution_count": 8,
   "metadata": {},
   "outputs": [
    {
     "data": {
      "text/html": [
       "<div>\n",
       "<style scoped>\n",
       "    .dataframe tbody tr th:only-of-type {\n",
       "        vertical-align: middle;\n",
       "    }\n",
       "\n",
       "    .dataframe tbody tr th {\n",
       "        vertical-align: top;\n",
       "    }\n",
       "\n",
       "    .dataframe thead th {\n",
       "        text-align: right;\n",
       "    }\n",
       "</style>\n",
       "<table border=\"1\" class=\"dataframe\">\n",
       "  <thead>\n",
       "    <tr style=\"text-align: right;\">\n",
       "      <th></th>\n",
       "      <th>uniqueName</th>\n",
       "      <th>species</th>\n",
       "      <th>main_folder</th>\n",
       "      <th>is_valid</th>\n",
       "      <th>sub_folder</th>\n",
       "    </tr>\n",
       "  </thead>\n",
       "  <tbody>\n",
       "    <tr>\n",
       "      <th>0</th>\n",
       "      <td>0000005.jpg</td>\n",
       "      <td>Human</td>\n",
       "      <td>Compressed Camera Trap Images</td>\n",
       "      <td>False</td>\n",
       "      <td>T33</td>\n",
       "    </tr>\n",
       "    <tr>\n",
       "      <th>1</th>\n",
       "      <td>0000007.jpg</td>\n",
       "      <td>Human</td>\n",
       "      <td>Compressed Camera Trap Images</td>\n",
       "      <td>False</td>\n",
       "      <td>T33</td>\n",
       "    </tr>\n",
       "    <tr>\n",
       "      <th>2</th>\n",
       "      <td>0000009.jpg</td>\n",
       "      <td>Human</td>\n",
       "      <td>Compressed Camera Trap Images</td>\n",
       "      <td>False</td>\n",
       "      <td>T33</td>\n",
       "    </tr>\n",
       "    <tr>\n",
       "      <th>3</th>\n",
       "      <td>0000013.jpg</td>\n",
       "      <td>Human</td>\n",
       "      <td>Compressed Camera Trap Images</td>\n",
       "      <td>False</td>\n",
       "      <td>T33</td>\n",
       "    </tr>\n",
       "    <tr>\n",
       "      <th>4</th>\n",
       "      <td>0000015.jpg</td>\n",
       "      <td>Human</td>\n",
       "      <td>Compressed Camera Trap Images</td>\n",
       "      <td>False</td>\n",
       "      <td>T33</td>\n",
       "    </tr>\n",
       "  </tbody>\n",
       "</table>\n",
       "</div>"
      ],
      "text/plain": [
       "    uniqueName species                    main_folder  is_valid sub_folder\n",
       "0  0000005.jpg   Human  Compressed Camera Trap Images     False        T33\n",
       "1  0000007.jpg   Human  Compressed Camera Trap Images     False        T33\n",
       "2  0000009.jpg   Human  Compressed Camera Trap Images     False        T33\n",
       "3  0000013.jpg   Human  Compressed Camera Trap Images     False        T33\n",
       "4  0000015.jpg   Human  Compressed Camera Trap Images     False        T33"
      ]
     },
     "execution_count": 8,
     "metadata": {},
     "output_type": "execute_result"
    }
   ],
   "source": [
    "df.head()"
   ]
  },
  {
   "cell_type": "code",
   "execution_count": 9,
   "metadata": {},
   "outputs": [
    {
     "data": {
      "text/html": [
       "<div>\n",
       "<style scoped>\n",
       "    .dataframe tbody tr th:only-of-type {\n",
       "        vertical-align: middle;\n",
       "    }\n",
       "\n",
       "    .dataframe tbody tr th {\n",
       "        vertical-align: top;\n",
       "    }\n",
       "\n",
       "    .dataframe thead th {\n",
       "        text-align: right;\n",
       "    }\n",
       "</style>\n",
       "<table border=\"1\" class=\"dataframe\">\n",
       "  <thead>\n",
       "    <tr style=\"text-align: right;\">\n",
       "      <th></th>\n",
       "      <th>uniqueName</th>\n",
       "      <th>species</th>\n",
       "      <th>main_folder</th>\n",
       "      <th>is_valid</th>\n",
       "      <th>sub_folder</th>\n",
       "    </tr>\n",
       "  </thead>\n",
       "  <tbody>\n",
       "    <tr>\n",
       "      <th>0</th>\n",
       "      <td>resc_0000005.jpg</td>\n",
       "      <td>Human</td>\n",
       "      <td>Compressed Camera Trap Images</td>\n",
       "      <td>False</td>\n",
       "      <td>T33</td>\n",
       "    </tr>\n",
       "    <tr>\n",
       "      <th>1</th>\n",
       "      <td>resc_0000007.jpg</td>\n",
       "      <td>Human</td>\n",
       "      <td>Compressed Camera Trap Images</td>\n",
       "      <td>False</td>\n",
       "      <td>T33</td>\n",
       "    </tr>\n",
       "    <tr>\n",
       "      <th>2</th>\n",
       "      <td>resc_0000009.jpg</td>\n",
       "      <td>Human</td>\n",
       "      <td>Compressed Camera Trap Images</td>\n",
       "      <td>False</td>\n",
       "      <td>T33</td>\n",
       "    </tr>\n",
       "    <tr>\n",
       "      <th>3</th>\n",
       "      <td>resc_0000013.jpg</td>\n",
       "      <td>Human</td>\n",
       "      <td>Compressed Camera Trap Images</td>\n",
       "      <td>False</td>\n",
       "      <td>T33</td>\n",
       "    </tr>\n",
       "    <tr>\n",
       "      <th>4</th>\n",
       "      <td>resc_0000015.jpg</td>\n",
       "      <td>Human</td>\n",
       "      <td>Compressed Camera Trap Images</td>\n",
       "      <td>False</td>\n",
       "      <td>T33</td>\n",
       "    </tr>\n",
       "  </tbody>\n",
       "</table>\n",
       "</div>"
      ],
      "text/plain": [
       "         uniqueName species                    main_folder  is_valid  \\\n",
       "0  resc_0000005.jpg   Human  Compressed Camera Trap Images     False   \n",
       "1  resc_0000007.jpg   Human  Compressed Camera Trap Images     False   \n",
       "2  resc_0000009.jpg   Human  Compressed Camera Trap Images     False   \n",
       "3  resc_0000013.jpg   Human  Compressed Camera Trap Images     False   \n",
       "4  resc_0000015.jpg   Human  Compressed Camera Trap Images     False   \n",
       "\n",
       "  sub_folder  \n",
       "0        T33  \n",
       "1        T33  \n",
       "2        T33  \n",
       "3        T33  \n",
       "4        T33  "
      ]
     },
     "execution_count": 9,
     "metadata": {},
     "output_type": "execute_result"
    }
   ],
   "source": [
    "df[\"uniqueName\"] = df.uniqueName.apply(lambda x: \"resc_\" + x)\n",
    "df.head()"
   ]
  },
  {
   "cell_type": "code",
   "execution_count": 10,
   "metadata": {},
   "outputs": [
    {
     "name": "stdout",
     "output_type": "stream",
     "text": [
      "CPU times: user 8.85 s, sys: 304 ms, total: 9.16 s\n",
      "Wall time: 5.01 s\n"
     ]
    }
   ],
   "source": [
    "%%time\n",
    "data = get_training_data(df, (384 // 4, 512 // 4))#, partial_pct=0.01)"
   ]
  },
  {
   "cell_type": "code",
   "execution_count": 11,
   "metadata": {},
   "outputs": [],
   "source": [
    "# %%time\n",
    "# data.show_batch()"
   ]
  },
  {
   "cell_type": "markdown",
   "metadata": {},
   "source": [
    "# Stage 1"
   ]
  },
  {
   "cell_type": "code",
   "execution_count": 12,
   "metadata": {},
   "outputs": [],
   "source": [
    "learn = get_initial_learner(data)"
   ]
  },
  {
   "cell_type": "code",
   "execution_count": 13,
   "metadata": {},
   "outputs": [
    {
     "data": {
      "text/html": [],
      "text/plain": [
       "<IPython.core.display.HTML object>"
      ]
     },
     "metadata": {},
     "output_type": "display_data"
    },
    {
     "name": "stdout",
     "output_type": "stream",
     "text": [
      "LR Finder is complete, type {learner_name}.recorder.plot() to see the graph.\n",
      "CPU times: user 15 s, sys: 5.49 s, total: 20.5 s\n",
      "Wall time: 2min 50s\n"
     ]
    },
    {
     "data": {
      "image/png": "[encoded data removed]",
      "text/plain": [
       "<Figure size 432x288 with 1 Axes>"
      ]
     },
     "metadata": {
      "needs_background": "light"
     },
     "output_type": "display_data"
    }
   ],
   "source": [
    "%%time\n",
    "run_find_lr(learn, \"stage1-1epochs-96_128-rescaled\")"
   ]
  },
  {
   "cell_type": "code",
   "execution_count": 14,
   "metadata": {},
   "outputs": [],
   "source": [
    "initial_lr = 1e-3"
   ]
  },
  {
   "cell_type": "code",
   "execution_count": 15,
   "metadata": {},
   "outputs": [
    {
     "name": "stderr",
     "output_type": "stream",
     "text": [
      "INFO:root:running training stage1-1epochs-96_128-rescaled\n"
     ]
    },
    {
     "data": {
      "text/html": [
       "<table border=\"1\" class=\"dataframe\">\n",
       "  <thead>\n",
       "    <tr style=\"text-align: left;\">\n",
       "      <th>epoch</th>\n",
       "      <th>train_loss</th>\n",
       "      <th>valid_loss</th>\n",
       "      <th>accuracy</th>\n",
       "      <th>time</th>\n",
       "    </tr>\n",
       "  </thead>\n",
       "  <tbody>\n",
       "    <tr>\n",
       "      <td>0</td>\n",
       "      <td>1.263267</td>\n",
       "      <td>2.065803</td>\n",
       "      <td>0.435890</td>\n",
       "      <td>20:22</td>\n",
       "    </tr>\n",
       "  </tbody>\n",
       "</table>"
      ],
      "text/plain": [
       "<IPython.core.display.HTML object>"
      ]
     },
     "metadata": {},
     "output_type": "display_data"
    },
    {
     "name": "stderr",
     "output_type": "stream",
     "text": [
      "INFO:root:finished training stage1-1epochs-96_128-rescaled\n",
      "INFO:root:saved stage1-1epochs-96_128-rescaled\n"
     ]
    },
    {
     "name": "stdout",
     "output_type": "stream",
     "text": [
      "CPU times: user 1min 40s, sys: 36.6 s, total: 2min 17s\n",
      "Wall time: 20min 22s\n"
     ]
    }
   ],
   "source": [
    "%%time\n",
    "# with neptune.create_experiment(params = {\"initial_lr\": initial_lr}): \n",
    "#     learn.callbacks.append(NeptuneMonitor())\n",
    "run_training(learn, \"stage1-1epochs-96_128-rescaled\", lr=initial_lr, n_epochs=1)"
   ]
  },
  {
   "cell_type": "code",
   "execution_count": 20,
   "metadata": {},
   "outputs": [],
   "source": [
    "# learn = load_learner(PATH_TO_MODELS, \"stage1-1epochs-96_128-rescaled.pkl\")\n",
    "# learn.data = data"
   ]
  },
  {
   "cell_type": "markdown",
   "metadata": {},
   "source": [
    "# Stage 2"
   ]
  },
  {
   "cell_type": "code",
   "execution_count": 16,
   "metadata": {},
   "outputs": [
    {
     "data": {
      "text/html": [],
      "text/plain": [
       "<IPython.core.display.HTML object>"
      ]
     },
     "metadata": {},
     "output_type": "display_data"
    },
    {
     "name": "stdout",
     "output_type": "stream",
     "text": [
      "LR Finder is complete, type {learner_name}.recorder.plot() to see the graph.\n"
     ]
    },
    {
     "data": {
      "image/png": "[encoded data removed]",
      "text/plain": [
       "<Figure size 432x288 with 1 Axes>"
      ]
     },
     "metadata": {
      "needs_background": "light"
     },
     "output_type": "display_data"
    }
   ],
   "source": [
    "learn.unfreeze()\n",
    "run_find_lr(learn, \"stage2-3epochs-96_128-rescaled\")"
   ]
  },
  {
   "cell_type": "code",
   "execution_count": null,
   "metadata": {},
   "outputs": [],
   "source": []
  }
 ],
 "metadata": {
  "kernelspec": {
   "display_name": "Python 3",
   "language": "python",
   "name": "python3"
  },
  "language_info": {
   "codemirror_mode": {
    "name": "ipython",
    "version": 3
   },
   "file_extension": ".py",
   "mimetype": "text/x-python",
   "name": "python",
   "nbconvert_exporter": "python",
   "pygments_lexer": "ipython3",
   "version": "3.7.4"
  }
 },
 "nbformat": 4,
 "nbformat_minor": 4
}
