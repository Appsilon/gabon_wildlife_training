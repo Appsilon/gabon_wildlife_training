{
 "cells": [
  {
   "cell_type": "code",
   "execution_count": 1,
   "metadata": {},
   "outputs": [],
   "source": [
    "import pandas as pd\n",
    "from fastai.vision import *\n",
    "import os"
   ]
  },
  {
   "cell_type": "code",
   "execution_count": 2,
   "metadata": {},
   "outputs": [
    {
     "name": "stdout",
     "output_type": "stream",
     "text": [
      "987\n",
      "232\n"
     ]
    }
   ],
   "source": [
    "chimps = [\"/data/Gabon_trainingData/\" + file for file in os.listdir(\"gabon_extra_data/chimpanzee/\")]\n",
    "gorillas = [\"/data/Gabon_trainingData/\" + file for file in os.listdir(\"gabon_extra_data/gorilla/\")]\n",
    "print(len(chimps))\n",
    "print(len(gorillas))"
   ]
  },
  {
   "cell_type": "markdown",
   "metadata": {},
   "source": [
    "# OLD MODEL"
   ]
  },
  {
   "cell_type": "markdown",
   "metadata": {},
   "source": [
    "# Gorillas"
   ]
  },
  {
   "cell_type": "code",
   "execution_count": 11,
   "metadata": {},
   "outputs": [],
   "source": [
    "learn = load_learner(\"./\",\"stage4a-intermediate_bestmodel.pkl\", test=gorillas)"
   ]
  },
  {
   "cell_type": "code",
   "execution_count": 12,
   "metadata": {},
   "outputs": [
    {
     "data": {
      "text/html": [],
      "text/plain": [
       "<IPython.core.display.HTML object>"
      ]
     },
     "metadata": {},
     "output_type": "display_data"
    }
   ],
   "source": [
    "preds, y = learn.get_preds(ds_type=DatasetType.Test)"
   ]
  },
  {
   "cell_type": "code",
   "execution_count": 13,
   "metadata": {},
   "outputs": [],
   "source": [
    "preds = pd.DataFrame(\n",
    "        np.stack(preds),\n",
    "        columns=learn.data.classes)"
   ]
  },
  {
   "cell_type": "code",
   "execution_count": 16,
   "metadata": {},
   "outputs": [],
   "source": [
    "sort_classes = sorted(learn.data.classes)\n",
    "df_preds = preds.copy()\n",
    "ranks = df_preds.rank(axis=1,method='dense', ascending=False).astype(int)\n",
    "\n",
    "df_preds[\"pred_1\"] = pd.Series(ranks.where(ranks==1).notnull().values.nonzero()[1]).apply(lambda x: sort_classes[x])\n",
    "df_preds[\"pred_2\"] = pd.Series(ranks.where(ranks==2).notnull().values.nonzero()[1]).apply(lambda x: sort_classes[x])\n",
    "df_preds[\"pred_3\"] = pd.Series(ranks.where(ranks==3).notnull().values.nonzero()[1]).apply(lambda x: sort_classes[x])\n",
    "\n",
    "df_preds[\"score_1\"] = df_preds.apply(lambda x: x[x.pred_1], axis=1)\n",
    "df_preds[\"score_2\"] = df_preds.apply(lambda x: x[x.pred_2], axis=1)\n",
    "df_preds[\"score_3\"] = df_preds.apply(lambda x: x[x.pred_3], axis=1)"
   ]
  },
  {
   "cell_type": "code",
   "execution_count": 19,
   "metadata": {},
   "outputs": [
    {
     "data": {
      "text/html": [
       "<div>\n",
       "<style scoped>\n",
       "    .dataframe tbody tr th:only-of-type {\n",
       "        vertical-align: middle;\n",
       "    }\n",
       "\n",
       "    .dataframe tbody tr th {\n",
       "        vertical-align: top;\n",
       "    }\n",
       "\n",
       "    .dataframe thead th {\n",
       "        text-align: right;\n",
       "    }\n",
       "</style>\n",
       "<table border=\"1\" class=\"dataframe\">\n",
       "  <thead>\n",
       "    <tr style=\"text-align: right;\">\n",
       "      <th></th>\n",
       "      <th>pred_1</th>\n",
       "      <th>pred_2</th>\n",
       "      <th>pred_3</th>\n",
       "    </tr>\n",
       "  </thead>\n",
       "  <tbody>\n",
       "    <tr>\n",
       "      <th>0</th>\n",
       "      <td>Mandrillus</td>\n",
       "      <td>Human</td>\n",
       "      <td>Gorilla</td>\n",
       "    </tr>\n",
       "    <tr>\n",
       "      <th>1</th>\n",
       "      <td>Chimpanzee</td>\n",
       "      <td>Elephant_African</td>\n",
       "      <td>Gorilla</td>\n",
       "    </tr>\n",
       "    <tr>\n",
       "      <th>2</th>\n",
       "      <td>Chimpanzee</td>\n",
       "      <td>Gorilla</td>\n",
       "      <td>Elephant_African</td>\n",
       "    </tr>\n",
       "    <tr>\n",
       "      <th>3</th>\n",
       "      <td>Chimpanzee</td>\n",
       "      <td>Gorilla</td>\n",
       "      <td>Elephant_African</td>\n",
       "    </tr>\n",
       "    <tr>\n",
       "      <th>4</th>\n",
       "      <td>Monkey</td>\n",
       "      <td>Gorilla</td>\n",
       "      <td>Chimpanzee</td>\n",
       "    </tr>\n",
       "    <tr>\n",
       "      <th>...</th>\n",
       "      <td>...</td>\n",
       "      <td>...</td>\n",
       "      <td>...</td>\n",
       "    </tr>\n",
       "    <tr>\n",
       "      <th>227</th>\n",
       "      <td>Gorilla</td>\n",
       "      <td>Human</td>\n",
       "      <td>Chimpanzee</td>\n",
       "    </tr>\n",
       "    <tr>\n",
       "      <th>228</th>\n",
       "      <td>Chimpanzee</td>\n",
       "      <td>Mandrillus</td>\n",
       "      <td>Gorilla</td>\n",
       "    </tr>\n",
       "    <tr>\n",
       "      <th>229</th>\n",
       "      <td>Chimpanzee</td>\n",
       "      <td>Gorilla</td>\n",
       "      <td>Monkey</td>\n",
       "    </tr>\n",
       "    <tr>\n",
       "      <th>230</th>\n",
       "      <td>Chimpanzee</td>\n",
       "      <td>Elephant_African</td>\n",
       "      <td>Gorilla</td>\n",
       "    </tr>\n",
       "    <tr>\n",
       "      <th>231</th>\n",
       "      <td>Chimpanzee</td>\n",
       "      <td>Gorilla</td>\n",
       "      <td>Mandrillus</td>\n",
       "    </tr>\n",
       "  </tbody>\n",
       "</table>\n",
       "<p>232 rows × 3 columns</p>\n",
       "</div>"
      ],
      "text/plain": [
       "         pred_1            pred_2            pred_3\n",
       "0    Mandrillus             Human           Gorilla\n",
       "1    Chimpanzee  Elephant_African           Gorilla\n",
       "2    Chimpanzee           Gorilla  Elephant_African\n",
       "3    Chimpanzee           Gorilla  Elephant_African\n",
       "4        Monkey           Gorilla        Chimpanzee\n",
       "..          ...               ...               ...\n",
       "227     Gorilla             Human        Chimpanzee\n",
       "228  Chimpanzee        Mandrillus           Gorilla\n",
       "229  Chimpanzee           Gorilla            Monkey\n",
       "230  Chimpanzee  Elephant_African           Gorilla\n",
       "231  Chimpanzee           Gorilla        Mandrillus\n",
       "\n",
       "[232 rows x 3 columns]"
      ]
     },
     "execution_count": 19,
     "metadata": {},
     "output_type": "execute_result"
    }
   ],
   "source": [
    "df_preds[[\"pred_1\", \"pred_2\", \"pred_3\"]]"
   ]
  },
  {
   "cell_type": "code",
   "execution_count": 22,
   "metadata": {},
   "outputs": [],
   "source": [
    "correct_top1 = (df_preds.pred_1 == \"Gorilla\").sum()\n",
    "correct_top3 = ((df_preds.pred_1 == \"Gorilla\") | (df_preds.pred_2 == \"Gorilla\") | (df_preds.pred_3 == \"Gorilla\")).sum()\n",
    "all_count = len(df_preds)"
   ]
  },
  {
   "cell_type": "code",
   "execution_count": 23,
   "metadata": {},
   "outputs": [
    {
     "name": "stdout",
     "output_type": "stream",
     "text": [
      "Top 1 accuracy on Gorillas is 15.517241379310345%\n",
      "Top 3 accuracy on Gorillas is 80.17241379310344%\n"
     ]
    }
   ],
   "source": [
    "print(f\"Top 1 accuracy on Gorillas is {correct_top1 / all_count * 100}%\")\n",
    "print(f\"Top 3 accuracy on Gorillas is {correct_top3 / all_count * 100}%\")"
   ]
  },
  {
   "cell_type": "markdown",
   "metadata": {},
   "source": [
    "# Chimps"
   ]
  },
  {
   "cell_type": "code",
   "execution_count": 24,
   "metadata": {},
   "outputs": [],
   "source": [
    "learn = load_learner(\"./\",\"stage4a-intermediate_bestmodel.pkl\", test=chimps)"
   ]
  },
  {
   "cell_type": "code",
   "execution_count": 25,
   "metadata": {},
   "outputs": [
    {
     "data": {
      "text/html": [],
      "text/plain": [
       "<IPython.core.display.HTML object>"
      ]
     },
     "metadata": {},
     "output_type": "display_data"
    }
   ],
   "source": [
    "preds, y = learn.get_preds(ds_type=DatasetType.Test)"
   ]
  },
  {
   "cell_type": "code",
   "execution_count": 26,
   "metadata": {},
   "outputs": [],
   "source": [
    "preds = pd.DataFrame(\n",
    "        np.stack(preds),\n",
    "        columns=learn.data.classes)"
   ]
  },
  {
   "cell_type": "code",
   "execution_count": 27,
   "metadata": {},
   "outputs": [],
   "source": [
    "sort_classes = sorted(learn.data.classes)\n",
    "df_preds = preds.copy()\n",
    "ranks = df_preds.rank(axis=1,method='dense', ascending=False).astype(int)\n",
    "\n",
    "df_preds[\"pred_1\"] = pd.Series(ranks.where(ranks==1).notnull().values.nonzero()[1]).apply(lambda x: sort_classes[x])\n",
    "df_preds[\"pred_2\"] = pd.Series(ranks.where(ranks==2).notnull().values.nonzero()[1]).apply(lambda x: sort_classes[x])\n",
    "df_preds[\"pred_3\"] = pd.Series(ranks.where(ranks==3).notnull().values.nonzero()[1]).apply(lambda x: sort_classes[x])\n",
    "\n",
    "df_preds[\"score_1\"] = df_preds.apply(lambda x: x[x.pred_1], axis=1)\n",
    "df_preds[\"score_2\"] = df_preds.apply(lambda x: x[x.pred_2], axis=1)\n",
    "df_preds[\"score_3\"] = df_preds.apply(lambda x: x[x.pred_3], axis=1)"
   ]
  },
  {
   "cell_type": "code",
   "execution_count": 28,
   "metadata": {},
   "outputs": [
    {
     "data": {
      "text/html": [
       "<div>\n",
       "<style scoped>\n",
       "    .dataframe tbody tr th:only-of-type {\n",
       "        vertical-align: middle;\n",
       "    }\n",
       "\n",
       "    .dataframe tbody tr th {\n",
       "        vertical-align: top;\n",
       "    }\n",
       "\n",
       "    .dataframe thead th {\n",
       "        text-align: right;\n",
       "    }\n",
       "</style>\n",
       "<table border=\"1\" class=\"dataframe\">\n",
       "  <thead>\n",
       "    <tr style=\"text-align: right;\">\n",
       "      <th></th>\n",
       "      <th>pred_1</th>\n",
       "      <th>pred_2</th>\n",
       "      <th>pred_3</th>\n",
       "    </tr>\n",
       "  </thead>\n",
       "  <tbody>\n",
       "    <tr>\n",
       "      <th>0</th>\n",
       "      <td>Chimpanzee</td>\n",
       "      <td>Gorilla</td>\n",
       "      <td>Elephant_African</td>\n",
       "    </tr>\n",
       "    <tr>\n",
       "      <th>1</th>\n",
       "      <td>Chimpanzee</td>\n",
       "      <td>Elephant_African</td>\n",
       "      <td>Gorilla</td>\n",
       "    </tr>\n",
       "    <tr>\n",
       "      <th>2</th>\n",
       "      <td>Chimpanzee</td>\n",
       "      <td>Hog_Red_River</td>\n",
       "      <td>Gorilla</td>\n",
       "    </tr>\n",
       "    <tr>\n",
       "      <th>3</th>\n",
       "      <td>Chimpanzee</td>\n",
       "      <td>Gorilla</td>\n",
       "      <td>Elephant_African</td>\n",
       "    </tr>\n",
       "    <tr>\n",
       "      <th>4</th>\n",
       "      <td>Chimpanzee</td>\n",
       "      <td>Gorilla</td>\n",
       "      <td>Hog_Red_River</td>\n",
       "    </tr>\n",
       "    <tr>\n",
       "      <th>...</th>\n",
       "      <td>...</td>\n",
       "      <td>...</td>\n",
       "      <td>...</td>\n",
       "    </tr>\n",
       "    <tr>\n",
       "      <th>982</th>\n",
       "      <td>Chimpanzee</td>\n",
       "      <td>Gorilla</td>\n",
       "      <td>Mandrillus</td>\n",
       "    </tr>\n",
       "    <tr>\n",
       "      <th>983</th>\n",
       "      <td>Chimpanzee</td>\n",
       "      <td>Gorilla</td>\n",
       "      <td>Mandrillus</td>\n",
       "    </tr>\n",
       "    <tr>\n",
       "      <th>984</th>\n",
       "      <td>Chimpanzee</td>\n",
       "      <td>Gorilla</td>\n",
       "      <td>Elephant_African</td>\n",
       "    </tr>\n",
       "    <tr>\n",
       "      <th>985</th>\n",
       "      <td>Chimpanzee</td>\n",
       "      <td>Elephant_African</td>\n",
       "      <td>Gorilla</td>\n",
       "    </tr>\n",
       "    <tr>\n",
       "      <th>986</th>\n",
       "      <td>Chimpanzee</td>\n",
       "      <td>Gorilla</td>\n",
       "      <td>Mandrillus</td>\n",
       "    </tr>\n",
       "  </tbody>\n",
       "</table>\n",
       "<p>987 rows × 3 columns</p>\n",
       "</div>"
      ],
      "text/plain": [
       "         pred_1            pred_2            pred_3\n",
       "0    Chimpanzee           Gorilla  Elephant_African\n",
       "1    Chimpanzee  Elephant_African           Gorilla\n",
       "2    Chimpanzee     Hog_Red_River           Gorilla\n",
       "3    Chimpanzee           Gorilla  Elephant_African\n",
       "4    Chimpanzee           Gorilla     Hog_Red_River\n",
       "..          ...               ...               ...\n",
       "982  Chimpanzee           Gorilla        Mandrillus\n",
       "983  Chimpanzee           Gorilla        Mandrillus\n",
       "984  Chimpanzee           Gorilla  Elephant_African\n",
       "985  Chimpanzee  Elephant_African           Gorilla\n",
       "986  Chimpanzee           Gorilla        Mandrillus\n",
       "\n",
       "[987 rows x 3 columns]"
      ]
     },
     "execution_count": 28,
     "metadata": {},
     "output_type": "execute_result"
    }
   ],
   "source": [
    "df_preds[[\"pred_1\", \"pred_2\", \"pred_3\"]]"
   ]
  },
  {
   "cell_type": "code",
   "execution_count": 29,
   "metadata": {},
   "outputs": [],
   "source": [
    "correct_top1 = (df_preds.pred_1 == \"Chimpanzee\").sum()\n",
    "correct_top3 = ((df_preds.pred_1 == \"Chimpanzee\") | (df_preds.pred_2 == \"Chimpanzee\") | (df_preds.pred_3 == \"Chimpanzee\")).sum()\n",
    "all_count = len(df_preds)"
   ]
  },
  {
   "cell_type": "code",
   "execution_count": 30,
   "metadata": {},
   "outputs": [
    {
     "name": "stdout",
     "output_type": "stream",
     "text": [
      "Top 1 accuracy on Chimpanzees is 92.19858156028369%\n",
      "Top 3 accuracy on Chimpanzees is 97.66970618034448%\n"
     ]
    }
   ],
   "source": [
    "print(f\"Top 1 accuracy on Chimpanzees is {correct_top1 / all_count * 100}%\")\n",
    "print(f\"Top 3 accuracy on Chimpanzees is {correct_top3 / all_count * 100}%\")"
   ]
  },
  {
   "cell_type": "code",
   "execution_count": null,
   "metadata": {},
   "outputs": [],
   "source": []
  },
  {
   "cell_type": "markdown",
   "metadata": {},
   "source": [
    "# NEW MODEL"
   ]
  },
  {
   "cell_type": "markdown",
   "metadata": {},
   "source": [
    "# Gorillas"
   ]
  },
  {
   "cell_type": "code",
   "execution_count": 5,
   "metadata": {},
   "outputs": [],
   "source": [
    "learn = load_learner(\"gabon_wildlife_wwf_retrain/saved_models/\",\"stage4f-5epochs-576_768-rescaled.pkl\", test=gorillas).to_fp16()"
   ]
  },
  {
   "cell_type": "code",
   "execution_count": 6,
   "metadata": {},
   "outputs": [
    {
     "data": {
      "text/html": [],
      "text/plain": [
       "<IPython.core.display.HTML object>"
      ]
     },
     "metadata": {},
     "output_type": "display_data"
    }
   ],
   "source": [
    "preds, y = learn.get_preds(ds_type=DatasetType.Test)"
   ]
  },
  {
   "cell_type": "code",
   "execution_count": 7,
   "metadata": {},
   "outputs": [],
   "source": [
    "preds = pd.DataFrame(\n",
    "        np.stack(preds),\n",
    "        columns=learn.data.classes)"
   ]
  },
  {
   "cell_type": "code",
   "execution_count": 8,
   "metadata": {},
   "outputs": [],
   "source": [
    "sort_classes = sorted(learn.data.classes)\n",
    "df_preds = preds.copy()\n",
    "ranks = df_preds.rank(axis=1,method='dense', ascending=False).astype(int)\n",
    "\n",
    "df_preds[\"pred_1\"] = pd.Series(ranks.where(ranks==1).notnull().values.nonzero()[1]).apply(lambda x: sort_classes[x])\n",
    "df_preds[\"pred_2\"] = pd.Series(ranks.where(ranks==2).notnull().values.nonzero()[1]).apply(lambda x: sort_classes[x])\n",
    "df_preds[\"pred_3\"] = pd.Series(ranks.where(ranks==3).notnull().values.nonzero()[1]).apply(lambda x: sort_classes[x])\n",
    "\n",
    "df_preds[\"score_1\"] = df_preds.apply(lambda x: x[x.pred_1], axis=1)\n",
    "df_preds[\"score_2\"] = df_preds.apply(lambda x: x[x.pred_2], axis=1)\n",
    "df_preds[\"score_3\"] = df_preds.apply(lambda x: x[x.pred_3], axis=1)"
   ]
  },
  {
   "cell_type": "code",
   "execution_count": 9,
   "metadata": {},
   "outputs": [
    {
     "data": {
      "text/html": [
       "<div>\n",
       "<style scoped>\n",
       "    .dataframe tbody tr th:only-of-type {\n",
       "        vertical-align: middle;\n",
       "    }\n",
       "\n",
       "    .dataframe tbody tr th {\n",
       "        vertical-align: top;\n",
       "    }\n",
       "\n",
       "    .dataframe thead th {\n",
       "        text-align: right;\n",
       "    }\n",
       "</style>\n",
       "<table border=\"1\" class=\"dataframe\">\n",
       "  <thead>\n",
       "    <tr style=\"text-align: right;\">\n",
       "      <th></th>\n",
       "      <th>pred_1</th>\n",
       "      <th>pred_2</th>\n",
       "      <th>pred_3</th>\n",
       "    </tr>\n",
       "  </thead>\n",
       "  <tbody>\n",
       "    <tr>\n",
       "      <th>0</th>\n",
       "      <td>Gorilla</td>\n",
       "      <td>Chimpanzee</td>\n",
       "      <td>Mandrillus</td>\n",
       "    </tr>\n",
       "    <tr>\n",
       "      <th>1</th>\n",
       "      <td>Gorilla</td>\n",
       "      <td>Chimpanzee</td>\n",
       "      <td>Elephant_African</td>\n",
       "    </tr>\n",
       "    <tr>\n",
       "      <th>2</th>\n",
       "      <td>Gorilla</td>\n",
       "      <td>Chimpanzee</td>\n",
       "      <td>Mandrillus</td>\n",
       "    </tr>\n",
       "    <tr>\n",
       "      <th>3</th>\n",
       "      <td>Gorilla</td>\n",
       "      <td>Chimpanzee</td>\n",
       "      <td>Mandrillus</td>\n",
       "    </tr>\n",
       "    <tr>\n",
       "      <th>4</th>\n",
       "      <td>Gorilla</td>\n",
       "      <td>Chimpanzee</td>\n",
       "      <td>Mandrillus</td>\n",
       "    </tr>\n",
       "    <tr>\n",
       "      <th>...</th>\n",
       "      <td>...</td>\n",
       "      <td>...</td>\n",
       "      <td>...</td>\n",
       "    </tr>\n",
       "    <tr>\n",
       "      <th>227</th>\n",
       "      <td>Gorilla</td>\n",
       "      <td>Chimpanzee</td>\n",
       "      <td>Human</td>\n",
       "    </tr>\n",
       "    <tr>\n",
       "      <th>228</th>\n",
       "      <td>Gorilla</td>\n",
       "      <td>Chimpanzee</td>\n",
       "      <td>Mandrillus</td>\n",
       "    </tr>\n",
       "    <tr>\n",
       "      <th>229</th>\n",
       "      <td>Gorilla</td>\n",
       "      <td>Chimpanzee</td>\n",
       "      <td>Mandrillus</td>\n",
       "    </tr>\n",
       "    <tr>\n",
       "      <th>230</th>\n",
       "      <td>Gorilla</td>\n",
       "      <td>Chimpanzee</td>\n",
       "      <td>Mandrillus</td>\n",
       "    </tr>\n",
       "    <tr>\n",
       "      <th>231</th>\n",
       "      <td>Gorilla</td>\n",
       "      <td>Chimpanzee</td>\n",
       "      <td>Mandrillus</td>\n",
       "    </tr>\n",
       "  </tbody>\n",
       "</table>\n",
       "<p>232 rows × 3 columns</p>\n",
       "</div>"
      ],
      "text/plain": [
       "      pred_1      pred_2            pred_3\n",
       "0    Gorilla  Chimpanzee        Mandrillus\n",
       "1    Gorilla  Chimpanzee  Elephant_African\n",
       "2    Gorilla  Chimpanzee        Mandrillus\n",
       "3    Gorilla  Chimpanzee        Mandrillus\n",
       "4    Gorilla  Chimpanzee        Mandrillus\n",
       "..       ...         ...               ...\n",
       "227  Gorilla  Chimpanzee             Human\n",
       "228  Gorilla  Chimpanzee        Mandrillus\n",
       "229  Gorilla  Chimpanzee        Mandrillus\n",
       "230  Gorilla  Chimpanzee        Mandrillus\n",
       "231  Gorilla  Chimpanzee        Mandrillus\n",
       "\n",
       "[232 rows x 3 columns]"
      ]
     },
     "execution_count": 9,
     "metadata": {},
     "output_type": "execute_result"
    }
   ],
   "source": [
    "df_preds[[\"pred_1\", \"pred_2\", \"pred_3\"]]"
   ]
  },
  {
   "cell_type": "code",
   "execution_count": 10,
   "metadata": {},
   "outputs": [],
   "source": [
    "correct_top1 = (df_preds.pred_1 == \"Gorilla\").sum()\n",
    "correct_top3 = ((df_preds.pred_1 == \"Gorilla\") | (df_preds.pred_2 == \"Gorilla\") | (df_preds.pred_3 == \"Gorilla\")).sum()\n",
    "all_count = len(df_preds)"
   ]
  },
  {
   "cell_type": "code",
   "execution_count": 11,
   "metadata": {},
   "outputs": [
    {
     "name": "stdout",
     "output_type": "stream",
     "text": [
      "Top 1 accuracy on Gorillas is 93.53448275862068%\n",
      "Top 3 accuracy on Gorillas is 100.0%\n"
     ]
    }
   ],
   "source": [
    "print(f\"Top 1 accuracy on Gorillas is {correct_top1 / all_count * 100}%\")\n",
    "print(f\"Top 3 accuracy on Gorillas is {correct_top3 / all_count * 100}%\")"
   ]
  },
  {
   "cell_type": "markdown",
   "metadata": {},
   "source": [
    "# Chimps"
   ]
  },
  {
   "cell_type": "code",
   "execution_count": 12,
   "metadata": {},
   "outputs": [],
   "source": [
    "learn = load_learner(\"gabon_wildlife_wwf_retrain/saved_models/\",\"stage4f-5epochs-576_768-rescaled.pkl\", test=chimps).to_fp16()"
   ]
  },
  {
   "cell_type": "code",
   "execution_count": 13,
   "metadata": {},
   "outputs": [
    {
     "data": {
      "text/html": [],
      "text/plain": [
       "<IPython.core.display.HTML object>"
      ]
     },
     "metadata": {},
     "output_type": "display_data"
    }
   ],
   "source": [
    "preds, y = learn.get_preds(ds_type=DatasetType.Test)"
   ]
  },
  {
   "cell_type": "code",
   "execution_count": 14,
   "metadata": {},
   "outputs": [],
   "source": [
    "preds = pd.DataFrame(\n",
    "        np.stack(preds),\n",
    "        columns=learn.data.classes)"
   ]
  },
  {
   "cell_type": "code",
   "execution_count": 15,
   "metadata": {},
   "outputs": [],
   "source": [
    "sort_classes = sorted(learn.data.classes)\n",
    "df_preds = preds.copy()\n",
    "ranks = df_preds.rank(axis=1,method='dense', ascending=False).astype(int)\n",
    "\n",
    "df_preds[\"pred_1\"] = pd.Series(ranks.where(ranks==1).notnull().values.nonzero()[1]).apply(lambda x: sort_classes[x])\n",
    "df_preds[\"pred_2\"] = pd.Series(ranks.where(ranks==2).notnull().values.nonzero()[1]).apply(lambda x: sort_classes[x])\n",
    "df_preds[\"pred_3\"] = pd.Series(ranks.where(ranks==3).notnull().values.nonzero()[1]).apply(lambda x: sort_classes[x])\n",
    "\n",
    "df_preds[\"score_1\"] = df_preds.apply(lambda x: x[x.pred_1], axis=1)\n",
    "df_preds[\"score_2\"] = df_preds.apply(lambda x: x[x.pred_2], axis=1)\n",
    "df_preds[\"score_3\"] = df_preds.apply(lambda x: x[x.pred_3], axis=1)"
   ]
  },
  {
   "cell_type": "code",
   "execution_count": 16,
   "metadata": {},
   "outputs": [
    {
     "data": {
      "text/html": [
       "<div>\n",
       "<style scoped>\n",
       "    .dataframe tbody tr th:only-of-type {\n",
       "        vertical-align: middle;\n",
       "    }\n",
       "\n",
       "    .dataframe tbody tr th {\n",
       "        vertical-align: top;\n",
       "    }\n",
       "\n",
       "    .dataframe thead th {\n",
       "        text-align: right;\n",
       "    }\n",
       "</style>\n",
       "<table border=\"1\" class=\"dataframe\">\n",
       "  <thead>\n",
       "    <tr style=\"text-align: right;\">\n",
       "      <th></th>\n",
       "      <th>pred_1</th>\n",
       "      <th>pred_2</th>\n",
       "      <th>pred_3</th>\n",
       "    </tr>\n",
       "  </thead>\n",
       "  <tbody>\n",
       "    <tr>\n",
       "      <th>0</th>\n",
       "      <td>Chimpanzee</td>\n",
       "      <td>Gorilla</td>\n",
       "      <td>Mongoose</td>\n",
       "    </tr>\n",
       "    <tr>\n",
       "      <th>1</th>\n",
       "      <td>Chimpanzee</td>\n",
       "      <td>Gorilla</td>\n",
       "      <td>Elephant_African</td>\n",
       "    </tr>\n",
       "    <tr>\n",
       "      <th>2</th>\n",
       "      <td>Chimpanzee</td>\n",
       "      <td>Gorilla</td>\n",
       "      <td>Elephant_African</td>\n",
       "    </tr>\n",
       "    <tr>\n",
       "      <th>3</th>\n",
       "      <td>Chimpanzee</td>\n",
       "      <td>Gorilla</td>\n",
       "      <td>Human</td>\n",
       "    </tr>\n",
       "    <tr>\n",
       "      <th>4</th>\n",
       "      <td>Chimpanzee</td>\n",
       "      <td>Gorilla</td>\n",
       "      <td>Mongoose</td>\n",
       "    </tr>\n",
       "    <tr>\n",
       "      <th>...</th>\n",
       "      <td>...</td>\n",
       "      <td>...</td>\n",
       "      <td>...</td>\n",
       "    </tr>\n",
       "    <tr>\n",
       "      <th>982</th>\n",
       "      <td>Chimpanzee</td>\n",
       "      <td>Gorilla</td>\n",
       "      <td>Duiker_Yellow_Backed</td>\n",
       "    </tr>\n",
       "    <tr>\n",
       "      <th>983</th>\n",
       "      <td>Chimpanzee</td>\n",
       "      <td>Gorilla</td>\n",
       "      <td>Mandrillus</td>\n",
       "    </tr>\n",
       "    <tr>\n",
       "      <th>984</th>\n",
       "      <td>Chimpanzee</td>\n",
       "      <td>Gorilla</td>\n",
       "      <td>Duiker_Red</td>\n",
       "    </tr>\n",
       "    <tr>\n",
       "      <th>985</th>\n",
       "      <td>Chimpanzee</td>\n",
       "      <td>Gorilla</td>\n",
       "      <td>Mongoose</td>\n",
       "    </tr>\n",
       "    <tr>\n",
       "      <th>986</th>\n",
       "      <td>Chimpanzee</td>\n",
       "      <td>Gorilla</td>\n",
       "      <td>Duiker_Yellow_Backed</td>\n",
       "    </tr>\n",
       "  </tbody>\n",
       "</table>\n",
       "<p>987 rows × 3 columns</p>\n",
       "</div>"
      ],
      "text/plain": [
       "         pred_1   pred_2                pred_3\n",
       "0    Chimpanzee  Gorilla              Mongoose\n",
       "1    Chimpanzee  Gorilla      Elephant_African\n",
       "2    Chimpanzee  Gorilla      Elephant_African\n",
       "3    Chimpanzee  Gorilla                 Human\n",
       "4    Chimpanzee  Gorilla              Mongoose\n",
       "..          ...      ...                   ...\n",
       "982  Chimpanzee  Gorilla  Duiker_Yellow_Backed\n",
       "983  Chimpanzee  Gorilla            Mandrillus\n",
       "984  Chimpanzee  Gorilla            Duiker_Red\n",
       "985  Chimpanzee  Gorilla              Mongoose\n",
       "986  Chimpanzee  Gorilla  Duiker_Yellow_Backed\n",
       "\n",
       "[987 rows x 3 columns]"
      ]
     },
     "execution_count": 16,
     "metadata": {},
     "output_type": "execute_result"
    }
   ],
   "source": [
    "df_preds[[\"pred_1\", \"pred_2\", \"pred_3\"]]"
   ]
  },
  {
   "cell_type": "code",
   "execution_count": 17,
   "metadata": {},
   "outputs": [],
   "source": [
    "correct_top1 = (df_preds.pred_1 == \"Chimpanzee\").sum()\n",
    "correct_top3 = ((df_preds.pred_1 == \"Chimpanzee\") | (df_preds.pred_2 == \"Chimpanzee\") | (df_preds.pred_3 == \"Chimpanzee\")).sum()\n",
    "all_count = len(df_preds)"
   ]
  },
  {
   "cell_type": "code",
   "execution_count": 18,
   "metadata": {},
   "outputs": [
    {
     "name": "stdout",
     "output_type": "stream",
     "text": [
      "Top 1 accuracy on Chimpanzees is 99.3920972644377%\n",
      "Top 3 accuracy on Chimpanzees is 100.0%\n"
     ]
    }
   ],
   "source": [
    "print(f\"Top 1 accuracy on Chimpanzees is {correct_top1 / all_count * 100}%\")\n",
    "print(f\"Top 3 accuracy on Chimpanzees is {correct_top3 / all_count * 100}%\")"
   ]
  },
  {
   "cell_type": "code",
   "execution_count": null,
   "metadata": {},
   "outputs": [],
   "source": []
  }
 ],
 "metadata": {
  "environment": {
   "name": "pytorch-gpu.1-4.m46",
   "type": "gcloud",
   "uri": "gcr.io/deeplearning-platform-release/pytorch-gpu.1-4:m46"
  },
  "kernelspec": {
   "display_name": "Python 3",
   "language": "python",
   "name": "python3"
  },
  "language_info": {
   "codemirror_mode": {
    "name": "ipython",
    "version": 3
   },
   "file_extension": ".py",
   "mimetype": "text/x-python",
   "name": "python",
   "nbconvert_exporter": "python",
   "pygments_lexer": "ipython3",
   "version": "3.7.6"
  }
 },
 "nbformat": 4,
 "nbformat_minor": 4
}
