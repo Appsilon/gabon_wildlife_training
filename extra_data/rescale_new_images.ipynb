{
 "cells": [
  {
   "cell_type": "code",
   "execution_count": 3,
   "metadata": {},
   "outputs": [],
   "source": [
    "# ! pip install piexif"
   ]
  },
  {
   "cell_type": "code",
   "execution_count": 14,
   "metadata": {},
   "outputs": [],
   "source": [
    "import os\n",
    "import piexif\n",
    "\n",
    "from tqdm.notebook import tqdm\n",
    "from PIL import Image\n",
    "\n",
    "from joblib import Parallel, delayed\n",
    "\n",
    "from PIL import ImageFile\n",
    "ImageFile.LOAD_TRUNCATED_IMAGES = True\n",
    "\n",
    "from pathlib import Path\n",
    "\n",
    "import pandas as pd"
   ]
  },
  {
   "cell_type": "code",
   "execution_count": 10,
   "metadata": {},
   "outputs": [
    {
     "data": {
      "text/plain": [
       "1219"
      ]
     },
     "execution_count": 10,
     "metadata": {},
     "output_type": "execute_result"
    }
   ],
   "source": [
    "images_to_rescale = [file for file in Path(\"gabon_extra_data/chimpanzee/\").glob(\"*\")] + \\\n",
    "                    [file for file in Path(\"gabon_extra_data/gorilla/\").glob(\"*\")]\n",
    "len(images_to_rescale)"
   ]
  },
  {
   "cell_type": "code",
   "execution_count": 12,
   "metadata": {},
   "outputs": [
    {
     "data": {
      "text/plain": [
       "[(2048, 1536),\n",
       " (1920, 1080),\n",
       " (1920, 1080),\n",
       " (1920, 1080),\n",
       " (1920, 1080),\n",
       " (2048, 1536),\n",
       " (2048, 1536),\n",
       " (2048, 1536),\n",
       " (2048, 1536),\n",
       " (2048, 1536)]"
      ]
     },
     "execution_count": 12,
     "metadata": {},
     "output_type": "execute_result"
    }
   ],
   "source": [
    "sizes = [Image.open(file).size for file in images_to_rescale]\n",
    "sizes[:10]"
   ]
  },
  {
   "cell_type": "code",
   "execution_count": 19,
   "metadata": {},
   "outputs": [
    {
     "data": {
      "text/html": [
       "<div>\n",
       "<style scoped>\n",
       "    .dataframe tbody tr th:only-of-type {\n",
       "        vertical-align: middle;\n",
       "    }\n",
       "\n",
       "    .dataframe tbody tr th {\n",
       "        vertical-align: top;\n",
       "    }\n",
       "\n",
       "    .dataframe thead th {\n",
       "        text-align: right;\n",
       "    }\n",
       "</style>\n",
       "<table border=\"1\" class=\"dataframe\">\n",
       "  <thead>\n",
       "    <tr style=\"text-align: right;\">\n",
       "      <th></th>\n",
       "      <th>uniqueName</th>\n",
       "      <th>x</th>\n",
       "      <th>y</th>\n",
       "    </tr>\n",
       "  </thead>\n",
       "  <tbody>\n",
       "    <tr>\n",
       "      <th>0</th>\n",
       "      <td>gabon_extra_data/chimpanzee/D0526142.JPG</td>\n",
       "      <td>2048</td>\n",
       "      <td>1536</td>\n",
       "    </tr>\n",
       "    <tr>\n",
       "      <th>1</th>\n",
       "      <td>gabon_extra_data/chimpanzee/H1848415.JPG</td>\n",
       "      <td>1920</td>\n",
       "      <td>1080</td>\n",
       "    </tr>\n",
       "    <tr>\n",
       "      <th>2</th>\n",
       "      <td>gabon_extra_data/chimpanzee/J1445261.JPG</td>\n",
       "      <td>1920</td>\n",
       "      <td>1080</td>\n",
       "    </tr>\n",
       "    <tr>\n",
       "      <th>3</th>\n",
       "      <td>gabon_extra_data/chimpanzee/I1048731.JPG</td>\n",
       "      <td>1920</td>\n",
       "      <td>1080</td>\n",
       "    </tr>\n",
       "  </tbody>\n",
       "</table>\n",
       "</div>"
      ],
      "text/plain": [
       "                                 uniqueName     x     y\n",
       "0  gabon_extra_data/chimpanzee/D0526142.JPG  2048  1536\n",
       "1  gabon_extra_data/chimpanzee/H1848415.JPG  1920  1080\n",
       "2  gabon_extra_data/chimpanzee/J1445261.JPG  1920  1080\n",
       "3  gabon_extra_data/chimpanzee/I1048731.JPG  1920  1080"
      ]
     },
     "execution_count": 19,
     "metadata": {},
     "output_type": "execute_result"
    }
   ],
   "source": [
    "images_x_y = pd.DataFrame()\n",
    "images_x_y[\"uniqueName\"] = images_to_rescale\n",
    "images_x_y[\"x\"] = [size[0] for size in sizes]\n",
    "images_x_y[\"y\"] = [size[1] for size in sizes]\n",
    "\n",
    "images_x_y[:4]"
   ]
  },
  {
   "cell_type": "code",
   "execution_count": null,
   "metadata": {},
   "outputs": [],
   "source": []
  },
  {
   "cell_type": "code",
   "execution_count": 48,
   "metadata": {},
   "outputs": [],
   "source": [
    "# PATH_TO_IMG_RESC = Path(\"/data_rescaled/\")\n",
    "PATH_TO_IMG_RESC = Path(\"gabon_extra_data/rescaled_extra\")"
   ]
  },
  {
   "cell_type": "code",
   "execution_count": 53,
   "metadata": {},
   "outputs": [
    {
     "data": {
      "application/vnd.jupyter.widget-view+json": {
       "model_id": "6b69966a86d046e8b4389594be05cf09",
       "version_major": 2,
       "version_minor": 0
      },
      "text/plain": [
       "HBox(children=(FloatProgress(value=0.0, max=1219.0), HTML(value='')))"
      ]
     },
     "metadata": {},
     "output_type": "display_data"
    },
    {
     "name": "stdout",
     "output_type": "stream",
     "text": [
      "\n"
     ]
    }
   ],
   "source": [
    "exceptions = []\n",
    "for i in tqdm(range(len(images_x_y))):\n",
    "    image_x_y = images_x_y.iloc[i,:]\n",
    "    try:\n",
    "        filename = Path(image_x_y[0]).name\n",
    "        new_filename = \"resc_\" + filename\n",
    "        if os.path.isfile(PATH_TO_IMG_RESC / new_filename):\n",
    "            continue\n",
    "        img = Image.open(image_x_y[0])\n",
    "        y = 384\n",
    "        scale = 384 / int(image_x_y[2])\n",
    "        x = round(scale * int(image_x_y[1]))\n",
    "        img = img.resize((x, y), Image.ANTIALIAS)\n",
    "        img.save(PATH_TO_IMG_RESC / new_filename)\n",
    "        piexif.transplant(str(image_x_y[0]), PATH_TO_IMG_RESC / new_filename)\n",
    "    except Exception as e:\n",
    "        exceptions.append([image_x_y, e])"
   ]
  },
  {
   "cell_type": "code",
   "execution_count": 56,
   "metadata": {},
   "outputs": [
    {
     "data": {
      "text/plain": [
       "1211"
      ]
     },
     "execution_count": 56,
     "metadata": {},
     "output_type": "execute_result"
    }
   ],
   "source": [
    "len(exceptions)"
   ]
  },
  {
   "cell_type": "code",
   "execution_count": 59,
   "metadata": {},
   "outputs": [
    {
     "data": {
      "text/html": [
       "<div>\n",
       "<style scoped>\n",
       "    .dataframe tbody tr th:only-of-type {\n",
       "        vertical-align: middle;\n",
       "    }\n",
       "\n",
       "    .dataframe tbody tr th {\n",
       "        vertical-align: top;\n",
       "    }\n",
       "\n",
       "    .dataframe thead th {\n",
       "        text-align: right;\n",
       "    }\n",
       "</style>\n",
       "<table border=\"1\" class=\"dataframe\">\n",
       "  <thead>\n",
       "    <tr style=\"text-align: right;\">\n",
       "      <th></th>\n",
       "      <th>uniqueName</th>\n",
       "      <th>species</th>\n",
       "      <th>main_folder</th>\n",
       "      <th>is_valid</th>\n",
       "      <th>sub_folder</th>\n",
       "    </tr>\n",
       "  </thead>\n",
       "  <tbody>\n",
       "    <tr>\n",
       "      <th>0</th>\n",
       "      <td>0000005.jpg</td>\n",
       "      <td>Human</td>\n",
       "      <td>Compressed Camera Trap Images</td>\n",
       "      <td>False</td>\n",
       "      <td>T33</td>\n",
       "    </tr>\n",
       "    <tr>\n",
       "      <th>1</th>\n",
       "      <td>0000007.jpg</td>\n",
       "      <td>Human</td>\n",
       "      <td>Compressed Camera Trap Images</td>\n",
       "      <td>False</td>\n",
       "      <td>T33</td>\n",
       "    </tr>\n",
       "    <tr>\n",
       "      <th>2</th>\n",
       "      <td>0000009.jpg</td>\n",
       "      <td>Human</td>\n",
       "      <td>Compressed Camera Trap Images</td>\n",
       "      <td>False</td>\n",
       "      <td>T33</td>\n",
       "    </tr>\n",
       "    <tr>\n",
       "      <th>3</th>\n",
       "      <td>0000013.jpg</td>\n",
       "      <td>Human</td>\n",
       "      <td>Compressed Camera Trap Images</td>\n",
       "      <td>False</td>\n",
       "      <td>T33</td>\n",
       "    </tr>\n",
       "    <tr>\n",
       "      <th>4</th>\n",
       "      <td>0000015.jpg</td>\n",
       "      <td>Human</td>\n",
       "      <td>Compressed Camera Trap Images</td>\n",
       "      <td>False</td>\n",
       "      <td>T33</td>\n",
       "    </tr>\n",
       "    <tr>\n",
       "      <th>...</th>\n",
       "      <td>...</td>\n",
       "      <td>...</td>\n",
       "      <td>...</td>\n",
       "      <td>...</td>\n",
       "      <td>...</td>\n",
       "    </tr>\n",
       "    <tr>\n",
       "      <th>348149</th>\n",
       "      <td>K0758088.JPG</td>\n",
       "      <td>Gorilla</td>\n",
       "      <td>extra_data</td>\n",
       "      <td>False</td>\n",
       "      <td>not_specified</td>\n",
       "    </tr>\n",
       "    <tr>\n",
       "      <th>348150</th>\n",
       "      <td>F2451519.JPG</td>\n",
       "      <td>Gorilla</td>\n",
       "      <td>extra_data</td>\n",
       "      <td>False</td>\n",
       "      <td>not_specified</td>\n",
       "    </tr>\n",
       "    <tr>\n",
       "      <th>348151</th>\n",
       "      <td>J2559677.JPG</td>\n",
       "      <td>Gorilla</td>\n",
       "      <td>extra_data</td>\n",
       "      <td>False</td>\n",
       "      <td>not_specified</td>\n",
       "    </tr>\n",
       "    <tr>\n",
       "      <th>348152</th>\n",
       "      <td>I2831434.JPG</td>\n",
       "      <td>Gorilla</td>\n",
       "      <td>extra_data</td>\n",
       "      <td>False</td>\n",
       "      <td>not_specified</td>\n",
       "    </tr>\n",
       "    <tr>\n",
       "      <th>348153</th>\n",
       "      <td>J2961809.JPG</td>\n",
       "      <td>Gorilla</td>\n",
       "      <td>extra_data</td>\n",
       "      <td>False</td>\n",
       "      <td>not_specified</td>\n",
       "    </tr>\n",
       "  </tbody>\n",
       "</table>\n",
       "<p>348154 rows × 5 columns</p>\n",
       "</div>"
      ],
      "text/plain": [
       "          uniqueName  species                    main_folder  is_valid  \\\n",
       "0        0000005.jpg    Human  Compressed Camera Trap Images     False   \n",
       "1        0000007.jpg    Human  Compressed Camera Trap Images     False   \n",
       "2        0000009.jpg    Human  Compressed Camera Trap Images     False   \n",
       "3        0000013.jpg    Human  Compressed Camera Trap Images     False   \n",
       "4        0000015.jpg    Human  Compressed Camera Trap Images     False   \n",
       "...              ...      ...                            ...       ...   \n",
       "348149  K0758088.JPG  Gorilla                     extra_data     False   \n",
       "348150  F2451519.JPG  Gorilla                     extra_data     False   \n",
       "348151  J2559677.JPG  Gorilla                     extra_data     False   \n",
       "348152  I2831434.JPG  Gorilla                     extra_data     False   \n",
       "348153  J2961809.JPG  Gorilla                     extra_data     False   \n",
       "\n",
       "           sub_folder  \n",
       "0                 T33  \n",
       "1                 T33  \n",
       "2                 T33  \n",
       "3                 T33  \n",
       "4                 T33  \n",
       "...               ...  \n",
       "348149  not_specified  \n",
       "348150  not_specified  \n",
       "348151  not_specified  \n",
       "348152  not_specified  \n",
       "348153  not_specified  \n",
       "\n",
       "[348154 rows x 5 columns]"
      ]
     },
     "execution_count": 59,
     "metadata": {},
     "output_type": "execute_result"
    }
   ],
   "source": [
    "df = pd.read_csv(\"gabon_extra_data/train_valid_df_200722.csv\")\n",
    "df"
   ]
  },
  {
   "cell_type": "code",
   "execution_count": 61,
   "metadata": {},
   "outputs": [
    {
     "data": {
      "text/plain": [
       "1213"
      ]
     },
     "execution_count": 61,
     "metadata": {},
     "output_type": "execute_result"
    }
   ],
   "source": [
    "len(set(df.uniqueName).intersection(set([file.name for file in images_to_rescale])))"
   ]
  },
  {
   "cell_type": "code",
   "execution_count": 62,
   "metadata": {},
   "outputs": [
    {
     "data": {
      "text/plain": [
       "1216"
      ]
     },
     "execution_count": 62,
     "metadata": {},
     "output_type": "execute_result"
    }
   ],
   "source": [
    "len(set([file.name for file in images_to_rescale]))"
   ]
  },
  {
   "cell_type": "code",
   "execution_count": null,
   "metadata": {},
   "outputs": [],
   "source": []
  }
 ],
 "metadata": {
  "environment": {
   "name": "pytorch-gpu.1-4.m46",
   "type": "gcloud",
   "uri": "gcr.io/deeplearning-platform-release/pytorch-gpu.1-4:m46"
  },
  "kernelspec": {
   "display_name": "Python 3",
   "language": "python",
   "name": "python3"
  },
  "language_info": {
   "codemirror_mode": {
    "name": "ipython",
    "version": 3
   },
   "file_extension": ".py",
   "mimetype": "text/x-python",
   "name": "python",
   "nbconvert_exporter": "python",
   "pygments_lexer": "ipython3",
   "version": "3.7.6"
  }
 },
 "nbformat": 4,
 "nbformat_minor": 4
}
