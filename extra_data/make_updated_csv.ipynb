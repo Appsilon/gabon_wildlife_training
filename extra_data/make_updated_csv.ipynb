{
 "cells": [
  {
   "cell_type": "markdown",
   "metadata": {},
   "source": [
    "In this notebook we update the csv used for defining the training set with:\n",
    "* we remove the Monkeys from Compressed images folder as they are a mixture of Gorillas, Chimps etc.\n",
    "* we incorporate the extra_data from Robbie: the ~1200 Chimps and Gorillas (warning 3 images are labelled as both - so we include them in neither category"
   ]
  },
  {
   "cell_type": "code",
   "execution_count": 22,
   "metadata": {},
   "outputs": [],
   "source": [
    "import pandas as pd\n",
    "from pathlib import Path\n",
    "import shutil"
   ]
  },
  {
   "cell_type": "code",
   "execution_count": 15,
   "metadata": {},
   "outputs": [],
   "source": [
    "path_chimps = Path(\"gabon_extra_data/chimpanzee/\")\n",
    "path_gorillas = Path(\"gabon_extra_data/gorilla/\")"
   ]
  },
  {
   "cell_type": "code",
   "execution_count": 3,
   "metadata": {},
   "outputs": [
    {
     "data": {
      "text/html": [
       "<div>\n",
       "<style scoped>\n",
       "    .dataframe tbody tr th:only-of-type {\n",
       "        vertical-align: middle;\n",
       "    }\n",
       "\n",
       "    .dataframe tbody tr th {\n",
       "        vertical-align: top;\n",
       "    }\n",
       "\n",
       "    .dataframe thead th {\n",
       "        text-align: right;\n",
       "    }\n",
       "</style>\n",
       "<table border=\"1\" class=\"dataframe\">\n",
       "  <thead>\n",
       "    <tr style=\"text-align: right;\">\n",
       "      <th></th>\n",
       "      <th>uniqueName</th>\n",
       "      <th>species</th>\n",
       "      <th>main_folder</th>\n",
       "      <th>is_valid</th>\n",
       "      <th>sub_folder</th>\n",
       "    </tr>\n",
       "  </thead>\n",
       "  <tbody>\n",
       "    <tr>\n",
       "      <th>0</th>\n",
       "      <td>0000005.jpg</td>\n",
       "      <td>Human</td>\n",
       "      <td>Compressed Camera Trap Images</td>\n",
       "      <td>False</td>\n",
       "      <td>T33</td>\n",
       "    </tr>\n",
       "    <tr>\n",
       "      <th>1</th>\n",
       "      <td>0000007.jpg</td>\n",
       "      <td>Human</td>\n",
       "      <td>Compressed Camera Trap Images</td>\n",
       "      <td>False</td>\n",
       "      <td>T33</td>\n",
       "    </tr>\n",
       "    <tr>\n",
       "      <th>2</th>\n",
       "      <td>0000009.jpg</td>\n",
       "      <td>Human</td>\n",
       "      <td>Compressed Camera Trap Images</td>\n",
       "      <td>False</td>\n",
       "      <td>T33</td>\n",
       "    </tr>\n",
       "    <tr>\n",
       "      <th>3</th>\n",
       "      <td>0000013.jpg</td>\n",
       "      <td>Human</td>\n",
       "      <td>Compressed Camera Trap Images</td>\n",
       "      <td>False</td>\n",
       "      <td>T33</td>\n",
       "    </tr>\n",
       "    <tr>\n",
       "      <th>4</th>\n",
       "      <td>0000015.jpg</td>\n",
       "      <td>Human</td>\n",
       "      <td>Compressed Camera Trap Images</td>\n",
       "      <td>False</td>\n",
       "      <td>T33</td>\n",
       "    </tr>\n",
       "    <tr>\n",
       "      <th>...</th>\n",
       "      <td>...</td>\n",
       "      <td>...</td>\n",
       "      <td>...</td>\n",
       "      <td>...</td>\n",
       "      <td>...</td>\n",
       "    </tr>\n",
       "    <tr>\n",
       "      <th>347115</th>\n",
       "      <td>1529566.jpg</td>\n",
       "      <td>Duiker_Red</td>\n",
       "      <td>allData</td>\n",
       "      <td>False</td>\n",
       "      <td>NouabaleTEAM</td>\n",
       "    </tr>\n",
       "    <tr>\n",
       "      <th>347116</th>\n",
       "      <td>1529571.jpg</td>\n",
       "      <td>Duiker_Red</td>\n",
       "      <td>allData</td>\n",
       "      <td>False</td>\n",
       "      <td>NouabaleTEAM</td>\n",
       "    </tr>\n",
       "    <tr>\n",
       "      <th>347117</th>\n",
       "      <td>1529572.jpg</td>\n",
       "      <td>Duiker_Red</td>\n",
       "      <td>allData</td>\n",
       "      <td>False</td>\n",
       "      <td>NouabaleTEAM</td>\n",
       "    </tr>\n",
       "    <tr>\n",
       "      <th>347118</th>\n",
       "      <td>1529575.jpg</td>\n",
       "      <td>Duiker_Red</td>\n",
       "      <td>allData</td>\n",
       "      <td>False</td>\n",
       "      <td>NouabaleTEAM</td>\n",
       "    </tr>\n",
       "    <tr>\n",
       "      <th>347119</th>\n",
       "      <td>1529576.jpg</td>\n",
       "      <td>Duiker_Red</td>\n",
       "      <td>allData</td>\n",
       "      <td>False</td>\n",
       "      <td>NouabaleTEAM</td>\n",
       "    </tr>\n",
       "  </tbody>\n",
       "</table>\n",
       "<p>347120 rows × 5 columns</p>\n",
       "</div>"
      ],
      "text/plain": [
       "         uniqueName     species                    main_folder  is_valid  \\\n",
       "0       0000005.jpg       Human  Compressed Camera Trap Images     False   \n",
       "1       0000007.jpg       Human  Compressed Camera Trap Images     False   \n",
       "2       0000009.jpg       Human  Compressed Camera Trap Images     False   \n",
       "3       0000013.jpg       Human  Compressed Camera Trap Images     False   \n",
       "4       0000015.jpg       Human  Compressed Camera Trap Images     False   \n",
       "...             ...         ...                            ...       ...   \n",
       "347115  1529566.jpg  Duiker_Red                        allData     False   \n",
       "347116  1529571.jpg  Duiker_Red                        allData     False   \n",
       "347117  1529572.jpg  Duiker_Red                        allData     False   \n",
       "347118  1529575.jpg  Duiker_Red                        allData     False   \n",
       "347119  1529576.jpg  Duiker_Red                        allData     False   \n",
       "\n",
       "          sub_folder  \n",
       "0                T33  \n",
       "1                T33  \n",
       "2                T33  \n",
       "3                T33  \n",
       "4                T33  \n",
       "...              ...  \n",
       "347115  NouabaleTEAM  \n",
       "347116  NouabaleTEAM  \n",
       "347117  NouabaleTEAM  \n",
       "347118  NouabaleTEAM  \n",
       "347119  NouabaleTEAM  \n",
       "\n",
       "[347120 rows x 5 columns]"
      ]
     },
     "execution_count": 3,
     "metadata": {},
     "output_type": "execute_result"
    }
   ],
   "source": [
    "train_df = pd.read_csv(\"gabon_wildlife_training/inspect_data_split_validation/train_valid_df.csv\")\n",
    "train_df"
   ]
  },
  {
   "cell_type": "code",
   "execution_count": 13,
   "metadata": {},
   "outputs": [
    {
     "data": {
      "text/plain": [
       "987"
      ]
     },
     "execution_count": 13,
     "metadata": {},
     "output_type": "execute_result"
    }
   ],
   "source": [
    "new_chimps = [file.name for file in path_chimps.glob(\"*\")]\n",
    "len(new_chimps)"
   ]
  },
  {
   "cell_type": "code",
   "execution_count": 16,
   "metadata": {},
   "outputs": [
    {
     "data": {
      "text/plain": [
       "232"
      ]
     },
     "execution_count": 16,
     "metadata": {},
     "output_type": "execute_result"
    }
   ],
   "source": [
    "new_gorillas = [file.name for file in path_gorillas.glob(\"*\")]\n",
    "len(new_gorillas)"
   ]
  },
  {
   "cell_type": "code",
   "execution_count": 18,
   "metadata": {},
   "outputs": [
    {
     "data": {
      "text/plain": [
       "set()"
      ]
     },
     "execution_count": 18,
     "metadata": {},
     "output_type": "execute_result"
    }
   ],
   "source": [
    "set(train_df.uniqueName).intersection(set(new_chimps))"
   ]
  },
  {
   "cell_type": "code",
   "execution_count": 19,
   "metadata": {},
   "outputs": [
    {
     "data": {
      "text/plain": [
       "set()"
      ]
     },
     "execution_count": 19,
     "metadata": {},
     "output_type": "execute_result"
    }
   ],
   "source": [
    "set(train_df.uniqueName).intersection(set(new_gorillas))"
   ]
  },
  {
   "cell_type": "code",
   "execution_count": 23,
   "metadata": {},
   "outputs": [
    {
     "name": "stdout",
     "output_type": "stream",
     "text": [
      "I0337068.JPG\n",
      "J0460215.JPG\n",
      "F0604107.JPG\n"
     ]
    }
   ],
   "source": [
    "for name in set(new_chimps).intersection(set(new_gorillas)):\n",
    "    print(name)\n",
    "    shutil.copyfile(path_chimps / name, name)"
   ]
  },
  {
   "cell_type": "markdown",
   "metadata": {},
   "source": [
    "**NOTE:** So those three images are labelled both as a Gorilla and as a Chimpanzee - not addind them to the csv, but will add them to the disks."
   ]
  },
  {
   "cell_type": "code",
   "execution_count": 24,
   "metadata": {},
   "outputs": [
    {
     "data": {
      "text/plain": [
       "['I0337068.JPG', 'J0460215.JPG', 'F0604107.JPG']"
      ]
     },
     "execution_count": 24,
     "metadata": {},
     "output_type": "execute_result"
    }
   ],
   "source": [
    "mislabels = list(set(new_chimps).intersection(set(new_gorillas)))\n",
    "mislabels"
   ]
  },
  {
   "cell_type": "code",
   "execution_count": 25,
   "metadata": {},
   "outputs": [
    {
     "name": "stdout",
     "output_type": "stream",
     "text": [
      "984\n",
      "229\n"
     ]
    }
   ],
   "source": [
    "unique_new_gorillas = [file for file in new_gorillas if file not in mislabels]\n",
    "unique_new_chimps = [file for file in new_chimps if file not in mislabels]\n",
    "print(len(unique_new_chimps))\n",
    "print(len(unique_new_gorillas))"
   ]
  },
  {
   "cell_type": "code",
   "execution_count": 26,
   "metadata": {},
   "outputs": [
    {
     "data": {
      "text/html": [
       "<div>\n",
       "<style scoped>\n",
       "    .dataframe tbody tr th:only-of-type {\n",
       "        vertical-align: middle;\n",
       "    }\n",
       "\n",
       "    .dataframe tbody tr th {\n",
       "        vertical-align: top;\n",
       "    }\n",
       "\n",
       "    .dataframe thead th {\n",
       "        text-align: right;\n",
       "    }\n",
       "</style>\n",
       "<table border=\"1\" class=\"dataframe\">\n",
       "  <thead>\n",
       "    <tr style=\"text-align: right;\">\n",
       "      <th></th>\n",
       "      <th>uniqueName</th>\n",
       "      <th>species</th>\n",
       "      <th>main_folder</th>\n",
       "      <th>is_valid</th>\n",
       "      <th>sub_folder</th>\n",
       "    </tr>\n",
       "  </thead>\n",
       "  <tbody>\n",
       "    <tr>\n",
       "      <th>0</th>\n",
       "      <td>0000005.jpg</td>\n",
       "      <td>Human</td>\n",
       "      <td>Compressed Camera Trap Images</td>\n",
       "      <td>False</td>\n",
       "      <td>T33</td>\n",
       "    </tr>\n",
       "    <tr>\n",
       "      <th>1</th>\n",
       "      <td>0000007.jpg</td>\n",
       "      <td>Human</td>\n",
       "      <td>Compressed Camera Trap Images</td>\n",
       "      <td>False</td>\n",
       "      <td>T33</td>\n",
       "    </tr>\n",
       "    <tr>\n",
       "      <th>2</th>\n",
       "      <td>0000009.jpg</td>\n",
       "      <td>Human</td>\n",
       "      <td>Compressed Camera Trap Images</td>\n",
       "      <td>False</td>\n",
       "      <td>T33</td>\n",
       "    </tr>\n",
       "    <tr>\n",
       "      <th>3</th>\n",
       "      <td>0000013.jpg</td>\n",
       "      <td>Human</td>\n",
       "      <td>Compressed Camera Trap Images</td>\n",
       "      <td>False</td>\n",
       "      <td>T33</td>\n",
       "    </tr>\n",
       "    <tr>\n",
       "      <th>4</th>\n",
       "      <td>0000015.jpg</td>\n",
       "      <td>Human</td>\n",
       "      <td>Compressed Camera Trap Images</td>\n",
       "      <td>False</td>\n",
       "      <td>T33</td>\n",
       "    </tr>\n",
       "  </tbody>\n",
       "</table>\n",
       "</div>"
      ],
      "text/plain": [
       "    uniqueName species                    main_folder  is_valid sub_folder\n",
       "0  0000005.jpg   Human  Compressed Camera Trap Images     False        T33\n",
       "1  0000007.jpg   Human  Compressed Camera Trap Images     False        T33\n",
       "2  0000009.jpg   Human  Compressed Camera Trap Images     False        T33\n",
       "3  0000013.jpg   Human  Compressed Camera Trap Images     False        T33\n",
       "4  0000015.jpg   Human  Compressed Camera Trap Images     False        T33"
      ]
     },
     "execution_count": 26,
     "metadata": {},
     "output_type": "execute_result"
    }
   ],
   "source": [
    "train_df.head()"
   ]
  },
  {
   "cell_type": "code",
   "execution_count": 33,
   "metadata": {},
   "outputs": [
    {
     "data": {
      "text/html": [
       "<div>\n",
       "<style scoped>\n",
       "    .dataframe tbody tr th:only-of-type {\n",
       "        vertical-align: middle;\n",
       "    }\n",
       "\n",
       "    .dataframe tbody tr th {\n",
       "        vertical-align: top;\n",
       "    }\n",
       "\n",
       "    .dataframe thead th {\n",
       "        text-align: right;\n",
       "    }\n",
       "</style>\n",
       "<table border=\"1\" class=\"dataframe\">\n",
       "  <thead>\n",
       "    <tr style=\"text-align: right;\">\n",
       "      <th></th>\n",
       "      <th>uniqueName</th>\n",
       "      <th>species</th>\n",
       "      <th>main_folder</th>\n",
       "      <th>sub_folder</th>\n",
       "      <th>is_valid</th>\n",
       "    </tr>\n",
       "  </thead>\n",
       "  <tbody>\n",
       "    <tr>\n",
       "      <th>0</th>\n",
       "      <td>D0526142.JPG</td>\n",
       "      <td>Chimpanzee</td>\n",
       "      <td>extra_data</td>\n",
       "      <td>not_specified</td>\n",
       "      <td>False</td>\n",
       "    </tr>\n",
       "    <tr>\n",
       "      <th>1</th>\n",
       "      <td>H1848415.JPG</td>\n",
       "      <td>Chimpanzee</td>\n",
       "      <td>extra_data</td>\n",
       "      <td>not_specified</td>\n",
       "      <td>False</td>\n",
       "    </tr>\n",
       "    <tr>\n",
       "      <th>2</th>\n",
       "      <td>J1445261.JPG</td>\n",
       "      <td>Chimpanzee</td>\n",
       "      <td>extra_data</td>\n",
       "      <td>not_specified</td>\n",
       "      <td>False</td>\n",
       "    </tr>\n",
       "    <tr>\n",
       "      <th>3</th>\n",
       "      <td>I1048731.JPG</td>\n",
       "      <td>Chimpanzee</td>\n",
       "      <td>extra_data</td>\n",
       "      <td>not_specified</td>\n",
       "      <td>False</td>\n",
       "    </tr>\n",
       "    <tr>\n",
       "      <th>4</th>\n",
       "      <td>J3141639.JPG</td>\n",
       "      <td>Chimpanzee</td>\n",
       "      <td>extra_data</td>\n",
       "      <td>not_specified</td>\n",
       "      <td>False</td>\n",
       "    </tr>\n",
       "    <tr>\n",
       "      <th>...</th>\n",
       "      <td>...</td>\n",
       "      <td>...</td>\n",
       "      <td>...</td>\n",
       "      <td>...</td>\n",
       "      <td>...</td>\n",
       "    </tr>\n",
       "    <tr>\n",
       "      <th>979</th>\n",
       "      <td>I1759174.JPG</td>\n",
       "      <td>Chimpanzee</td>\n",
       "      <td>extra_data</td>\n",
       "      <td>not_specified</td>\n",
       "      <td>False</td>\n",
       "    </tr>\n",
       "    <tr>\n",
       "      <th>980</th>\n",
       "      <td>J0736165.JPG</td>\n",
       "      <td>Chimpanzee</td>\n",
       "      <td>extra_data</td>\n",
       "      <td>not_specified</td>\n",
       "      <td>False</td>\n",
       "    </tr>\n",
       "    <tr>\n",
       "      <th>981</th>\n",
       "      <td>C0831269.JPG</td>\n",
       "      <td>Chimpanzee</td>\n",
       "      <td>extra_data</td>\n",
       "      <td>not_specified</td>\n",
       "      <td>False</td>\n",
       "    </tr>\n",
       "    <tr>\n",
       "      <th>982</th>\n",
       "      <td>B2562697.JPG</td>\n",
       "      <td>Chimpanzee</td>\n",
       "      <td>extra_data</td>\n",
       "      <td>not_specified</td>\n",
       "      <td>False</td>\n",
       "    </tr>\n",
       "    <tr>\n",
       "      <th>983</th>\n",
       "      <td>J2944087.JPG</td>\n",
       "      <td>Chimpanzee</td>\n",
       "      <td>extra_data</td>\n",
       "      <td>not_specified</td>\n",
       "      <td>False</td>\n",
       "    </tr>\n",
       "  </tbody>\n",
       "</table>\n",
       "<p>984 rows × 5 columns</p>\n",
       "</div>"
      ],
      "text/plain": [
       "       uniqueName     species main_folder     sub_folder  is_valid\n",
       "0    D0526142.JPG  Chimpanzee  extra_data  not_specified     False\n",
       "1    H1848415.JPG  Chimpanzee  extra_data  not_specified     False\n",
       "2    J1445261.JPG  Chimpanzee  extra_data  not_specified     False\n",
       "3    I1048731.JPG  Chimpanzee  extra_data  not_specified     False\n",
       "4    J3141639.JPG  Chimpanzee  extra_data  not_specified     False\n",
       "..            ...         ...         ...            ...       ...\n",
       "979  I1759174.JPG  Chimpanzee  extra_data  not_specified     False\n",
       "980  J0736165.JPG  Chimpanzee  extra_data  not_specified     False\n",
       "981  C0831269.JPG  Chimpanzee  extra_data  not_specified     False\n",
       "982  B2562697.JPG  Chimpanzee  extra_data  not_specified     False\n",
       "983  J2944087.JPG  Chimpanzee  extra_data  not_specified     False\n",
       "\n",
       "[984 rows x 5 columns]"
      ]
     },
     "execution_count": 33,
     "metadata": {},
     "output_type": "execute_result"
    }
   ],
   "source": [
    "chimp_df = pd.DataFrame(unique_new_chimps, columns=[\"uniqueName\"])\n",
    "chimp_df[\"species\"] = \"Chimpanzee\"\n",
    "chimp_df[\"main_folder\"] = \"extra_data\"\n",
    "chimp_df[\"sub_folder\"] = \"not_specified\"\n",
    "chimp_df[\"is_valid\"] = False\n",
    "\n",
    "chimp_df"
   ]
  },
  {
   "cell_type": "code",
   "execution_count": 34,
   "metadata": {},
   "outputs": [
    {
     "data": {
      "text/html": [
       "<div>\n",
       "<style scoped>\n",
       "    .dataframe tbody tr th:only-of-type {\n",
       "        vertical-align: middle;\n",
       "    }\n",
       "\n",
       "    .dataframe tbody tr th {\n",
       "        vertical-align: top;\n",
       "    }\n",
       "\n",
       "    .dataframe thead th {\n",
       "        text-align: right;\n",
       "    }\n",
       "</style>\n",
       "<table border=\"1\" class=\"dataframe\">\n",
       "  <thead>\n",
       "    <tr style=\"text-align: right;\">\n",
       "      <th></th>\n",
       "      <th>uniqueName</th>\n",
       "      <th>species</th>\n",
       "      <th>main_folder</th>\n",
       "      <th>sub_folder</th>\n",
       "      <th>is_valid</th>\n",
       "    </tr>\n",
       "  </thead>\n",
       "  <tbody>\n",
       "    <tr>\n",
       "      <th>0</th>\n",
       "      <td>J3149667.JPG</td>\n",
       "      <td>Gorilla</td>\n",
       "      <td>extra_data</td>\n",
       "      <td>not_specified</td>\n",
       "      <td>False</td>\n",
       "    </tr>\n",
       "    <tr>\n",
       "      <th>1</th>\n",
       "      <td>G1658885.JPG</td>\n",
       "      <td>Gorilla</td>\n",
       "      <td>extra_data</td>\n",
       "      <td>not_specified</td>\n",
       "      <td>False</td>\n",
       "    </tr>\n",
       "    <tr>\n",
       "      <th>2</th>\n",
       "      <td>L0454020.JPG</td>\n",
       "      <td>Gorilla</td>\n",
       "      <td>extra_data</td>\n",
       "      <td>not_specified</td>\n",
       "      <td>False</td>\n",
       "    </tr>\n",
       "    <tr>\n",
       "      <th>3</th>\n",
       "      <td>H1234108.JPG</td>\n",
       "      <td>Gorilla</td>\n",
       "      <td>extra_data</td>\n",
       "      <td>not_specified</td>\n",
       "      <td>False</td>\n",
       "    </tr>\n",
       "    <tr>\n",
       "      <th>4</th>\n",
       "      <td>D2278316.JPG</td>\n",
       "      <td>Gorilla</td>\n",
       "      <td>extra_data</td>\n",
       "      <td>not_specified</td>\n",
       "      <td>False</td>\n",
       "    </tr>\n",
       "    <tr>\n",
       "      <th>...</th>\n",
       "      <td>...</td>\n",
       "      <td>...</td>\n",
       "      <td>...</td>\n",
       "      <td>...</td>\n",
       "      <td>...</td>\n",
       "    </tr>\n",
       "    <tr>\n",
       "      <th>224</th>\n",
       "      <td>K0758088.JPG</td>\n",
       "      <td>Gorilla</td>\n",
       "      <td>extra_data</td>\n",
       "      <td>not_specified</td>\n",
       "      <td>False</td>\n",
       "    </tr>\n",
       "    <tr>\n",
       "      <th>225</th>\n",
       "      <td>F2451519.JPG</td>\n",
       "      <td>Gorilla</td>\n",
       "      <td>extra_data</td>\n",
       "      <td>not_specified</td>\n",
       "      <td>False</td>\n",
       "    </tr>\n",
       "    <tr>\n",
       "      <th>226</th>\n",
       "      <td>J2559677.JPG</td>\n",
       "      <td>Gorilla</td>\n",
       "      <td>extra_data</td>\n",
       "      <td>not_specified</td>\n",
       "      <td>False</td>\n",
       "    </tr>\n",
       "    <tr>\n",
       "      <th>227</th>\n",
       "      <td>I2831434.JPG</td>\n",
       "      <td>Gorilla</td>\n",
       "      <td>extra_data</td>\n",
       "      <td>not_specified</td>\n",
       "      <td>False</td>\n",
       "    </tr>\n",
       "    <tr>\n",
       "      <th>228</th>\n",
       "      <td>J2961809.JPG</td>\n",
       "      <td>Gorilla</td>\n",
       "      <td>extra_data</td>\n",
       "      <td>not_specified</td>\n",
       "      <td>False</td>\n",
       "    </tr>\n",
       "  </tbody>\n",
       "</table>\n",
       "<p>229 rows × 5 columns</p>\n",
       "</div>"
      ],
      "text/plain": [
       "       uniqueName  species main_folder     sub_folder  is_valid\n",
       "0    J3149667.JPG  Gorilla  extra_data  not_specified     False\n",
       "1    G1658885.JPG  Gorilla  extra_data  not_specified     False\n",
       "2    L0454020.JPG  Gorilla  extra_data  not_specified     False\n",
       "3    H1234108.JPG  Gorilla  extra_data  not_specified     False\n",
       "4    D2278316.JPG  Gorilla  extra_data  not_specified     False\n",
       "..            ...      ...         ...            ...       ...\n",
       "224  K0758088.JPG  Gorilla  extra_data  not_specified     False\n",
       "225  F2451519.JPG  Gorilla  extra_data  not_specified     False\n",
       "226  J2559677.JPG  Gorilla  extra_data  not_specified     False\n",
       "227  I2831434.JPG  Gorilla  extra_data  not_specified     False\n",
       "228  J2961809.JPG  Gorilla  extra_data  not_specified     False\n",
       "\n",
       "[229 rows x 5 columns]"
      ]
     },
     "execution_count": 34,
     "metadata": {},
     "output_type": "execute_result"
    }
   ],
   "source": [
    "gorilla_df = pd.DataFrame(unique_new_gorillas, columns=[\"uniqueName\"])\n",
    "gorilla_df[\"species\"] = \"Gorilla\"\n",
    "gorilla_df[\"main_folder\"] = \"extra_data\"\n",
    "gorilla_df[\"sub_folder\"] = \"not_specified\"\n",
    "gorilla_df[\"is_valid\"] = False\n",
    "\n",
    "gorilla_df"
   ]
  },
  {
   "cell_type": "code",
   "execution_count": 28,
   "metadata": {},
   "outputs": [
    {
     "data": {
      "text/plain": [
       "Human                     35000\n",
       "Duiker_Blue               35000\n",
       "Elephant_African          35000\n",
       "Blank                     35000\n",
       "Duiker_Red                35000\n",
       "Rat_Giant                 34227\n",
       "Hog_Red_River             26069\n",
       "Duiker_Yellow_Backed      15436\n",
       "Porcupine_Brush_Tailed    13694\n",
       "Guineafowl_Black          12055\n",
       "Squirrel                  11349\n",
       "Mandrillus                 9305\n",
       "Bird                       6649\n",
       "Buffalo_African            6459\n",
       "Mongoose                   5518\n",
       "Chimpanzee                 5260\n",
       "Monkey                     5038\n",
       "Chevrotain_Water           4713\n",
       "Genet                      3303\n",
       "Rail_Nkulengu              3269\n",
       "Leopard_African            2142\n",
       "Guineafowl_Crested         1513\n",
       "Mongoose_Black_Footed      1475\n",
       "Rodent                     1358\n",
       "Gorilla                    1074\n",
       "Civet_African_Palm          936\n",
       "Pangolin                    872\n",
       "Cat_Golden                  406\n",
       "Name: species, dtype: int64"
      ]
     },
     "execution_count": 28,
     "metadata": {},
     "output_type": "execute_result"
    }
   ],
   "source": [
    "train_df.species.value_counts()"
   ]
  },
  {
   "cell_type": "markdown",
   "metadata": {},
   "source": [
    "# Analyze train_df "
   ]
  },
  {
   "cell_type": "code",
   "execution_count": 44,
   "metadata": {},
   "outputs": [],
   "source": [
    "no_compressed_monkey_train_df = train_df[(train_df.main_folder != \"Compressed Camera Trap Images\") |\n",
    "                                         ((train_df.main_folder == \"Compressed Camera Trap Images\") &\n",
    "                                          (train_df.species != \"Monkey\"))]"
   ]
  },
  {
   "cell_type": "markdown",
   "metadata": {},
   "source": [
    "# Merge"
   ]
  },
  {
   "cell_type": "code",
   "execution_count": 47,
   "metadata": {},
   "outputs": [
    {
     "data": {
      "text/html": [
       "<div>\n",
       "<style scoped>\n",
       "    .dataframe tbody tr th:only-of-type {\n",
       "        vertical-align: middle;\n",
       "    }\n",
       "\n",
       "    .dataframe tbody tr th {\n",
       "        vertical-align: top;\n",
       "    }\n",
       "\n",
       "    .dataframe thead th {\n",
       "        text-align: right;\n",
       "    }\n",
       "</style>\n",
       "<table border=\"1\" class=\"dataframe\">\n",
       "  <thead>\n",
       "    <tr style=\"text-align: right;\">\n",
       "      <th></th>\n",
       "      <th>uniqueName</th>\n",
       "      <th>species</th>\n",
       "      <th>main_folder</th>\n",
       "      <th>is_valid</th>\n",
       "      <th>sub_folder</th>\n",
       "    </tr>\n",
       "  </thead>\n",
       "  <tbody>\n",
       "    <tr>\n",
       "      <th>0</th>\n",
       "      <td>0000005.jpg</td>\n",
       "      <td>Human</td>\n",
       "      <td>Compressed Camera Trap Images</td>\n",
       "      <td>False</td>\n",
       "      <td>T33</td>\n",
       "    </tr>\n",
       "    <tr>\n",
       "      <th>1</th>\n",
       "      <td>0000007.jpg</td>\n",
       "      <td>Human</td>\n",
       "      <td>Compressed Camera Trap Images</td>\n",
       "      <td>False</td>\n",
       "      <td>T33</td>\n",
       "    </tr>\n",
       "    <tr>\n",
       "      <th>2</th>\n",
       "      <td>0000009.jpg</td>\n",
       "      <td>Human</td>\n",
       "      <td>Compressed Camera Trap Images</td>\n",
       "      <td>False</td>\n",
       "      <td>T33</td>\n",
       "    </tr>\n",
       "    <tr>\n",
       "      <th>3</th>\n",
       "      <td>0000013.jpg</td>\n",
       "      <td>Human</td>\n",
       "      <td>Compressed Camera Trap Images</td>\n",
       "      <td>False</td>\n",
       "      <td>T33</td>\n",
       "    </tr>\n",
       "    <tr>\n",
       "      <th>4</th>\n",
       "      <td>0000015.jpg</td>\n",
       "      <td>Human</td>\n",
       "      <td>Compressed Camera Trap Images</td>\n",
       "      <td>False</td>\n",
       "      <td>T33</td>\n",
       "    </tr>\n",
       "    <tr>\n",
       "      <th>...</th>\n",
       "      <td>...</td>\n",
       "      <td>...</td>\n",
       "      <td>...</td>\n",
       "      <td>...</td>\n",
       "      <td>...</td>\n",
       "    </tr>\n",
       "    <tr>\n",
       "      <th>348149</th>\n",
       "      <td>K0758088.JPG</td>\n",
       "      <td>Gorilla</td>\n",
       "      <td>extra_data</td>\n",
       "      <td>False</td>\n",
       "      <td>not_specified</td>\n",
       "    </tr>\n",
       "    <tr>\n",
       "      <th>348150</th>\n",
       "      <td>F2451519.JPG</td>\n",
       "      <td>Gorilla</td>\n",
       "      <td>extra_data</td>\n",
       "      <td>False</td>\n",
       "      <td>not_specified</td>\n",
       "    </tr>\n",
       "    <tr>\n",
       "      <th>348151</th>\n",
       "      <td>J2559677.JPG</td>\n",
       "      <td>Gorilla</td>\n",
       "      <td>extra_data</td>\n",
       "      <td>False</td>\n",
       "      <td>not_specified</td>\n",
       "    </tr>\n",
       "    <tr>\n",
       "      <th>348152</th>\n",
       "      <td>I2831434.JPG</td>\n",
       "      <td>Gorilla</td>\n",
       "      <td>extra_data</td>\n",
       "      <td>False</td>\n",
       "      <td>not_specified</td>\n",
       "    </tr>\n",
       "    <tr>\n",
       "      <th>348153</th>\n",
       "      <td>J2961809.JPG</td>\n",
       "      <td>Gorilla</td>\n",
       "      <td>extra_data</td>\n",
       "      <td>False</td>\n",
       "      <td>not_specified</td>\n",
       "    </tr>\n",
       "  </tbody>\n",
       "</table>\n",
       "<p>348154 rows × 5 columns</p>\n",
       "</div>"
      ],
      "text/plain": [
       "          uniqueName  species                    main_folder  is_valid  \\\n",
       "0        0000005.jpg    Human  Compressed Camera Trap Images     False   \n",
       "1        0000007.jpg    Human  Compressed Camera Trap Images     False   \n",
       "2        0000009.jpg    Human  Compressed Camera Trap Images     False   \n",
       "3        0000013.jpg    Human  Compressed Camera Trap Images     False   \n",
       "4        0000015.jpg    Human  Compressed Camera Trap Images     False   \n",
       "...              ...      ...                            ...       ...   \n",
       "348149  K0758088.JPG  Gorilla                     extra_data     False   \n",
       "348150  F2451519.JPG  Gorilla                     extra_data     False   \n",
       "348151  J2559677.JPG  Gorilla                     extra_data     False   \n",
       "348152  I2831434.JPG  Gorilla                     extra_data     False   \n",
       "348153  J2961809.JPG  Gorilla                     extra_data     False   \n",
       "\n",
       "           sub_folder  \n",
       "0                 T33  \n",
       "1                 T33  \n",
       "2                 T33  \n",
       "3                 T33  \n",
       "4                 T33  \n",
       "...               ...  \n",
       "348149  not_specified  \n",
       "348150  not_specified  \n",
       "348151  not_specified  \n",
       "348152  not_specified  \n",
       "348153  not_specified  \n",
       "\n",
       "[348154 rows x 5 columns]"
      ]
     },
     "execution_count": 47,
     "metadata": {},
     "output_type": "execute_result"
    }
   ],
   "source": [
    "df = pd.concat([no_compressed_monkey_train_df,chimp_df,gorilla_df], ignore_index=True)\n",
    "df"
   ]
  },
  {
   "cell_type": "code",
   "execution_count": 50,
   "metadata": {},
   "outputs": [],
   "source": [
    "df.to_csv(\"gabon_extra_data/train_valid_df_200722.csv\", index=False)"
   ]
  },
  {
   "cell_type": "code",
   "execution_count": 49,
   "metadata": {},
   "outputs": [
    {
     "data": {
      "text/plain": [
       "1213"
      ]
     },
     "execution_count": 49,
     "metadata": {},
     "output_type": "execute_result"
    }
   ],
   "source": [
    "len(chimp_df) + len(gorilla_df)"
   ]
  },
  {
   "cell_type": "code",
   "execution_count": null,
   "metadata": {},
   "outputs": [],
   "source": []
  }
 ],
 "metadata": {
  "environment": {
   "name": "pytorch-gpu.1-4.m46",
   "type": "gcloud",
   "uri": "gcr.io/deeplearning-platform-release/pytorch-gpu.1-4:m46"
  },
  "kernelspec": {
   "display_name": "Python 3",
   "language": "python",
   "name": "python3"
  },
  "language_info": {
   "codemirror_mode": {
    "name": "ipython",
    "version": 3
   },
   "file_extension": ".py",
   "mimetype": "text/x-python",
   "name": "python",
   "nbconvert_exporter": "python",
   "pygments_lexer": "ipython3",
   "version": "3.7.6"
  }
 },
 "nbformat": 4,
 "nbformat_minor": 4
}
