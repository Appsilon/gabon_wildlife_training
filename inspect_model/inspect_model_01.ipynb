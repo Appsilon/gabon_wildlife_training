{
 "cells": [
  {
   "cell_type": "markdown",
   "metadata": {},
   "source": [
    "in this notebook we:\n",
    "* investigate the model (s predictions) for stage2a-5epochs-384_512-rescaled"
   ]
  },
  {
   "cell_type": "code",
   "execution_count": 1,
   "metadata": {},
   "outputs": [],
   "source": [
    "from pathlib import Path\n",
    "import json\n",
    "import logging\n",
    "\n",
    "import numpy as np\n",
    "import pandas as pd\n",
    "\n",
    "from fastai.vision import *\n",
    "\n",
    "import os\n",
    "\n",
    "# import wandb\n",
    "# from wandb.fastai import WandbCallback\n",
    "\n",
    "from IPython.display import Image, display\n",
    "\n",
    "from PIL import ImageFile\n",
    "ImageFile.LOAD_TRUNCATED_IMAGES = True\n",
    "\n",
    "# import configparser\n",
    "\n",
    "# from functions_wandb_no_rescale import *\n",
    "\n",
    "import random"
   ]
  },
  {
   "cell_type": "code",
   "execution_count": 2,
   "metadata": {},
   "outputs": [],
   "source": [
    "HOME_FOLDER_OF_REPO = Path(\"/home/jupyter/repo_gabon_wildlife_training/\")\n",
    "INSPECTED_MODEL_WEIGHTS = HOME_FOLDER_OF_REPO / \"best_models/stage2a-5epochs-384_512-rescaled.pth\""
   ]
  },
  {
   "cell_type": "markdown",
   "metadata": {},
   "source": [
    "#### Load predictions from the model on validation set"
   ]
  },
  {
   "cell_type": "code",
   "execution_count": 3,
   "metadata": {},
   "outputs": [],
   "source": [
    "preds = torch.load(HOME_FOLDER_OF_REPO / \"training/preds-stage2a-5epochs-384_512-rescaled.pt\")"
   ]
  },
  {
   "cell_type": "code",
   "execution_count": 4,
   "metadata": {},
   "outputs": [
    {
     "name": "stdout",
     "output_type": "stream",
     "text": [
      "preds[0].shape = torch.Size([43628, 28])\n",
      "preds[1].shape = torch.Size([43628])\n",
      "preds[2].shape = torch.Size([43628])\n"
     ]
    }
   ],
   "source": [
    "print(f\"preds[0].shape = {preds[0].shape}\")\n",
    "print(f\"preds[1].shape = {preds[1].shape}\")\n",
    "print(f\"preds[2].shape = {preds[2].shape}\")"
   ]
  },
  {
   "cell_type": "code",
   "execution_count": 5,
   "metadata": {},
   "outputs": [
    {
     "data": {
      "text/plain": [
       "tensor([4.6560e-08, 8.7178e-08, 1.7141e-07, 2.9414e-10, 6.6426e-09, 4.3283e-10,\n",
       "        4.1353e-09, 5.5567e-08, 1.9248e-08, 4.7183e-11, 9.5826e-08, 1.3708e-10,\n",
       "        1.2489e-09, 1.0002e-08, 2.6560e-08, 2.8682e-03, 9.9713e-01, 8.5031e-09,\n",
       "        2.2339e-10, 1.6194e-10, 5.6872e-09, 8.8099e-08, 1.3844e-08, 3.3290e-10,\n",
       "        3.0099e-10, 8.8375e-09, 1.1516e-08, 7.8649e-10])"
      ]
     },
     "execution_count": 5,
     "metadata": {},
     "output_type": "execute_result"
    }
   ],
   "source": [
    "preds[0][0]"
   ]
  },
  {
   "cell_type": "code",
   "execution_count": 6,
   "metadata": {},
   "outputs": [
    {
     "data": {
      "text/plain": [
       "[tensor([[4.6560e-08, 8.7178e-08, 1.7141e-07,  ..., 8.8375e-09, 1.1516e-08,\n",
       "          7.8649e-10],\n",
       "         [5.6613e-06, 8.5108e-04, 7.0022e-06,  ..., 4.5152e-03, 2.2992e-05,\n",
       "          7.8514e-06],\n",
       "         [5.0955e-08, 9.9908e-01, 1.1298e-06,  ..., 9.6359e-08, 3.9606e-07,\n",
       "          1.6927e-07],\n",
       "         ...,\n",
       "         [5.5203e-08, 1.0877e-07, 6.9357e-08,  ..., 1.0326e-07, 9.6139e-09,\n",
       "          3.6428e-08],\n",
       "         [9.8681e-02, 1.3292e-03, 4.3274e-05,  ..., 1.7022e-04, 7.8663e-05,\n",
       "          3.4801e-02],\n",
       "         [1.9499e-05, 9.2775e-05, 3.0667e-06,  ..., 3.2713e-06, 4.4004e-05,\n",
       "          2.1881e-03]]),\n",
       " tensor([16, 23,  1,  ...,  9, 27, 18]),\n",
       " tensor([2.8730e-03, 1.7178e-02, 9.1701e-04,  ..., 5.5192e-05, 3.3581e+00,\n",
       "         2.9341e+00])]"
      ]
     },
     "execution_count": 6,
     "metadata": {},
     "output_type": "execute_result"
    }
   ],
   "source": [
    "preds"
   ]
  },
  {
   "cell_type": "markdown",
   "metadata": {},
   "source": [
    "#### load Classes"
   ]
  },
  {
   "cell_type": "code",
   "execution_count": 7,
   "metadata": {},
   "outputs": [
    {
     "data": {
      "text/plain": [
       "['Bird',\n",
       " 'Blank',\n",
       " 'Buffalo_African',\n",
       " 'Cat_Golden',\n",
       " 'Chevrotain_Water',\n",
       " 'Chimpanzee',\n",
       " 'Civet_African_Palm',\n",
       " 'Duiker_Blue',\n",
       " 'Duiker_Red',\n",
       " 'Duiker_Yellow_Backed',\n",
       " 'Elephant_African',\n",
       " 'Genet',\n",
       " 'Gorilla',\n",
       " 'Guineafowl_Black',\n",
       " 'Guineafowl_Crested',\n",
       " 'Hog_Red_River',\n",
       " 'Human',\n",
       " 'Leopard_African',\n",
       " 'Mandrillus',\n",
       " 'Mongoose',\n",
       " 'Mongoose_Black_Footed',\n",
       " 'Monkey',\n",
       " 'Pangolin',\n",
       " 'Porcupine_Brush_Tailed',\n",
       " 'Rail_Nkulengu',\n",
       " 'Rat_Giant',\n",
       " 'Rodent',\n",
       " 'Squirrel']"
      ]
     },
     "execution_count": 7,
     "metadata": {},
     "output_type": "execute_result"
    }
   ],
   "source": [
    "classes = sorted(['Human', 'Blank', 'Elephant_African', 'Hog_Red_River', 'Buffalo_African', 'Leopard_African', 'Monkey',\n",
    "       'Duiker_Red', 'Civet_African_Palm', 'Squirrel', 'Duiker_Blue', 'Bird', 'Mongoose_Black_Footed', 'Rodent',\n",
    "       'Duiker_Yellow_Backed', 'Genet', 'Chimpanzee', 'Gorilla', 'Mongoose', 'Porcupine_Brush_Tailed', 'Pangolin',\n",
    "       'Mandrillus', 'Chevrotain_Water', 'Cat_Golden', 'Rat_Giant', 'Guineafowl_Crested', 'Guineafowl_Black',\n",
    "       'Rail_Nkulengu'])\n",
    "classes"
   ]
  },
  {
   "cell_type": "markdown",
   "metadata": {},
   "source": [
    "#### load images list"
   ]
  },
  {
   "cell_type": "code",
   "execution_count": 8,
   "metadata": {},
   "outputs": [],
   "source": [
    "images_list = np.load(HOME_FOLDER_OF_REPO / \"training/images_list-stage2a-5epochs-384_512-rescaled.pt.npy\")"
   ]
  },
  {
   "cell_type": "code",
   "execution_count": 9,
   "metadata": {},
   "outputs": [
    {
     "data": {
      "text/plain": [
       "array(['/data_rescaled/resc_1039759.jpg', '/data_rescaled/resc_1195784.jpg', '/data_rescaled/resc_0880576.jpg',\n",
       "       '/data_rescaled/resc_1194852.jpg', ..., '/data_rescaled/resc_1186961.jpg', '/data_rescaled/resc_1203146.jpg',\n",
       "       '/data_rescaled/resc_1227618.jpg', '/data_rescaled/resc_1229185.jpg'], dtype='<U32')"
      ]
     },
     "execution_count": 9,
     "metadata": {},
     "output_type": "execute_result"
    }
   ],
   "source": [
    "images_list"
   ]
  },
  {
   "cell_type": "code",
   "execution_count": 10,
   "metadata": {},
   "outputs": [
    {
     "data": {
      "text/plain": [
       "tensor(16)"
      ]
     },
     "execution_count": 10,
     "metadata": {},
     "output_type": "execute_result"
    }
   ],
   "source": [
    "preds[0][0].argmax()"
   ]
  },
  {
   "cell_type": "code",
   "execution_count": 13,
   "metadata": {},
   "outputs": [
    {
     "name": "stdout",
     "output_type": "stream",
     "text": [
      "img: /data_rescaled/resc_1602824.jpg\n",
      "label: Gorilla\n",
      "pred: Chimpanzee\n"
     ]
    },
    {
     "data": {
      "image/jpeg": "[encoded data removed]",
      "text/plain": [
       "<IPython.core.display.Image object>"
      ]
     },
     "execution_count": 13,
     "metadata": {},
     "output_type": "execute_result"
    }
   ],
   "source": [
    "i = 1004\n",
    "print(f\"img: {images_list[i]}\\nlabel: {classes[preds[1][i]]}\\npred: {classes[preds[0][i].argmax()]}\")\n",
    "Image(images_list[i])"
   ]
  },
  {
   "cell_type": "code",
   "execution_count": 14,
   "metadata": {},
   "outputs": [],
   "source": [
    "# cp /data_rescaled/resc_1530368.jpg ./"
   ]
  },
  {
   "cell_type": "markdown",
   "metadata": {},
   "source": [
    "# Build df with predictions"
   ]
  },
  {
   "cell_type": "code",
   "execution_count": 15,
   "metadata": {},
   "outputs": [],
   "source": [
    "df_preds = pd.DataFrame(preds[0].numpy(), columns=classes)"
   ]
  },
  {
   "cell_type": "code",
   "execution_count": 16,
   "metadata": {},
   "outputs": [],
   "source": [
    "# df_preds[\"pred\"] = df_preds.idxmax(axis=1)"
   ]
  },
  {
   "cell_type": "code",
   "execution_count": 17,
   "metadata": {},
   "outputs": [],
   "source": [
    "df_preds[\"label\"] = pd.Series(preds[1]).apply(lambda x: classes[x])"
   ]
  },
  {
   "cell_type": "code",
   "execution_count": 18,
   "metadata": {},
   "outputs": [],
   "source": [
    "df_preds[\"img\"] = images_list"
   ]
  },
  {
   "cell_type": "code",
   "execution_count": 19,
   "metadata": {},
   "outputs": [],
   "source": [
    "df_preds[\"uniqueName\"] = df_preds.img.str.extract(\"\\/(\\d*\\.jpg)$\", expand=True)"
   ]
  },
  {
   "cell_type": "code",
   "execution_count": 20,
   "metadata": {},
   "outputs": [
    {
     "data": {
      "text/html": [
       "<div>\n",
       "<style scoped>\n",
       "    .dataframe tbody tr th:only-of-type {\n",
       "        vertical-align: middle;\n",
       "    }\n",
       "\n",
       "    .dataframe tbody tr th {\n",
       "        vertical-align: top;\n",
       "    }\n",
       "\n",
       "    .dataframe thead th {\n",
       "        text-align: right;\n",
       "    }\n",
       "</style>\n",
       "<table border=\"1\" class=\"dataframe\">\n",
       "  <thead>\n",
       "    <tr style=\"text-align: right;\">\n",
       "      <th></th>\n",
       "      <th>Bird</th>\n",
       "      <th>Blank</th>\n",
       "      <th>Buffalo_African</th>\n",
       "      <th>Cat_Golden</th>\n",
       "      <th>Chevrotain_Water</th>\n",
       "      <th>Chimpanzee</th>\n",
       "      <th>Civet_African_Palm</th>\n",
       "      <th>Duiker_Blue</th>\n",
       "      <th>Duiker_Red</th>\n",
       "      <th>Duiker_Yellow_Backed</th>\n",
       "      <th>...</th>\n",
       "      <th>Monkey</th>\n",
       "      <th>Pangolin</th>\n",
       "      <th>Porcupine_Brush_Tailed</th>\n",
       "      <th>Rail_Nkulengu</th>\n",
       "      <th>Rat_Giant</th>\n",
       "      <th>Rodent</th>\n",
       "      <th>Squirrel</th>\n",
       "      <th>label</th>\n",
       "      <th>img</th>\n",
       "      <th>uniqueName</th>\n",
       "    </tr>\n",
       "  </thead>\n",
       "  <tbody>\n",
       "    <tr>\n",
       "      <th>0</th>\n",
       "      <td>4.655969e-08</td>\n",
       "      <td>8.717845e-08</td>\n",
       "      <td>1.714084e-07</td>\n",
       "      <td>2.941357e-10</td>\n",
       "      <td>6.642564e-09</td>\n",
       "      <td>4.328345e-10</td>\n",
       "      <td>4.135269e-09</td>\n",
       "      <td>5.556704e-08</td>\n",
       "      <td>1.924823e-08</td>\n",
       "      <td>4.718254e-11</td>\n",
       "      <td>...</td>\n",
       "      <td>8.809881e-08</td>\n",
       "      <td>1.384411e-08</td>\n",
       "      <td>3.329004e-10</td>\n",
       "      <td>3.009880e-10</td>\n",
       "      <td>8.837494e-09</td>\n",
       "      <td>1.151556e-08</td>\n",
       "      <td>7.864935e-10</td>\n",
       "      <td>Human</td>\n",
       "      <td>/data_rescaled/resc_1039759.jpg</td>\n",
       "      <td>1039759.jpg</td>\n",
       "    </tr>\n",
       "    <tr>\n",
       "      <th>1</th>\n",
       "      <td>5.661279e-06</td>\n",
       "      <td>8.510786e-04</td>\n",
       "      <td>7.002197e-06</td>\n",
       "      <td>1.580305e-07</td>\n",
       "      <td>2.478688e-03</td>\n",
       "      <td>1.838122e-06</td>\n",
       "      <td>8.551294e-06</td>\n",
       "      <td>7.195574e-05</td>\n",
       "      <td>2.097772e-06</td>\n",
       "      <td>1.497921e-06</td>\n",
       "      <td>...</td>\n",
       "      <td>5.591558e-06</td>\n",
       "      <td>9.453277e-06</td>\n",
       "      <td>9.829690e-01</td>\n",
       "      <td>2.106274e-06</td>\n",
       "      <td>4.515152e-03</td>\n",
       "      <td>2.299214e-05</td>\n",
       "      <td>7.851412e-06</td>\n",
       "      <td>Porcupine_Brush_Tailed</td>\n",
       "      <td>/data_rescaled/resc_1195784.jpg</td>\n",
       "      <td>1195784.jpg</td>\n",
       "    </tr>\n",
       "    <tr>\n",
       "      <th>2</th>\n",
       "      <td>5.095516e-08</td>\n",
       "      <td>9.990834e-01</td>\n",
       "      <td>1.129752e-06</td>\n",
       "      <td>1.137677e-08</td>\n",
       "      <td>1.609592e-08</td>\n",
       "      <td>2.568008e-08</td>\n",
       "      <td>4.873502e-08</td>\n",
       "      <td>1.953605e-07</td>\n",
       "      <td>1.630463e-07</td>\n",
       "      <td>7.535878e-10</td>\n",
       "      <td>...</td>\n",
       "      <td>7.349325e-07</td>\n",
       "      <td>1.120233e-08</td>\n",
       "      <td>5.187915e-08</td>\n",
       "      <td>1.724023e-08</td>\n",
       "      <td>9.635860e-08</td>\n",
       "      <td>3.960613e-07</td>\n",
       "      <td>1.692686e-07</td>\n",
       "      <td>Blank</td>\n",
       "      <td>/data_rescaled/resc_0880576.jpg</td>\n",
       "      <td>0880576.jpg</td>\n",
       "    </tr>\n",
       "    <tr>\n",
       "      <th>3</th>\n",
       "      <td>1.370626e-03</td>\n",
       "      <td>7.104965e-01</td>\n",
       "      <td>6.293981e-03</td>\n",
       "      <td>5.814397e-05</td>\n",
       "      <td>8.215211e-04</td>\n",
       "      <td>2.061178e-04</td>\n",
       "      <td>1.176124e-04</td>\n",
       "      <td>1.942325e-03</td>\n",
       "      <td>3.472823e-04</td>\n",
       "      <td>1.045766e-05</td>\n",
       "      <td>...</td>\n",
       "      <td>4.359819e-03</td>\n",
       "      <td>6.101453e-04</td>\n",
       "      <td>2.748366e-05</td>\n",
       "      <td>8.400722e-04</td>\n",
       "      <td>5.383019e-06</td>\n",
       "      <td>4.612424e-04</td>\n",
       "      <td>1.196688e-03</td>\n",
       "      <td>Monkey</td>\n",
       "      <td>/data_rescaled/resc_1194852.jpg</td>\n",
       "      <td>1194852.jpg</td>\n",
       "    </tr>\n",
       "    <tr>\n",
       "      <th>4</th>\n",
       "      <td>5.872330e-02</td>\n",
       "      <td>3.254626e-04</td>\n",
       "      <td>6.685724e-04</td>\n",
       "      <td>3.376703e-04</td>\n",
       "      <td>1.701453e-03</td>\n",
       "      <td>2.628898e-04</td>\n",
       "      <td>3.934061e-04</td>\n",
       "      <td>2.760512e-01</td>\n",
       "      <td>4.157926e-01</td>\n",
       "      <td>5.745498e-05</td>\n",
       "      <td>...</td>\n",
       "      <td>1.499925e-02</td>\n",
       "      <td>2.872374e-03</td>\n",
       "      <td>1.941458e-04</td>\n",
       "      <td>1.347434e-04</td>\n",
       "      <td>1.612127e-04</td>\n",
       "      <td>3.217414e-04</td>\n",
       "      <td>1.433609e-03</td>\n",
       "      <td>Hog_Red_River</td>\n",
       "      <td>/data_rescaled/resc_1201480.jpg</td>\n",
       "      <td>1201480.jpg</td>\n",
       "    </tr>\n",
       "  </tbody>\n",
       "</table>\n",
       "<p>5 rows × 31 columns</p>\n",
       "</div>"
      ],
      "text/plain": [
       "           Bird         Blank  Buffalo_African    Cat_Golden  \\\n",
       "0  4.655969e-08  8.717845e-08     1.714084e-07  2.941357e-10   \n",
       "1  5.661279e-06  8.510786e-04     7.002197e-06  1.580305e-07   \n",
       "2  5.095516e-08  9.990834e-01     1.129752e-06  1.137677e-08   \n",
       "3  1.370626e-03  7.104965e-01     6.293981e-03  5.814397e-05   \n",
       "4  5.872330e-02  3.254626e-04     6.685724e-04  3.376703e-04   \n",
       "\n",
       "   Chevrotain_Water    Chimpanzee  Civet_African_Palm   Duiker_Blue  \\\n",
       "0      6.642564e-09  4.328345e-10        4.135269e-09  5.556704e-08   \n",
       "1      2.478688e-03  1.838122e-06        8.551294e-06  7.195574e-05   \n",
       "2      1.609592e-08  2.568008e-08        4.873502e-08  1.953605e-07   \n",
       "3      8.215211e-04  2.061178e-04        1.176124e-04  1.942325e-03   \n",
       "4      1.701453e-03  2.628898e-04        3.934061e-04  2.760512e-01   \n",
       "\n",
       "     Duiker_Red  Duiker_Yellow_Backed  ...        Monkey      Pangolin  \\\n",
       "0  1.924823e-08          4.718254e-11  ...  8.809881e-08  1.384411e-08   \n",
       "1  2.097772e-06          1.497921e-06  ...  5.591558e-06  9.453277e-06   \n",
       "2  1.630463e-07          7.535878e-10  ...  7.349325e-07  1.120233e-08   \n",
       "3  3.472823e-04          1.045766e-05  ...  4.359819e-03  6.101453e-04   \n",
       "4  4.157926e-01          5.745498e-05  ...  1.499925e-02  2.872374e-03   \n",
       "\n",
       "   Porcupine_Brush_Tailed  Rail_Nkulengu     Rat_Giant        Rodent  \\\n",
       "0            3.329004e-10   3.009880e-10  8.837494e-09  1.151556e-08   \n",
       "1            9.829690e-01   2.106274e-06  4.515152e-03  2.299214e-05   \n",
       "2            5.187915e-08   1.724023e-08  9.635860e-08  3.960613e-07   \n",
       "3            2.748366e-05   8.400722e-04  5.383019e-06  4.612424e-04   \n",
       "4            1.941458e-04   1.347434e-04  1.612127e-04  3.217414e-04   \n",
       "\n",
       "       Squirrel                   label                              img  \\\n",
       "0  7.864935e-10                   Human  /data_rescaled/resc_1039759.jpg   \n",
       "1  7.851412e-06  Porcupine_Brush_Tailed  /data_rescaled/resc_1195784.jpg   \n",
       "2  1.692686e-07                   Blank  /data_rescaled/resc_0880576.jpg   \n",
       "3  1.196688e-03                  Monkey  /data_rescaled/resc_1194852.jpg   \n",
       "4  1.433609e-03           Hog_Red_River  /data_rescaled/resc_1201480.jpg   \n",
       "\n",
       "    uniqueName  \n",
       "0  1039759.jpg  \n",
       "1  1195784.jpg  \n",
       "2  0880576.jpg  \n",
       "3  1194852.jpg  \n",
       "4  1201480.jpg  \n",
       "\n",
       "[5 rows x 31 columns]"
      ]
     },
     "execution_count": 20,
     "metadata": {},
     "output_type": "execute_result"
    }
   ],
   "source": [
    "df_preds.head()"
   ]
  },
  {
   "cell_type": "markdown",
   "metadata": {},
   "source": [
    "### top3"
   ]
  },
  {
   "cell_type": "code",
   "execution_count": 21,
   "metadata": {},
   "outputs": [],
   "source": [
    "df_preds_only = pd.DataFrame(preds[0].numpy(), columns=classes)\n",
    "ranks = df_preds_only.rank(axis=1,method='dense', ascending=False).astype(int)\n",
    "\n",
    "df_preds[\"pred_1\"] = pd.Series(ranks.where(ranks==1).notnull().values.nonzero()[1]).apply(lambda x: classes[x])\n",
    "df_preds[\"pred_2\"] = pd.Series(ranks.where(ranks==2).notnull().values.nonzero()[1]).apply(lambda x: classes[x])\n",
    "df_preds[\"pred_3\"] = pd.Series(ranks.where(ranks==3).notnull().values.nonzero()[1]).apply(lambda x: classes[x])\n",
    "\n",
    "df_preds[\"score_1\"] = df_preds.apply(lambda x: x[x.pred_1], axis=1)\n",
    "df_preds[\"score_2\"] = df_preds.apply(lambda x: x[x.pred_2], axis=1)\n",
    "df_preds[\"score_3\"] = df_preds.apply(lambda x: x[x.pred_3], axis=1)"
   ]
  },
  {
   "cell_type": "code",
   "execution_count": 22,
   "metadata": {},
   "outputs": [
    {
     "data": {
      "text/html": [
       "<div>\n",
       "<style scoped>\n",
       "    .dataframe tbody tr th:only-of-type {\n",
       "        vertical-align: middle;\n",
       "    }\n",
       "\n",
       "    .dataframe tbody tr th {\n",
       "        vertical-align: top;\n",
       "    }\n",
       "\n",
       "    .dataframe thead th {\n",
       "        text-align: right;\n",
       "    }\n",
       "</style>\n",
       "<table border=\"1\" class=\"dataframe\">\n",
       "  <thead>\n",
       "    <tr style=\"text-align: right;\">\n",
       "      <th></th>\n",
       "      <th>Bird</th>\n",
       "      <th>Blank</th>\n",
       "      <th>Buffalo_African</th>\n",
       "      <th>Cat_Golden</th>\n",
       "      <th>Chevrotain_Water</th>\n",
       "      <th>Chimpanzee</th>\n",
       "      <th>Civet_African_Palm</th>\n",
       "      <th>Duiker_Blue</th>\n",
       "      <th>Duiker_Red</th>\n",
       "      <th>Duiker_Yellow_Backed</th>\n",
       "      <th>...</th>\n",
       "      <th>Squirrel</th>\n",
       "      <th>label</th>\n",
       "      <th>img</th>\n",
       "      <th>uniqueName</th>\n",
       "      <th>pred_1</th>\n",
       "      <th>pred_2</th>\n",
       "      <th>pred_3</th>\n",
       "      <th>score_1</th>\n",
       "      <th>score_2</th>\n",
       "      <th>score_3</th>\n",
       "    </tr>\n",
       "  </thead>\n",
       "  <tbody>\n",
       "    <tr>\n",
       "      <th>0</th>\n",
       "      <td>4.655969e-08</td>\n",
       "      <td>8.717845e-08</td>\n",
       "      <td>1.714084e-07</td>\n",
       "      <td>2.941357e-10</td>\n",
       "      <td>6.642564e-09</td>\n",
       "      <td>4.328345e-10</td>\n",
       "      <td>4.135269e-09</td>\n",
       "      <td>5.556704e-08</td>\n",
       "      <td>1.924823e-08</td>\n",
       "      <td>4.718254e-11</td>\n",
       "      <td>...</td>\n",
       "      <td>7.864935e-10</td>\n",
       "      <td>Human</td>\n",
       "      <td>/data_rescaled/resc_1039759.jpg</td>\n",
       "      <td>1039759.jpg</td>\n",
       "      <td>Human</td>\n",
       "      <td>Hog_Red_River</td>\n",
       "      <td>Buffalo_African</td>\n",
       "      <td>0.997131</td>\n",
       "      <td>0.002868</td>\n",
       "      <td>1.714084e-07</td>\n",
       "    </tr>\n",
       "    <tr>\n",
       "      <th>1</th>\n",
       "      <td>5.661279e-06</td>\n",
       "      <td>8.510786e-04</td>\n",
       "      <td>7.002197e-06</td>\n",
       "      <td>1.580305e-07</td>\n",
       "      <td>2.478688e-03</td>\n",
       "      <td>1.838122e-06</td>\n",
       "      <td>8.551294e-06</td>\n",
       "      <td>7.195574e-05</td>\n",
       "      <td>2.097772e-06</td>\n",
       "      <td>1.497921e-06</td>\n",
       "      <td>...</td>\n",
       "      <td>7.851412e-06</td>\n",
       "      <td>Porcupine_Brush_Tailed</td>\n",
       "      <td>/data_rescaled/resc_1195784.jpg</td>\n",
       "      <td>1195784.jpg</td>\n",
       "      <td>Porcupine_Brush_Tailed</td>\n",
       "      <td>Hog_Red_River</td>\n",
       "      <td>Rat_Giant</td>\n",
       "      <td>0.982969</td>\n",
       "      <td>0.008077</td>\n",
       "      <td>4.515152e-03</td>\n",
       "    </tr>\n",
       "    <tr>\n",
       "      <th>2</th>\n",
       "      <td>5.095516e-08</td>\n",
       "      <td>9.990834e-01</td>\n",
       "      <td>1.129752e-06</td>\n",
       "      <td>1.137677e-08</td>\n",
       "      <td>1.609592e-08</td>\n",
       "      <td>2.568008e-08</td>\n",
       "      <td>4.873502e-08</td>\n",
       "      <td>1.953605e-07</td>\n",
       "      <td>1.630463e-07</td>\n",
       "      <td>7.535878e-10</td>\n",
       "      <td>...</td>\n",
       "      <td>1.692686e-07</td>\n",
       "      <td>Blank</td>\n",
       "      <td>/data_rescaled/resc_0880576.jpg</td>\n",
       "      <td>0880576.jpg</td>\n",
       "      <td>Blank</td>\n",
       "      <td>Human</td>\n",
       "      <td>Elephant_African</td>\n",
       "      <td>0.999083</td>\n",
       "      <td>0.000526</td>\n",
       "      <td>3.863540e-04</td>\n",
       "    </tr>\n",
       "    <tr>\n",
       "      <th>3</th>\n",
       "      <td>1.370626e-03</td>\n",
       "      <td>7.104965e-01</td>\n",
       "      <td>6.293981e-03</td>\n",
       "      <td>5.814397e-05</td>\n",
       "      <td>8.215211e-04</td>\n",
       "      <td>2.061178e-04</td>\n",
       "      <td>1.176124e-04</td>\n",
       "      <td>1.942325e-03</td>\n",
       "      <td>3.472823e-04</td>\n",
       "      <td>1.045766e-05</td>\n",
       "      <td>...</td>\n",
       "      <td>1.196688e-03</td>\n",
       "      <td>Monkey</td>\n",
       "      <td>/data_rescaled/resc_1194852.jpg</td>\n",
       "      <td>1194852.jpg</td>\n",
       "      <td>Blank</td>\n",
       "      <td>Elephant_African</td>\n",
       "      <td>Buffalo_African</td>\n",
       "      <td>0.710497</td>\n",
       "      <td>0.260123</td>\n",
       "      <td>6.293981e-03</td>\n",
       "    </tr>\n",
       "    <tr>\n",
       "      <th>4</th>\n",
       "      <td>5.872330e-02</td>\n",
       "      <td>3.254626e-04</td>\n",
       "      <td>6.685724e-04</td>\n",
       "      <td>3.376703e-04</td>\n",
       "      <td>1.701453e-03</td>\n",
       "      <td>2.628898e-04</td>\n",
       "      <td>3.934061e-04</td>\n",
       "      <td>2.760512e-01</td>\n",
       "      <td>4.157926e-01</td>\n",
       "      <td>5.745498e-05</td>\n",
       "      <td>...</td>\n",
       "      <td>1.433609e-03</td>\n",
       "      <td>Hog_Red_River</td>\n",
       "      <td>/data_rescaled/resc_1201480.jpg</td>\n",
       "      <td>1201480.jpg</td>\n",
       "      <td>Duiker_Red</td>\n",
       "      <td>Duiker_Blue</td>\n",
       "      <td>Hog_Red_River</td>\n",
       "      <td>0.415793</td>\n",
       "      <td>0.276051</td>\n",
       "      <td>2.175805e-01</td>\n",
       "    </tr>\n",
       "  </tbody>\n",
       "</table>\n",
       "<p>5 rows × 37 columns</p>\n",
       "</div>"
      ],
      "text/plain": [
       "           Bird         Blank  Buffalo_African    Cat_Golden  \\\n",
       "0  4.655969e-08  8.717845e-08     1.714084e-07  2.941357e-10   \n",
       "1  5.661279e-06  8.510786e-04     7.002197e-06  1.580305e-07   \n",
       "2  5.095516e-08  9.990834e-01     1.129752e-06  1.137677e-08   \n",
       "3  1.370626e-03  7.104965e-01     6.293981e-03  5.814397e-05   \n",
       "4  5.872330e-02  3.254626e-04     6.685724e-04  3.376703e-04   \n",
       "\n",
       "   Chevrotain_Water    Chimpanzee  Civet_African_Palm   Duiker_Blue  \\\n",
       "0      6.642564e-09  4.328345e-10        4.135269e-09  5.556704e-08   \n",
       "1      2.478688e-03  1.838122e-06        8.551294e-06  7.195574e-05   \n",
       "2      1.609592e-08  2.568008e-08        4.873502e-08  1.953605e-07   \n",
       "3      8.215211e-04  2.061178e-04        1.176124e-04  1.942325e-03   \n",
       "4      1.701453e-03  2.628898e-04        3.934061e-04  2.760512e-01   \n",
       "\n",
       "     Duiker_Red  Duiker_Yellow_Backed  ...      Squirrel  \\\n",
       "0  1.924823e-08          4.718254e-11  ...  7.864935e-10   \n",
       "1  2.097772e-06          1.497921e-06  ...  7.851412e-06   \n",
       "2  1.630463e-07          7.535878e-10  ...  1.692686e-07   \n",
       "3  3.472823e-04          1.045766e-05  ...  1.196688e-03   \n",
       "4  4.157926e-01          5.745498e-05  ...  1.433609e-03   \n",
       "\n",
       "                    label                              img   uniqueName  \\\n",
       "0                   Human  /data_rescaled/resc_1039759.jpg  1039759.jpg   \n",
       "1  Porcupine_Brush_Tailed  /data_rescaled/resc_1195784.jpg  1195784.jpg   \n",
       "2                   Blank  /data_rescaled/resc_0880576.jpg  0880576.jpg   \n",
       "3                  Monkey  /data_rescaled/resc_1194852.jpg  1194852.jpg   \n",
       "4           Hog_Red_River  /data_rescaled/resc_1201480.jpg  1201480.jpg   \n",
       "\n",
       "                   pred_1            pred_2            pred_3   score_1  \\\n",
       "0                   Human     Hog_Red_River   Buffalo_African  0.997131   \n",
       "1  Porcupine_Brush_Tailed     Hog_Red_River         Rat_Giant  0.982969   \n",
       "2                   Blank             Human  Elephant_African  0.999083   \n",
       "3                   Blank  Elephant_African   Buffalo_African  0.710497   \n",
       "4              Duiker_Red       Duiker_Blue     Hog_Red_River  0.415793   \n",
       "\n",
       "    score_2       score_3  \n",
       "0  0.002868  1.714084e-07  \n",
       "1  0.008077  4.515152e-03  \n",
       "2  0.000526  3.863540e-04  \n",
       "3  0.260123  6.293981e-03  \n",
       "4  0.276051  2.175805e-01  \n",
       "\n",
       "[5 rows x 37 columns]"
      ]
     },
     "execution_count": 22,
     "metadata": {},
     "output_type": "execute_result"
    }
   ],
   "source": [
    "df_preds.head()"
   ]
  },
  {
   "cell_type": "code",
   "execution_count": 23,
   "metadata": {},
   "outputs": [],
   "source": [
    "in_top3 = ((df_preds.label == df_preds.pred_1) |\n",
    "           (df_preds.label == df_preds.pred_2) |\n",
    "           (df_preds.label == df_preds.pred_3)).sum()"
   ]
  },
  {
   "cell_type": "code",
   "execution_count": 24,
   "metadata": {},
   "outputs": [
    {
     "name": "stdout",
     "output_type": "stream",
     "text": [
      "top3_accuracy = 90.98%\n"
     ]
    }
   ],
   "source": [
    "print(f\"top3_accuracy = {round(100 * in_top3 / len(df_preds), 2)}%\") "
   ]
  },
  {
   "cell_type": "code",
   "execution_count": 25,
   "metadata": {},
   "outputs": [],
   "source": [
    "in_top2 = ((df_preds.label == df_preds.pred_1) |\n",
    "           (df_preds.label == df_preds.pred_2)).sum()"
   ]
  },
  {
   "cell_type": "code",
   "execution_count": 26,
   "metadata": {},
   "outputs": [
    {
     "name": "stdout",
     "output_type": "stream",
     "text": [
      "top2_accuracy = 87.5%\n"
     ]
    }
   ],
   "source": [
    "print(f\"top2_accuracy = {round(100 * in_top2 / len(df_preds), 2)}%\") "
   ]
  },
  {
   "cell_type": "markdown",
   "metadata": {},
   "source": [
    "## Mandrillus classified as Monkey"
   ]
  },
  {
   "cell_type": "code",
   "execution_count": 27,
   "metadata": {},
   "outputs": [
    {
     "name": "stdout",
     "output_type": "stream",
     "text": [
      "There are 1311 mandrillus_as_monkey\n"
     ]
    },
    {
     "data": {
      "text/plain": [
       "Mandrillus          995\n",
       "Chimpanzee          133\n",
       "Duiker_Blue         127\n",
       "Gorilla              23\n",
       "Squirrel              7\n",
       "Bird                  6\n",
       "Blank                 4\n",
       "Duiker_Red            4\n",
       "Hog_Red_River         3\n",
       "Cat_Golden            3\n",
       "Human                 2\n",
       "Mongoose              2\n",
       "Chevrotain_Water      1\n",
       "Elephant_African      1\n",
       "Name: pred_2, dtype: int64"
      ]
     },
     "execution_count": 27,
     "metadata": {},
     "output_type": "execute_result"
    }
   ],
   "source": [
    "mandrillus_as_monkey = df_preds[(df_preds.label == \"Mandrillus\") & (df_preds.pred_1 == \"Monkey\")]\n",
    "print(f\"There are {len(mandrillus_as_monkey)} mandrillus_as_monkey\")\n",
    "mandrillus_as_monkey.pred_2.value_counts()"
   ]
  },
  {
   "cell_type": "code",
   "execution_count": 28,
   "metadata": {},
   "outputs": [
    {
     "data": {
      "text/plain": [
       "2.3255813953488373"
      ]
     },
     "execution_count": 28,
     "metadata": {},
     "output_type": "execute_result"
    }
   ],
   "source": [
    "1000 / 43000 * 100"
   ]
  },
  {
   "cell_type": "markdown",
   "metadata": {},
   "source": [
    "## Hog classified as Duiker Red"
   ]
  },
  {
   "cell_type": "code",
   "execution_count": 29,
   "metadata": {},
   "outputs": [
    {
     "name": "stdout",
     "output_type": "stream",
     "text": [
      "There are 387 hog_as_duiker_red\n"
     ]
    },
    {
     "data": {
      "text/plain": [
       "Hog_Red_River             274\n",
       "Duiker_Blue                57\n",
       "Duiker_Yellow_Backed       11\n",
       "Human                       9\n",
       "Mandrillus                  6\n",
       "Squirrel                    5\n",
       "Mongoose                    5\n",
       "Rat_Giant                   4\n",
       "Bird                        3\n",
       "Blank                       3\n",
       "Mongoose_Black_Footed       2\n",
       "Elephant_African            2\n",
       "Porcupine_Brush_Tailed      2\n",
       "Rodent                      1\n",
       "Chevrotain_Water            1\n",
       "Buffalo_African             1\n",
       "Monkey                      1\n",
       "Name: pred_2, dtype: int64"
      ]
     },
     "execution_count": 29,
     "metadata": {},
     "output_type": "execute_result"
    }
   ],
   "source": [
    "hog_as_duiker_red = df_preds[(df_preds.label == \"Hog_Red_River\") & (df_preds.pred_1 == \"Duiker_Red\")]\n",
    "print(f\"There are {len(hog_as_duiker_red)} hog_as_duiker_red\")\n",
    "hog_as_duiker_red.pred_2.value_counts()"
   ]
  },
  {
   "cell_type": "markdown",
   "metadata": {},
   "source": [
    "## Mandrillus classified as Duiker Blue"
   ]
  },
  {
   "cell_type": "code",
   "execution_count": 30,
   "metadata": {},
   "outputs": [
    {
     "name": "stdout",
     "output_type": "stream",
     "text": [
      "There are 233 mandrillus_as_duiker_blue\n"
     ]
    },
    {
     "data": {
      "text/plain": [
       "Monkey              91\n",
       "Duiker_Red          41\n",
       "Mandrillus          41\n",
       "Squirrel            23\n",
       "Bird                23\n",
       "Mongoose             3\n",
       "Guineafowl_Black     3\n",
       "Human                3\n",
       "Chimpanzee           2\n",
       "Blank                2\n",
       "Hog_Red_River        1\n",
       "Name: pred_2, dtype: int64"
      ]
     },
     "execution_count": 30,
     "metadata": {},
     "output_type": "execute_result"
    }
   ],
   "source": [
    "mandrillus_as_duiker_blue = df_preds[(df_preds.label == \"Mandrillus\") & (df_preds.pred_1 == \"Duiker_Blue\")]\n",
    "print(f\"There are {len(mandrillus_as_duiker_blue)} mandrillus_as_duiker_blue\")\n",
    "mandrillus_as_duiker_blue.pred_2.value_counts()"
   ]
  },
  {
   "cell_type": "code",
   "execution_count": 31,
   "metadata": {},
   "outputs": [
    {
     "data": {
      "image/jpeg": "[encoded data removed]",
      "text/plain": [
       "<IPython.core.display.Image object>"
      ]
     },
     "execution_count": 31,
     "metadata": {},
     "output_type": "execute_result"
    }
   ],
   "source": [
    "Image(random.choice(mandrillus_as_duiker_blue.img.tolist()))"
   ]
  },
  {
   "cell_type": "markdown",
   "metadata": {},
   "source": [
    "## Monkey classified as Duiker Blue"
   ]
  },
  {
   "cell_type": "code",
   "execution_count": 32,
   "metadata": {},
   "outputs": [
    {
     "name": "stdout",
     "output_type": "stream",
     "text": [
      "There are 200 monkey_as_duiker_blue\n"
     ]
    },
    {
     "data": {
      "text/plain": [
       "Monkey             64\n",
       "Duiker_Red         29\n",
       "Blank              28\n",
       "Squirrel           28\n",
       "Chimpanzee         18\n",
       "Mongoose           12\n",
       "Human              11\n",
       "Bird                8\n",
       "Leopard_African     2\n",
       "Name: pred_2, dtype: int64"
      ]
     },
     "execution_count": 32,
     "metadata": {},
     "output_type": "execute_result"
    }
   ],
   "source": [
    "monkey_as_duiker_blue = df_preds[(df_preds.label == \"Monkey\") & (df_preds.pred_1 == \"Duiker_Blue\")]\n",
    "print(f\"There are {len(monkey_as_duiker_blue)} monkey_as_duiker_blue\")\n",
    "monkey_as_duiker_blue.pred_2.value_counts()"
   ]
  },
  {
   "cell_type": "code",
   "execution_count": 33,
   "metadata": {},
   "outputs": [
    {
     "data": {
      "image/jpeg": "[encoded data removed]",
      "text/plain": [
       "<IPython.core.display.Image object>"
      ]
     },
     "execution_count": 33,
     "metadata": {},
     "output_type": "execute_result"
    }
   ],
   "source": [
    "Image(random.choice(monkey_as_duiker_blue.img.tolist()))"
   ]
  },
  {
   "cell_type": "markdown",
   "metadata": {},
   "source": [
    "# Accuracies per species"
   ]
  },
  {
   "cell_type": "code",
   "execution_count": 34,
   "metadata": {},
   "outputs": [
    {
     "name": "stdout",
     "output_type": "stream",
     "text": [
      " Bird                   has acc: 74.31%, top2_acc: 84.56%, top3_acc: 89.9 %, count in valid: 693\n",
      " Blank                  has acc: 86.0 %, top2_acc: 91.12%, top3_acc: 93.6 %, count in valid: 5000\n",
      " Buffalo_African        has acc: 60.66%, top2_acc: 82.19%, top3_acc: 89.65%, count in valid: 483\n",
      " Cat_Golden             has acc: 22.67%, top2_acc: 40.0 %, top3_acc: 48.0 %, count in valid: 75\n",
      " Chevrotain_Water       has acc: 34.85%, top2_acc: 46.72%, top3_acc: 57.07%, count in valid: 396\n",
      " Chimpanzee             has acc: 58.38%, top2_acc: 73.0 %, top3_acc: 78.4 %, count in valid: 1074\n",
      " Civet_African_Palm     has acc: 40.98%, top2_acc: 57.38%, top3_acc: 63.93%, count in valid: 61\n",
      " Duiker_Blue            has acc: 82.6 %, top2_acc: 93.06%, top3_acc: 96.48%, count in valid: 5000\n",
      " Duiker_Red             has acc: 88.28%, top2_acc: 93.3 %, top3_acc: 95.26%, count in valid: 5000\n",
      " Duiker_Yellow_Backed   has acc: 71.56%, top2_acc: 79.45%, top3_acc: 84.04%, count in valid: 1090\n",
      " Elephant_African       has acc: 93.78%, top2_acc: 96.62%, top3_acc: 97.38%, count in valid: 5000\n",
      " Genet                  has acc: 82.77%, top2_acc: 89.85%, top3_acc: 91.08%, count in valid: 325\n",
      " Gorilla                has acc: 22.7 %, top2_acc: 66.57%, top3_acc: 78.27%, count in valid: 718\n",
      " Guineafowl_Black       has acc: 33.87%, top2_acc: 87.74%, top3_acc: 92.26%, count in valid: 310\n",
      " Guineafowl_Crested     has acc: 10.61%, top2_acc: 31.82%, top3_acc: 48.48%, count in valid: 66\n",
      " Hog_Red_River          has acc: 76.49%, top2_acc: 89.91%, top3_acc: 93.33%, count in valid: 3539\n",
      " Human                  has acc: 96.12%, top2_acc: 98.2 %, top3_acc: 98.98%, count in valid: 5000\n",
      " Leopard_African        has acc: 71.1 %, top2_acc: 76.04%, top3_acc: 80.68%, count in valid: 647\n",
      " Mandrillus             has acc: 31.45%, top2_acc: 71.48%, top3_acc: 80.01%, count in valid: 2626\n",
      " Mongoose               has acc: 57.72%, top2_acc: 66.98%, top3_acc: 73.46%, count in valid: 324\n",
      " Mongoose_Black_Footed  has acc: 61.59%, top2_acc: 68.9 %, top3_acc: 75.61%, count in valid: 164\n",
      " Monkey                 has acc: 51.32%, top2_acc: 65.95%, top3_acc: 72.59%, count in valid: 1025\n",
      " Pangolin               has acc: 31.06%, top2_acc: 44.7 %, top3_acc: 56.82%, count in valid: 132\n",
      " Porcupine_Brush_Tailed has acc: 68.47%, top2_acc: 78.21%, top3_acc: 83.41%, count in valid: 904\n",
      " Rail_Nkulengu          has acc: 0.0  %, top2_acc: 0.0  %, top3_acc: 0.0  %, count in valid: 6\n",
      " Rat_Giant              has acc: 84.87%, top2_acc: 92.71%, top3_acc: 95.01%, count in valid: 2868\n",
      " Rodent                 has acc: 33.43%, top2_acc: 56.21%, top3_acc: 63.91%, count in valid: 338\n",
      " Squirrel               has acc: 44.11%, top2_acc: 57.72%, top3_acc: 67.15%, count in valid: 764\n"
     ]
    }
   ],
   "source": [
    "for animal in classes:\n",
    "    df_animal = df_preds[df_preds.label == animal]\n",
    "    count = len(df_animal)\n",
    "    acc = round(100 * len(df_animal[df_animal.pred_1 == animal]) / count,2)\n",
    "    top2_acc = round(100 * len(df_animal[(df_animal.pred_1 == animal) | (df_animal.pred_2 == animal)]) / count,2)\n",
    "    top3_acc = round(100 * len(df_animal[(df_animal.pred_1 == animal) | (df_animal.pred_2 == animal) | (df_animal.pred_3 == animal)]) / count,2)\n",
    "    print(f\" {animal:22} has acc: {acc:<5}%, top2_acc: {top2_acc:<5}%, top3_acc: {top3_acc:<5}%, count in valid: {count}\") "
   ]
  },
  {
   "cell_type": "markdown",
   "metadata": {},
   "source": [
    "# Accuracies per source"
   ]
  },
  {
   "cell_type": "code",
   "execution_count": 43,
   "metadata": {},
   "outputs": [
    {
     "data": {
      "text/html": [
       "<div>\n",
       "<style scoped>\n",
       "    .dataframe tbody tr th:only-of-type {\n",
       "        vertical-align: middle;\n",
       "    }\n",
       "\n",
       "    .dataframe tbody tr th {\n",
       "        vertical-align: top;\n",
       "    }\n",
       "\n",
       "    .dataframe thead th {\n",
       "        text-align: right;\n",
       "    }\n",
       "</style>\n",
       "<table border=\"1\" class=\"dataframe\">\n",
       "  <thead>\n",
       "    <tr style=\"text-align: right;\">\n",
       "      <th></th>\n",
       "      <th>uniqueName</th>\n",
       "      <th>species</th>\n",
       "      <th>main_folder</th>\n",
       "      <th>is_valid</th>\n",
       "      <th>sub_folder</th>\n",
       "    </tr>\n",
       "  </thead>\n",
       "  <tbody>\n",
       "    <tr>\n",
       "      <th>24</th>\n",
       "      <td>0000103.jpg</td>\n",
       "      <td>Blank</td>\n",
       "      <td>Compressed Camera Trap Images</td>\n",
       "      <td>True</td>\n",
       "      <td>T11</td>\n",
       "    </tr>\n",
       "    <tr>\n",
       "      <th>25</th>\n",
       "      <td>0000104.jpg</td>\n",
       "      <td>Human</td>\n",
       "      <td>Compressed Camera Trap Images</td>\n",
       "      <td>True</td>\n",
       "      <td>T11</td>\n",
       "    </tr>\n",
       "    <tr>\n",
       "      <th>26</th>\n",
       "      <td>0000105.jpg</td>\n",
       "      <td>Human</td>\n",
       "      <td>Compressed Camera Trap Images</td>\n",
       "      <td>True</td>\n",
       "      <td>T11</td>\n",
       "    </tr>\n",
       "    <tr>\n",
       "      <th>27</th>\n",
       "      <td>0000106.jpg</td>\n",
       "      <td>Human</td>\n",
       "      <td>Compressed Camera Trap Images</td>\n",
       "      <td>True</td>\n",
       "      <td>T11</td>\n",
       "    </tr>\n",
       "    <tr>\n",
       "      <th>28</th>\n",
       "      <td>0000108.jpg</td>\n",
       "      <td>Blank</td>\n",
       "      <td>Compressed Camera Trap Images</td>\n",
       "      <td>True</td>\n",
       "      <td>T28</td>\n",
       "    </tr>\n",
       "  </tbody>\n",
       "</table>\n",
       "</div>"
      ],
      "text/plain": [
       "     uniqueName species                    main_folder  is_valid sub_folder\n",
       "24  0000103.jpg   Blank  Compressed Camera Trap Images      True        T11\n",
       "25  0000104.jpg   Human  Compressed Camera Trap Images      True        T11\n",
       "26  0000105.jpg   Human  Compressed Camera Trap Images      True        T11\n",
       "27  0000106.jpg   Human  Compressed Camera Trap Images      True        T11\n",
       "28  0000108.jpg   Blank  Compressed Camera Trap Images      True        T28"
      ]
     },
     "execution_count": 43,
     "metadata": {},
     "output_type": "execute_result"
    }
   ],
   "source": [
    "meta_df_full = pd.read_csv(HOME_FOLDER_OF_REPO / \"inspect_data_split_validation/train_valid_df.csv\")\n",
    "meta_df = meta_df_full[meta_df_full.is_valid == True]\n",
    "meta_df.head()"
   ]
  },
  {
   "cell_type": "markdown",
   "metadata": {},
   "source": [
    "#### join main_folder and sub_folder from meta_df based on uniqueName"
   ]
  },
  {
   "cell_type": "code",
   "execution_count": 48,
   "metadata": {},
   "outputs": [],
   "source": [
    "df_preds = pd.merge(df_preds, meta_df[[\"uniqueName\", \"main_folder\", \"sub_folder\"]], how=\"inner\", on=\"uniqueName\")"
   ]
  },
  {
   "cell_type": "code",
   "execution_count": 49,
   "metadata": {},
   "outputs": [
    {
     "name": "stdout",
     "output_type": "stream",
     "text": [
      "(43628, 39)\n"
     ]
    },
    {
     "data": {
      "text/html": [
       "<div>\n",
       "<style scoped>\n",
       "    .dataframe tbody tr th:only-of-type {\n",
       "        vertical-align: middle;\n",
       "    }\n",
       "\n",
       "    .dataframe tbody tr th {\n",
       "        vertical-align: top;\n",
       "    }\n",
       "\n",
       "    .dataframe thead th {\n",
       "        text-align: right;\n",
       "    }\n",
       "</style>\n",
       "<table border=\"1\" class=\"dataframe\">\n",
       "  <thead>\n",
       "    <tr style=\"text-align: right;\">\n",
       "      <th></th>\n",
       "      <th>Bird</th>\n",
       "      <th>Blank</th>\n",
       "      <th>Buffalo_African</th>\n",
       "      <th>Cat_Golden</th>\n",
       "      <th>Chevrotain_Water</th>\n",
       "      <th>Chimpanzee</th>\n",
       "      <th>Civet_African_Palm</th>\n",
       "      <th>Duiker_Blue</th>\n",
       "      <th>Duiker_Red</th>\n",
       "      <th>Duiker_Yellow_Backed</th>\n",
       "      <th>...</th>\n",
       "      <th>img</th>\n",
       "      <th>uniqueName</th>\n",
       "      <th>pred_1</th>\n",
       "      <th>pred_2</th>\n",
       "      <th>pred_3</th>\n",
       "      <th>score_1</th>\n",
       "      <th>score_2</th>\n",
       "      <th>score_3</th>\n",
       "      <th>main_folder</th>\n",
       "      <th>sub_folder</th>\n",
       "    </tr>\n",
       "  </thead>\n",
       "  <tbody>\n",
       "    <tr>\n",
       "      <th>0</th>\n",
       "      <td>4.655969e-08</td>\n",
       "      <td>8.717845e-08</td>\n",
       "      <td>1.714084e-07</td>\n",
       "      <td>2.941357e-10</td>\n",
       "      <td>6.642564e-09</td>\n",
       "      <td>4.328345e-10</td>\n",
       "      <td>4.135269e-09</td>\n",
       "      <td>5.556704e-08</td>\n",
       "      <td>1.924823e-08</td>\n",
       "      <td>4.718254e-11</td>\n",
       "      <td>...</td>\n",
       "      <td>/data_rescaled/resc_1039759.jpg</td>\n",
       "      <td>1039759.jpg</td>\n",
       "      <td>Human</td>\n",
       "      <td>Hog_Red_River</td>\n",
       "      <td>Buffalo_African</td>\n",
       "      <td>0.997131</td>\n",
       "      <td>0.002868</td>\n",
       "      <td>1.714084e-07</td>\n",
       "      <td>Compressed Camera Trap Images</td>\n",
       "      <td>T18</td>\n",
       "    </tr>\n",
       "    <tr>\n",
       "      <th>1</th>\n",
       "      <td>5.661279e-06</td>\n",
       "      <td>8.510786e-04</td>\n",
       "      <td>7.002197e-06</td>\n",
       "      <td>1.580305e-07</td>\n",
       "      <td>2.478688e-03</td>\n",
       "      <td>1.838122e-06</td>\n",
       "      <td>8.551294e-06</td>\n",
       "      <td>7.195574e-05</td>\n",
       "      <td>2.097772e-06</td>\n",
       "      <td>1.497921e-06</td>\n",
       "      <td>...</td>\n",
       "      <td>/data_rescaled/resc_1195784.jpg</td>\n",
       "      <td>1195784.jpg</td>\n",
       "      <td>Porcupine_Brush_Tailed</td>\n",
       "      <td>Hog_Red_River</td>\n",
       "      <td>Rat_Giant</td>\n",
       "      <td>0.982969</td>\n",
       "      <td>0.008077</td>\n",
       "      <td>4.515152e-03</td>\n",
       "      <td>allData</td>\n",
       "      <td>StephBrittainZSL</td>\n",
       "    </tr>\n",
       "    <tr>\n",
       "      <th>2</th>\n",
       "      <td>5.095516e-08</td>\n",
       "      <td>9.990834e-01</td>\n",
       "      <td>1.129752e-06</td>\n",
       "      <td>1.137677e-08</td>\n",
       "      <td>1.609592e-08</td>\n",
       "      <td>2.568008e-08</td>\n",
       "      <td>4.873502e-08</td>\n",
       "      <td>1.953605e-07</td>\n",
       "      <td>1.630463e-07</td>\n",
       "      <td>7.535878e-10</td>\n",
       "      <td>...</td>\n",
       "      <td>/data_rescaled/resc_0880576.jpg</td>\n",
       "      <td>0880576.jpg</td>\n",
       "      <td>Blank</td>\n",
       "      <td>Human</td>\n",
       "      <td>Elephant_African</td>\n",
       "      <td>0.999083</td>\n",
       "      <td>0.000526</td>\n",
       "      <td>3.863540e-04</td>\n",
       "      <td>Compressed Camera Trap Images</td>\n",
       "      <td>T11</td>\n",
       "    </tr>\n",
       "    <tr>\n",
       "      <th>3</th>\n",
       "      <td>1.370626e-03</td>\n",
       "      <td>7.104965e-01</td>\n",
       "      <td>6.293981e-03</td>\n",
       "      <td>5.814397e-05</td>\n",
       "      <td>8.215211e-04</td>\n",
       "      <td>2.061178e-04</td>\n",
       "      <td>1.176124e-04</td>\n",
       "      <td>1.942325e-03</td>\n",
       "      <td>3.472823e-04</td>\n",
       "      <td>1.045766e-05</td>\n",
       "      <td>...</td>\n",
       "      <td>/data_rescaled/resc_1194852.jpg</td>\n",
       "      <td>1194852.jpg</td>\n",
       "      <td>Blank</td>\n",
       "      <td>Elephant_African</td>\n",
       "      <td>Buffalo_African</td>\n",
       "      <td>0.710497</td>\n",
       "      <td>0.260123</td>\n",
       "      <td>6.293981e-03</td>\n",
       "      <td>allData</td>\n",
       "      <td>StephBrittainZSL</td>\n",
       "    </tr>\n",
       "    <tr>\n",
       "      <th>4</th>\n",
       "      <td>5.872330e-02</td>\n",
       "      <td>3.254626e-04</td>\n",
       "      <td>6.685724e-04</td>\n",
       "      <td>3.376703e-04</td>\n",
       "      <td>1.701453e-03</td>\n",
       "      <td>2.628898e-04</td>\n",
       "      <td>3.934061e-04</td>\n",
       "      <td>2.760512e-01</td>\n",
       "      <td>4.157926e-01</td>\n",
       "      <td>5.745498e-05</td>\n",
       "      <td>...</td>\n",
       "      <td>/data_rescaled/resc_1201480.jpg</td>\n",
       "      <td>1201480.jpg</td>\n",
       "      <td>Duiker_Red</td>\n",
       "      <td>Duiker_Blue</td>\n",
       "      <td>Hog_Red_River</td>\n",
       "      <td>0.415793</td>\n",
       "      <td>0.276051</td>\n",
       "      <td>2.175805e-01</td>\n",
       "      <td>allData</td>\n",
       "      <td>LailaBahaaelDinPanthera</td>\n",
       "    </tr>\n",
       "  </tbody>\n",
       "</table>\n",
       "<p>5 rows × 39 columns</p>\n",
       "</div>"
      ],
      "text/plain": [
       "           Bird         Blank  Buffalo_African    Cat_Golden  \\\n",
       "0  4.655969e-08  8.717845e-08     1.714084e-07  2.941357e-10   \n",
       "1  5.661279e-06  8.510786e-04     7.002197e-06  1.580305e-07   \n",
       "2  5.095516e-08  9.990834e-01     1.129752e-06  1.137677e-08   \n",
       "3  1.370626e-03  7.104965e-01     6.293981e-03  5.814397e-05   \n",
       "4  5.872330e-02  3.254626e-04     6.685724e-04  3.376703e-04   \n",
       "\n",
       "   Chevrotain_Water    Chimpanzee  Civet_African_Palm   Duiker_Blue  \\\n",
       "0      6.642564e-09  4.328345e-10        4.135269e-09  5.556704e-08   \n",
       "1      2.478688e-03  1.838122e-06        8.551294e-06  7.195574e-05   \n",
       "2      1.609592e-08  2.568008e-08        4.873502e-08  1.953605e-07   \n",
       "3      8.215211e-04  2.061178e-04        1.176124e-04  1.942325e-03   \n",
       "4      1.701453e-03  2.628898e-04        3.934061e-04  2.760512e-01   \n",
       "\n",
       "     Duiker_Red  Duiker_Yellow_Backed  ...                              img  \\\n",
       "0  1.924823e-08          4.718254e-11  ...  /data_rescaled/resc_1039759.jpg   \n",
       "1  2.097772e-06          1.497921e-06  ...  /data_rescaled/resc_1195784.jpg   \n",
       "2  1.630463e-07          7.535878e-10  ...  /data_rescaled/resc_0880576.jpg   \n",
       "3  3.472823e-04          1.045766e-05  ...  /data_rescaled/resc_1194852.jpg   \n",
       "4  4.157926e-01          5.745498e-05  ...  /data_rescaled/resc_1201480.jpg   \n",
       "\n",
       "    uniqueName                  pred_1            pred_2            pred_3  \\\n",
       "0  1039759.jpg                   Human     Hog_Red_River   Buffalo_African   \n",
       "1  1195784.jpg  Porcupine_Brush_Tailed     Hog_Red_River         Rat_Giant   \n",
       "2  0880576.jpg                   Blank             Human  Elephant_African   \n",
       "3  1194852.jpg                   Blank  Elephant_African   Buffalo_African   \n",
       "4  1201480.jpg              Duiker_Red       Duiker_Blue     Hog_Red_River   \n",
       "\n",
       "    score_1   score_2       score_3                    main_folder  \\\n",
       "0  0.997131  0.002868  1.714084e-07  Compressed Camera Trap Images   \n",
       "1  0.982969  0.008077  4.515152e-03                        allData   \n",
       "2  0.999083  0.000526  3.863540e-04  Compressed Camera Trap Images   \n",
       "3  0.710497  0.260123  6.293981e-03                        allData   \n",
       "4  0.415793  0.276051  2.175805e-01                        allData   \n",
       "\n",
       "                sub_folder  \n",
       "0                      T18  \n",
       "1         StephBrittainZSL  \n",
       "2                      T11  \n",
       "3         StephBrittainZSL  \n",
       "4  LailaBahaaelDinPanthera  \n",
       "\n",
       "[5 rows x 39 columns]"
      ]
     },
     "execution_count": 49,
     "metadata": {},
     "output_type": "execute_result"
    }
   ],
   "source": [
    "print(df_preds.shape)\n",
    "df_preds.head()"
   ]
  },
  {
   "cell_type": "code",
   "execution_count": 58,
   "metadata": {},
   "outputs": [
    {
     "name": "stdout",
     "output_type": "stream",
     "text": [
      "Compressed Camera Trap Images  has acc: 94.18%, top2_acc: 97.88%, count in valid:  13428\n",
      "allData                        has acc: 68.18%, top2_acc: 82.23%, count in valid:  24328\n",
      "Camera trap Nki National Park  has acc: 74.83%, top2_acc: 85.58%, count in valid:   5872\n"
     ]
    }
   ],
   "source": [
    "sources = df_preds.main_folder.unique()\n",
    "for source in sources:\n",
    "    df_source = df_preds[df_preds.main_folder == source]\n",
    "    count = len(df_source)\n",
    "    acc = round(100 * len(df_source[df_source.pred_1 == df_source.label]) / count,2)\n",
    "    top2_acc = round(100 * len(df_source[(df_source.pred_1 == df_source.label) | (df_source.pred_2 == df_source.label)]) / count,2)\n",
    "    print(f\"{source:30} has acc: {acc:<5}%, top2_acc: {top2_acc:<4}%, count in valid: {count:>6}\") "
   ]
  },
  {
   "cell_type": "code",
   "execution_count": 59,
   "metadata": {},
   "outputs": [
    {
     "name": "stdout",
     "output_type": "stream",
     "text": [
      "\n",
      "Compressed Camera Trap Images\n",
      "  T18                            has acc: 92.4 %, top2_acc: 97.35%, count in valid:   1473\n",
      "  T11                            has acc: 95.98%, top2_acc: 99.25%, count in valid:   2540\n",
      "  T1                             has acc: 92.56%, top2_acc: 96.73%, count in valid:   5743\n",
      "  T28                            has acc: 95.69%, top2_acc: 98.81%, count in valid:   3036\n",
      "  T41                            has acc: 98.58%, top2_acc: 99.53%, count in valid:    636\n",
      "\n",
      "Camera trap Nki National Park\n",
      "  C06                            has acc: 68.2 %, top2_acc: 80.77%, count in valid:   2387\n",
      "  C16                            has acc: 81.72%, top2_acc: 90.75%, count in valid:   1395\n",
      "  C01                            has acc: 81.18%, top2_acc: 91.28%, count in valid:   1514\n",
      "  C12                            has acc: 68.92%, top2_acc: 77.95%, count in valid:    576\n",
      "\n",
      "allData\n",
      "  StephBrittainZSL               has acc: 69.45%, top2_acc: 80.15%, count in valid:   7770\n",
      "  LailaBahaaelDinPanthera        has acc: 67.59%, top2_acc: 83.21%, count in valid:  16558\n"
     ]
    }
   ],
   "source": [
    "sources = meta_df.main_folder.unique()\n",
    "for source in sources:\n",
    "    df_source = df_preds[df_preds.main_folder == source]\n",
    "    sub_sources = df_source.sub_folder.unique()\n",
    "    print(f\"\\n{source}\")\n",
    "    for sub_source in sub_sources:\n",
    "        df_sub_source = df_source[df_source.sub_folder == sub_source]\n",
    "        count = len(df_sub_source)\n",
    "        acc = round(100 * len(df_sub_source[df_sub_source.pred_1 == df_sub_source.label]) / count,2)\n",
    "        top2_acc = round(100 * len(df_sub_source[(df_sub_source.pred_1 == df_sub_source.label) | (df_sub_source.pred_2 == df_sub_source.label)]) / count,2)\n",
    "        print(f\"  {sub_source:30} has acc: {acc:<5}%, top2_acc: {top2_acc:<4}%, count in valid: {count:>6}\") "
   ]
  },
  {
   "cell_type": "code",
   "execution_count": null,
   "metadata": {},
   "outputs": [],
   "source": []
  }
 ],
 "metadata": {
  "kernelspec": {
   "display_name": "Python 3",
   "language": "python",
   "name": "python3"
  },
  "language_info": {
   "codemirror_mode": {
    "name": "ipython",
    "version": 3
   },
   "file_extension": ".py",
   "mimetype": "text/x-python",
   "name": "python",
   "nbconvert_exporter": "python",
   "pygments_lexer": "ipython3",
   "version": "3.7.4"
  }
 },
 "nbformat": 4,
 "nbformat_minor": 4
}
