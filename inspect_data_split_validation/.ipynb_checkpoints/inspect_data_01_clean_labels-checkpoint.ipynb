{
 "cells": [
  {
   "cell_type": "markdown",
   "metadata": {},
   "source": [
    "In this notebook we:\n",
    "* identify files missing (8 files)\n",
    "* create and save the labels csv corrected (without those 8 files)\n",
    "* inspect visually images"
   ]
  },
  {
   "cell_type": "code",
   "execution_count": 1,
   "metadata": {},
   "outputs": [],
   "source": [
    "import pandas as pd\n",
    "from pathlib import Path\n",
    "import os"
   ]
  },
  {
   "cell_type": "markdown",
   "metadata": {},
   "source": [
    "# Labels"
   ]
  },
  {
   "cell_type": "markdown",
   "metadata": {},
   "source": [
    "#### First labels from Robbie"
   ]
  },
  {
   "cell_type": "code",
   "execution_count": 5,
   "metadata": {},
   "outputs": [
    {
     "data": {
      "text/html": [
       "<div>\n",
       "<style scoped>\n",
       "    .dataframe tbody tr th:only-of-type {\n",
       "        vertical-align: middle;\n",
       "    }\n",
       "\n",
       "    .dataframe tbody tr th {\n",
       "        vertical-align: top;\n",
       "    }\n",
       "\n",
       "    .dataframe thead th {\n",
       "        text-align: right;\n",
       "    }\n",
       "</style>\n",
       "<table border=\"1\" class=\"dataframe\">\n",
       "  <thead>\n",
       "    <tr style=\"text-align: right;\">\n",
       "      <th></th>\n",
       "      <th>species</th>\n",
       "      <th>n</th>\n",
       "      <th>uniqueName</th>\n",
       "    </tr>\n",
       "  </thead>\n",
       "  <tbody>\n",
       "    <tr>\n",
       "      <th>0</th>\n",
       "      <td>Human</td>\n",
       "      <td>1.0</td>\n",
       "      <td>0000001.jpg</td>\n",
       "    </tr>\n",
       "    <tr>\n",
       "      <th>1</th>\n",
       "      <td>Blank</td>\n",
       "      <td>0.0</td>\n",
       "      <td>0000002.jpg</td>\n",
       "    </tr>\n",
       "    <tr>\n",
       "      <th>2</th>\n",
       "      <td>Human</td>\n",
       "      <td>1.0</td>\n",
       "      <td>0000003.jpg</td>\n",
       "    </tr>\n",
       "    <tr>\n",
       "      <th>3</th>\n",
       "      <td>Blank</td>\n",
       "      <td>0.0</td>\n",
       "      <td>0000004.jpg</td>\n",
       "    </tr>\n",
       "    <tr>\n",
       "      <th>4</th>\n",
       "      <td>Human</td>\n",
       "      <td>1.0</td>\n",
       "      <td>0000005.jpg</td>\n",
       "    </tr>\n",
       "  </tbody>\n",
       "</table>\n",
       "</div>"
      ],
      "text/plain": [
       "  species    n   uniqueName\n",
       "0   Human  1.0  0000001.jpg\n",
       "1   Blank  0.0  0000002.jpg\n",
       "2   Human  1.0  0000003.jpg\n",
       "3   Blank  0.0  0000004.jpg\n",
       "4   Human  1.0  0000005.jpg"
      ]
     },
     "execution_count": 5,
     "metadata": {},
     "output_type": "execute_result"
    }
   ],
   "source": [
    "labels = pd.read_csv(\"/data/Labels/Gabon_trainingDataAll_2019-09-25_Apsillon.csv\")\n",
    "labels.head()"
   ]
  },
  {
   "cell_type": "markdown",
   "metadata": {},
   "source": [
    "#### labels from Robbie including path to file on his drive"
   ]
  },
  {
   "cell_type": "code",
   "execution_count": 6,
   "metadata": {},
   "outputs": [
    {
     "data": {
      "text/html": [
       "<div>\n",
       "<style scoped>\n",
       "    .dataframe tbody tr th:only-of-type {\n",
       "        vertical-align: middle;\n",
       "    }\n",
       "\n",
       "    .dataframe tbody tr th {\n",
       "        vertical-align: top;\n",
       "    }\n",
       "\n",
       "    .dataframe thead th {\n",
       "        text-align: right;\n",
       "    }\n",
       "</style>\n",
       "<table border=\"1\" class=\"dataframe\">\n",
       "  <thead>\n",
       "    <tr style=\"text-align: right;\">\n",
       "      <th></th>\n",
       "      <th>fullPath</th>\n",
       "      <th>species</th>\n",
       "      <th>n</th>\n",
       "      <th>uniqueName</th>\n",
       "    </tr>\n",
       "  </thead>\n",
       "  <tbody>\n",
       "    <tr>\n",
       "      <th>0</th>\n",
       "      <td>D:/Compressed Camera Trap Images//Field season...</td>\n",
       "      <td>Human</td>\n",
       "      <td>1.0</td>\n",
       "      <td>0000001.jpg</td>\n",
       "    </tr>\n",
       "    <tr>\n",
       "      <th>1</th>\n",
       "      <td>D:/Compressed Camera Trap Images//Between fiel...</td>\n",
       "      <td>Blank</td>\n",
       "      <td>0.0</td>\n",
       "      <td>0000002.jpg</td>\n",
       "    </tr>\n",
       "    <tr>\n",
       "      <th>2</th>\n",
       "      <td>D:/Compressed Camera Trap Images//Field season...</td>\n",
       "      <td>Human</td>\n",
       "      <td>1.0</td>\n",
       "      <td>0000003.jpg</td>\n",
       "    </tr>\n",
       "    <tr>\n",
       "      <th>3</th>\n",
       "      <td>D:/Compressed Camera Trap Images//Between fiel...</td>\n",
       "      <td>Blank</td>\n",
       "      <td>0.0</td>\n",
       "      <td>0000004.jpg</td>\n",
       "    </tr>\n",
       "    <tr>\n",
       "      <th>4</th>\n",
       "      <td>D:/Compressed Camera Trap Images//Field season...</td>\n",
       "      <td>Human</td>\n",
       "      <td>1.0</td>\n",
       "      <td>0000005.jpg</td>\n",
       "    </tr>\n",
       "  </tbody>\n",
       "</table>\n",
       "</div>"
      ],
      "text/plain": [
       "                                            fullPath species    n   uniqueName\n",
       "0  D:/Compressed Camera Trap Images//Field season...   Human  1.0  0000001.jpg\n",
       "1  D:/Compressed Camera Trap Images//Between fiel...   Blank  0.0  0000002.jpg\n",
       "2  D:/Compressed Camera Trap Images//Field season...   Human  1.0  0000003.jpg\n",
       "3  D:/Compressed Camera Trap Images//Between fiel...   Blank  0.0  0000004.jpg\n",
       "4  D:/Compressed Camera Trap Images//Field season...   Human  1.0  0000005.jpg"
      ]
     },
     "execution_count": 6,
     "metadata": {},
     "output_type": "execute_result"
    }
   ],
   "source": [
    "labels_w_path = pd.read_csv(\"/data/Labels/Gabon_trainingDataAll_2020-02-27_Apsillon.csv\")\n",
    "labels_w_path.head()"
   ]
  },
  {
   "cell_type": "code",
   "execution_count": 7,
   "metadata": {},
   "outputs": [
    {
     "data": {
      "text/plain": [
       "1650316"
      ]
     },
     "execution_count": 7,
     "metadata": {},
     "output_type": "execute_result"
    }
   ],
   "source": [
    "len(labels)"
   ]
  },
  {
   "cell_type": "code",
   "execution_count": 8,
   "metadata": {},
   "outputs": [
    {
     "data": {
      "text/plain": [
       "1650316"
      ]
     },
     "execution_count": 8,
     "metadata": {},
     "output_type": "execute_result"
    }
   ],
   "source": [
    "len(labels_w_path)"
   ]
  },
  {
   "cell_type": "code",
   "execution_count": 4,
   "metadata": {},
   "outputs": [
    {
     "data": {
      "text/plain": [
       "1650316"
      ]
     },
     "execution_count": 4,
     "metadata": {},
     "output_type": "execute_result"
    }
   ],
   "source": [
    "labels.uniqueName.nunique()"
   ]
  },
  {
   "cell_type": "code",
   "execution_count": 5,
   "metadata": {},
   "outputs": [
    {
     "data": {
      "text/plain": [
       "Blank                     1138555\n",
       "Elephant_African           103750\n",
       "Duiker_Blue                 98748\n",
       "Duiker_Red                  97618\n",
       "Human                       38971\n",
       "Rat_Giant                   34227\n",
       "Hog_Red_River               26069\n",
       "Duiker_Yellow_Backed        15436\n",
       "Porcupine_Brush_Tailed      13694\n",
       "Guineafowl_Black            12055\n",
       "Squirrel                    11349\n",
       "Mandrillus                   9305\n",
       "Bird                         6649\n",
       "Buffalo_African              6459\n",
       "Mongoose                     5518\n",
       "Chimpanzee                   5260\n",
       "Monkey                       5038\n",
       "Chevrotain_Water             4713\n",
       "Genet                        3303\n",
       "Rail_Nkulengu                3269\n",
       "Leopard_African              2142\n",
       "Guineafowl_Crested           1513\n",
       "Mongoose_Black_Footed        1475\n",
       "Rodent                       1358\n",
       "Gorilla                      1074\n",
       "Civet_African_Palm            936\n",
       "Pangolin                      872\n",
       "Mammal_Other                  554\n",
       "Cat_Golden                    406\n",
       "Name: species, dtype: int64"
      ]
     },
     "execution_count": 5,
     "metadata": {},
     "output_type": "execute_result"
    }
   ],
   "source": [
    "labels.species.value_counts()"
   ]
  },
  {
   "cell_type": "markdown",
   "metadata": {},
   "source": [
    "# Images - are all there?"
   ]
  },
  {
   "cell_type": "code",
   "execution_count": 9,
   "metadata": {},
   "outputs": [
    {
     "name": "stdout",
     "output_type": "stream",
     "text": [
      "1650308\n"
     ]
    },
    {
     "data": {
      "text/plain": [
       "['0432277.jpg',\n",
       " '0369657.jpg',\n",
       " '0206723.jpg',\n",
       " '0020286.jpg',\n",
       " '0798802.jpg',\n",
       " '1377535.jpg',\n",
       " '0873213.jpg',\n",
       " '0818925.jpg',\n",
       " '1503051.jpg',\n",
       " '0755684.jpg']"
      ]
     },
     "execution_count": 9,
     "metadata": {},
     "output_type": "execute_result"
    }
   ],
   "source": [
    "files = [file for file in os.listdir('/data/Gabon_trainingData')]\n",
    "print(len(files))\n",
    "files[:10]"
   ]
  },
  {
   "cell_type": "code",
   "execution_count": 10,
   "metadata": {},
   "outputs": [
    {
     "data": {
      "text/plain": [
       "set()"
      ]
     },
     "execution_count": 10,
     "metadata": {},
     "output_type": "execute_result"
    }
   ],
   "source": [
    "set(files) - set(labels.uniqueName)"
   ]
  },
  {
   "cell_type": "code",
   "execution_count": 11,
   "metadata": {},
   "outputs": [
    {
     "data": {
      "text/plain": [
       "{'0750014.jpg',\n",
       " '0750015.jpg',\n",
       " '0750016.jpg',\n",
       " '0750017.jpg',\n",
       " '0750018.jpg',\n",
       " '0750019.jpg',\n",
       " '0750020.jpg',\n",
       " '0750021.jpg'}"
      ]
     },
     "execution_count": 11,
     "metadata": {},
     "output_type": "execute_result"
    }
   ],
   "source": [
    "missing_files = set(labels.uniqueName) - set(files)\n",
    "missing_files"
   ]
  },
  {
   "cell_type": "markdown",
   "metadata": {},
   "source": [
    "So the above 8 files are missing"
   ]
  },
  {
   "cell_type": "code",
   "execution_count": 12,
   "metadata": {},
   "outputs": [
    {
     "data": {
      "text/plain": [
       "{'0750014.jpg',\n",
       " '0750015.jpg',\n",
       " '0750016.jpg',\n",
       " '0750017.jpg',\n",
       " '0750018.jpg',\n",
       " '0750019.jpg',\n",
       " '0750020.jpg',\n",
       " '0750021.jpg'}"
      ]
     },
     "execution_count": 12,
     "metadata": {},
     "output_type": "execute_result"
    }
   ],
   "source": [
    "missing_files_w_path = set(labels_w_path.uniqueName) - set(files)\n",
    "missing_files_w_path"
   ]
  },
  {
   "cell_type": "markdown",
   "metadata": {},
   "source": [
    "## create a cleaned csv"
   ]
  },
  {
   "cell_type": "code",
   "execution_count": 11,
   "metadata": {},
   "outputs": [],
   "source": [
    "# labels = pd.read_csv(\"/data/Labels/Gabon_trainingDataAll_2019-09-25_Apsillon.csv\")\n",
    "labels_clean = labels[~labels.uniqueName.isin(missing_files)]\n",
    "labels_clean.to_csv(\"labels_clean.csv\", index=False) # moved to /data/Labels for clarity"
   ]
  },
  {
   "cell_type": "code",
   "execution_count": 13,
   "metadata": {},
   "outputs": [],
   "source": [
    "# labels_w_path = pd.read_csv(\"/data/Labels/Gabon_trainingDataAll_2020-02-27_Apsillon.csv\")\n",
    "labels_clean_w_path = labels_w_path[~labels_w_path.uniqueName.isin(missing_files_w_path)]\n",
    "labels_clean_w_path.to_csv(\"labels_clean_w_path.csv\", index=False) # moved to /data/Labels for clarity"
   ]
  },
  {
   "cell_type": "code",
   "execution_count": 14,
   "metadata": {},
   "outputs": [],
   "source": [
    "# labels = pd.read_csv(\"/data/Labels/labels_clean.csv\")\n",
    "# labels = pd.read_csv(\"/data/Labels/labels_clean_w_path.csv\")"
   ]
  },
  {
   "cell_type": "markdown",
   "metadata": {},
   "source": [
    "# Inspect images visually"
   ]
  },
  {
   "cell_type": "code",
   "execution_count": 9,
   "metadata": {},
   "outputs": [],
   "source": [
    "import random \n",
    "from IPython.display import Image, display"
   ]
  },
  {
   "cell_type": "code",
   "execution_count": 10,
   "metadata": {},
   "outputs": [],
   "source": [
    "# Image(filename='/data/Gabon_trainingData/'+random.sample(files,1)[0]) "
   ]
  },
  {
   "cell_type": "markdown",
   "metadata": {},
   "source": [
    "# Plot random image per class"
   ]
  },
  {
   "cell_type": "code",
   "execution_count": 11,
   "metadata": {},
   "outputs": [],
   "source": [
    "# for species in labels.species.unique():\n",
    "#     print(species)\n",
    "#     image_file = random.sample(list(labels[labels.species == species].uniqueName), 1)[0]\n",
    "#     img = Image(filename='/data/Gabon_trainingData/'+image_file, width=800)\n",
    "#     display(img)"
   ]
  },
  {
   "cell_type": "markdown",
   "metadata": {},
   "source": [
    "# Check if all files are images"
   ]
  },
  {
   "cell_type": "code",
   "execution_count": 15,
   "metadata": {},
   "outputs": [
    {
     "data": {
      "text/plain": [
       "{'jpeg'}"
      ]
     },
     "execution_count": 15,
     "metadata": {},
     "output_type": "execute_result"
    }
   ],
   "source": [
    "import imghdr\n",
    "\n",
    "set([imghdr.what(\"/data/Gabon_trainingData/\"+file) for file in random.sample(files,1000)])"
   ]
  },
  {
   "cell_type": "code",
   "execution_count": null,
   "metadata": {},
   "outputs": [],
   "source": []
  }
 ],
 "metadata": {
  "kernelspec": {
   "display_name": "Python 3",
   "language": "python",
   "name": "python3"
  },
  "language_info": {
   "codemirror_mode": {
    "name": "ipython",
    "version": 3
   },
   "file_extension": ".py",
   "mimetype": "text/x-python",
   "name": "python",
   "nbconvert_exporter": "python",
   "pygments_lexer": "ipython3",
   "version": "3.7.4"
  }
 },
 "nbformat": 4,
 "nbformat_minor": 4
}
