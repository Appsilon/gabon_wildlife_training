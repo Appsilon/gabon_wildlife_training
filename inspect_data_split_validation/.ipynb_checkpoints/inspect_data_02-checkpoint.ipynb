{
 "cells": [
  {
   "cell_type": "markdown",
   "metadata": {},
   "source": [
    "In this notebook we:\n",
    "* explore some sequences of images\n"
   ]
  },
  {
   "cell_type": "code",
   "execution_count": null,
   "metadata": {},
   "outputs": [],
   "source": [
    "import pandas as pd\n",
    "from pathlib import Path\n",
    "import os\n",
    "\n",
    "from fastai.vision import *"
   ]
  },
  {
   "cell_type": "code",
   "execution_count": null,
   "metadata": {},
   "outputs": [],
   "source": [
    "DATA_PATH = Path(\"/data/Gabon_trainingData\")"
   ]
  },
  {
   "cell_type": "code",
   "execution_count": null,
   "metadata": {},
   "outputs": [],
   "source": [
    "labels = pd.read_csv(\"/data/Labels/labels_clean.csv\")"
   ]
  },
  {
   "cell_type": "code",
   "execution_count": null,
   "metadata": {},
   "outputs": [],
   "source": [
    "labels.head()"
   ]
  },
  {
   "cell_type": "code",
   "execution_count": null,
   "metadata": {},
   "outputs": [],
   "source": [
    "img = open_image(DATA_PATH / labels.uniqueName[0])\n",
    "# img"
   ]
  },
  {
   "cell_type": "code",
   "execution_count": null,
   "metadata": {},
   "outputs": [],
   "source": [
    "rows = 8\n",
    "columns = 4\n",
    "_,axs = plt.subplots(rows,columns,figsize=(25,rows*5.5))\n",
    "for i,ax in enumerate(axs.flatten()):\n",
    "    img_label = labels.uniqueName[2*i]\n",
    "    img = open_image(DATA_PATH / img_label)\n",
    "    img.show(ax=axs[i//columns,i%columns], title=img_label)"
   ]
  },
  {
   "cell_type": "code",
   "execution_count": null,
   "metadata": {},
   "outputs": [],
   "source": [
    "rows = 8\n",
    "columns = 4\n",
    "_,axs = plt.subplots(rows,columns,figsize=(25,rows*5.5))\n",
    "for i,ax in enumerate(axs.flatten()):\n",
    "    img_label = labels.uniqueName[2*i + 1]\n",
    "    img = open_image(DATA_PATH / img_label)\n",
    "    img.show(ax=axs[i//columns,i%columns], title=img_label)"
   ]
  },
  {
   "cell_type": "code",
   "execution_count": null,
   "metadata": {},
   "outputs": [],
   "source": [
    "rows = 8\n",
    "columns = 4\n",
    "_,axs = plt.subplots(rows,columns,figsize=(25,rows*5.5))\n",
    "for i,ax in enumerate(axs.flatten()):\n",
    "    img_label = labels.uniqueName[i + 1234]\n",
    "    img = open_image(DATA_PATH / img_label)\n",
    "    img.show(ax=axs[i//columns,i%columns], title=img_label)"
   ]
  },
  {
   "cell_type": "code",
   "execution_count": null,
   "metadata": {},
   "outputs": [],
   "source": [
    "rows = 8\n",
    "columns = 4\n",
    "_,axs = plt.subplots(rows,columns,figsize=(25,rows*5.5))\n",
    "for i,ax in enumerate(axs.flatten()):\n",
    "    img_label = labels.uniqueName[i + 34567]\n",
    "    img = open_image(DATA_PATH / img_label)\n",
    "    img.show(ax=axs[i//columns,i%columns], title=img_label)"
   ]
  },
  {
   "cell_type": "code",
   "execution_count": null,
   "metadata": {},
   "outputs": [],
   "source": [
    "rows = 8\n",
    "columns = 2\n",
    "_,axs = plt.subplots(rows,columns,figsize=(25,rows*10))\n",
    "for i,ax in enumerate(axs.flatten()):\n",
    "    img_label = labels.uniqueName[i + 34567]\n",
    "    img = open_image(DATA_PATH / img_label)\n",
    "    img.show(ax=axs[i//columns,i%columns], title=img_label)"
   ]
  },
  {
   "cell_type": "code",
   "execution_count": null,
   "metadata": {},
   "outputs": [],
   "source": []
  }
 ],
 "metadata": {
  "kernelspec": {
   "display_name": "Python 3",
   "language": "python",
   "name": "python3"
  },
  "language_info": {
   "codemirror_mode": {
    "name": "ipython",
    "version": 3
   },
   "file_extension": ".py",
   "mimetype": "text/x-python",
   "name": "python",
   "nbconvert_exporter": "python",
   "pygments_lexer": "ipython3",
   "version": "3.7.4"
  }
 },
 "nbformat": 4,
 "nbformat_minor": 4
}
