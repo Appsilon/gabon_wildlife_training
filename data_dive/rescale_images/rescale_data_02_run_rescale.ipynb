{
 "cells": [
  {
   "cell_type": "markdown",
   "metadata": {},
   "source": [
    "in this notebook we:\n",
    "* test and build a function which copies the data to the new disk rescaling it to ~512 x 384 pixels"
   ]
  },
  {
   "cell_type": "markdown",
   "metadata": {},
   "source": [
    "Hence we want to do:\n",
    "* for propor ~1.3 (so 1.25, 1.3, 1.33)\n",
    " * push y to 384 and x accordingly (so x is ~512)\n",
    "* else (so 1.78, 1.72)\n",
    " * push y to 384 so x is 684 and 660"
   ]
  },
  {
   "cell_type": "markdown",
   "metadata": {},
   "source": [
    "in rescaling we follow ppleskov from https://gitlab.com/ppleskov/snapshot-serengeti/blob/master/resize.ipynb"
   ]
  },
  {
   "cell_type": "code",
   "execution_count": 1,
   "metadata": {},
   "outputs": [],
   "source": [
    "from pathlib import Path\n",
    "import json\n",
    "import logging\n",
    "\n",
    "import numpy as np\n",
    "import pandas as pd\n",
    "\n",
    "import os\n",
    "\n",
    "from PIL import Image, ImageFile\n",
    "ImageFile.LOAD_TRUNCATED_IMAGES = True\n",
    "\n",
    "from tqdm import tqdm_notebook as tqdm\n",
    "from PIL import Image\n",
    "\n",
    "from joblib import Parallel, delayed"
   ]
  },
  {
   "cell_type": "code",
   "execution_count": 2,
   "metadata": {},
   "outputs": [],
   "source": [
    "PATH_TO_IMG = Path(\"/data/Gabon_trainingData\")\n",
    "\n",
    "PATH_TO_MAIN = Path(\"/home/jupyter/\")\n",
    "PATH_TO_TRAIN_DF = PATH_TO_MAIN / \"inspect_data_split_validation\""
   ]
  },
  {
   "cell_type": "code",
   "execution_count": 3,
   "metadata": {},
   "outputs": [
    {
     "data": {
      "text/html": [
       "<div>\n",
       "<style scoped>\n",
       "    .dataframe tbody tr th:only-of-type {\n",
       "        vertical-align: middle;\n",
       "    }\n",
       "\n",
       "    .dataframe tbody tr th {\n",
       "        vertical-align: top;\n",
       "    }\n",
       "\n",
       "    .dataframe thead th {\n",
       "        text-align: right;\n",
       "    }\n",
       "</style>\n",
       "<table border=\"1\" class=\"dataframe\">\n",
       "  <thead>\n",
       "    <tr style=\"text-align: right;\">\n",
       "      <th></th>\n",
       "      <th>uniqueName</th>\n",
       "      <th>species</th>\n",
       "      <th>main_folder</th>\n",
       "      <th>is_valid</th>\n",
       "      <th>sub_folder</th>\n",
       "    </tr>\n",
       "  </thead>\n",
       "  <tbody>\n",
       "    <tr>\n",
       "      <th>0</th>\n",
       "      <td>0000005.jpg</td>\n",
       "      <td>Human</td>\n",
       "      <td>Compressed Camera Trap Images</td>\n",
       "      <td>False</td>\n",
       "      <td>T33</td>\n",
       "    </tr>\n",
       "    <tr>\n",
       "      <th>1</th>\n",
       "      <td>0000007.jpg</td>\n",
       "      <td>Human</td>\n",
       "      <td>Compressed Camera Trap Images</td>\n",
       "      <td>False</td>\n",
       "      <td>T33</td>\n",
       "    </tr>\n",
       "    <tr>\n",
       "      <th>2</th>\n",
       "      <td>0000009.jpg</td>\n",
       "      <td>Human</td>\n",
       "      <td>Compressed Camera Trap Images</td>\n",
       "      <td>False</td>\n",
       "      <td>T33</td>\n",
       "    </tr>\n",
       "    <tr>\n",
       "      <th>3</th>\n",
       "      <td>0000013.jpg</td>\n",
       "      <td>Human</td>\n",
       "      <td>Compressed Camera Trap Images</td>\n",
       "      <td>False</td>\n",
       "      <td>T33</td>\n",
       "    </tr>\n",
       "    <tr>\n",
       "      <th>4</th>\n",
       "      <td>0000015.jpg</td>\n",
       "      <td>Human</td>\n",
       "      <td>Compressed Camera Trap Images</td>\n",
       "      <td>False</td>\n",
       "      <td>T33</td>\n",
       "    </tr>\n",
       "  </tbody>\n",
       "</table>\n",
       "</div>"
      ],
      "text/plain": [
       "    uniqueName species                    main_folder  is_valid sub_folder\n",
       "0  0000005.jpg   Human  Compressed Camera Trap Images     False        T33\n",
       "1  0000007.jpg   Human  Compressed Camera Trap Images     False        T33\n",
       "2  0000009.jpg   Human  Compressed Camera Trap Images     False        T33\n",
       "3  0000013.jpg   Human  Compressed Camera Trap Images     False        T33\n",
       "4  0000015.jpg   Human  Compressed Camera Trap Images     False        T33"
      ]
     },
     "execution_count": 3,
     "metadata": {},
     "output_type": "execute_result"
    }
   ],
   "source": [
    "df = pd.read_csv(PATH_TO_TRAIN_DF / \"train_valid_df.csv\")\n",
    "df.head()"
   ]
  },
  {
   "cell_type": "code",
   "execution_count": 4,
   "metadata": {},
   "outputs": [
    {
     "data": {
      "text/plain": [
       "347120"
      ]
     },
     "execution_count": 4,
     "metadata": {},
     "output_type": "execute_result"
    }
   ],
   "source": [
    "filename = \"sizes.npy\"\n",
    "sizes_from_file = np.load(filename).tolist()\n",
    "len(sizes_from_file)"
   ]
  },
  {
   "cell_type": "code",
   "execution_count": 5,
   "metadata": {},
   "outputs": [
    {
     "data": {
      "text/html": [
       "<div>\n",
       "<style scoped>\n",
       "    .dataframe tbody tr th:only-of-type {\n",
       "        vertical-align: middle;\n",
       "    }\n",
       "\n",
       "    .dataframe tbody tr th {\n",
       "        vertical-align: top;\n",
       "    }\n",
       "\n",
       "    .dataframe thead th {\n",
       "        text-align: right;\n",
       "    }\n",
       "</style>\n",
       "<table border=\"1\" class=\"dataframe\">\n",
       "  <thead>\n",
       "    <tr style=\"text-align: right;\">\n",
       "      <th></th>\n",
       "      <th>x</th>\n",
       "      <th>y</th>\n",
       "      <th>uniqueName</th>\n",
       "      <th>dim</th>\n",
       "    </tr>\n",
       "  </thead>\n",
       "  <tbody>\n",
       "    <tr>\n",
       "      <th>0</th>\n",
       "      <td>1088</td>\n",
       "      <td>816</td>\n",
       "      <td>0000005.jpg</td>\n",
       "      <td>1088 x 816</td>\n",
       "    </tr>\n",
       "    <tr>\n",
       "      <th>1</th>\n",
       "      <td>1088</td>\n",
       "      <td>816</td>\n",
       "      <td>0000007.jpg</td>\n",
       "      <td>1088 x 816</td>\n",
       "    </tr>\n",
       "    <tr>\n",
       "      <th>2</th>\n",
       "      <td>1088</td>\n",
       "      <td>816</td>\n",
       "      <td>0000009.jpg</td>\n",
       "      <td>1088 x 816</td>\n",
       "    </tr>\n",
       "    <tr>\n",
       "      <th>3</th>\n",
       "      <td>1088</td>\n",
       "      <td>816</td>\n",
       "      <td>0000013.jpg</td>\n",
       "      <td>1088 x 816</td>\n",
       "    </tr>\n",
       "    <tr>\n",
       "      <th>4</th>\n",
       "      <td>1088</td>\n",
       "      <td>816</td>\n",
       "      <td>0000015.jpg</td>\n",
       "      <td>1088 x 816</td>\n",
       "    </tr>\n",
       "  </tbody>\n",
       "</table>\n",
       "</div>"
      ],
      "text/plain": [
       "      x    y   uniqueName         dim\n",
       "0  1088  816  0000005.jpg  1088 x 816\n",
       "1  1088  816  0000007.jpg  1088 x 816\n",
       "2  1088  816  0000009.jpg  1088 x 816\n",
       "3  1088  816  0000013.jpg  1088 x 816\n",
       "4  1088  816  0000015.jpg  1088 x 816"
      ]
     },
     "execution_count": 5,
     "metadata": {},
     "output_type": "execute_result"
    }
   ],
   "source": [
    "df_sizes = pd.DataFrame(sizes_from_file, columns=[\"x\", \"y\", \"uniqueName\"])\n",
    "df_sizes[\"dim\"] = df_sizes[\"x\"]+\" x \"+df_sizes[\"y\"]\n",
    "df_sizes.head()"
   ]
  },
  {
   "cell_type": "code",
   "execution_count": 8,
   "metadata": {},
   "outputs": [
    {
     "data": {
      "text/html": [
       "<div>\n",
       "<style scoped>\n",
       "    .dataframe tbody tr th:only-of-type {\n",
       "        vertical-align: middle;\n",
       "    }\n",
       "\n",
       "    .dataframe tbody tr th {\n",
       "        vertical-align: top;\n",
       "    }\n",
       "\n",
       "    .dataframe thead th {\n",
       "        text-align: right;\n",
       "    }\n",
       "</style>\n",
       "<table border=\"1\" class=\"dataframe\">\n",
       "  <thead>\n",
       "    <tr style=\"text-align: right;\">\n",
       "      <th></th>\n",
       "      <th>uniqueName</th>\n",
       "      <th>species</th>\n",
       "      <th>main_folder</th>\n",
       "      <th>is_valid</th>\n",
       "      <th>sub_folder</th>\n",
       "      <th>x</th>\n",
       "      <th>y</th>\n",
       "      <th>dim</th>\n",
       "    </tr>\n",
       "  </thead>\n",
       "  <tbody>\n",
       "    <tr>\n",
       "      <th>0</th>\n",
       "      <td>0000005.jpg</td>\n",
       "      <td>Human</td>\n",
       "      <td>Compressed Camera Trap Images</td>\n",
       "      <td>False</td>\n",
       "      <td>T33</td>\n",
       "      <td>1088</td>\n",
       "      <td>816</td>\n",
       "      <td>1088 x 816</td>\n",
       "    </tr>\n",
       "    <tr>\n",
       "      <th>1</th>\n",
       "      <td>0000007.jpg</td>\n",
       "      <td>Human</td>\n",
       "      <td>Compressed Camera Trap Images</td>\n",
       "      <td>False</td>\n",
       "      <td>T33</td>\n",
       "      <td>1088</td>\n",
       "      <td>816</td>\n",
       "      <td>1088 x 816</td>\n",
       "    </tr>\n",
       "    <tr>\n",
       "      <th>2</th>\n",
       "      <td>0000009.jpg</td>\n",
       "      <td>Human</td>\n",
       "      <td>Compressed Camera Trap Images</td>\n",
       "      <td>False</td>\n",
       "      <td>T33</td>\n",
       "      <td>1088</td>\n",
       "      <td>816</td>\n",
       "      <td>1088 x 816</td>\n",
       "    </tr>\n",
       "    <tr>\n",
       "      <th>3</th>\n",
       "      <td>0000013.jpg</td>\n",
       "      <td>Human</td>\n",
       "      <td>Compressed Camera Trap Images</td>\n",
       "      <td>False</td>\n",
       "      <td>T33</td>\n",
       "      <td>1088</td>\n",
       "      <td>816</td>\n",
       "      <td>1088 x 816</td>\n",
       "    </tr>\n",
       "    <tr>\n",
       "      <th>4</th>\n",
       "      <td>0000015.jpg</td>\n",
       "      <td>Human</td>\n",
       "      <td>Compressed Camera Trap Images</td>\n",
       "      <td>False</td>\n",
       "      <td>T33</td>\n",
       "      <td>1088</td>\n",
       "      <td>816</td>\n",
       "      <td>1088 x 816</td>\n",
       "    </tr>\n",
       "    <tr>\n",
       "      <th>...</th>\n",
       "      <td>...</td>\n",
       "      <td>...</td>\n",
       "      <td>...</td>\n",
       "      <td>...</td>\n",
       "      <td>...</td>\n",
       "      <td>...</td>\n",
       "      <td>...</td>\n",
       "      <td>...</td>\n",
       "    </tr>\n",
       "    <tr>\n",
       "      <th>347115</th>\n",
       "      <td>1529566.jpg</td>\n",
       "      <td>Duiker_Red</td>\n",
       "      <td>allData</td>\n",
       "      <td>False</td>\n",
       "      <td>NouabaleTEAM</td>\n",
       "      <td>1280</td>\n",
       "      <td>1024</td>\n",
       "      <td>1280 x 1024</td>\n",
       "    </tr>\n",
       "    <tr>\n",
       "      <th>347116</th>\n",
       "      <td>1529571.jpg</td>\n",
       "      <td>Duiker_Red</td>\n",
       "      <td>allData</td>\n",
       "      <td>False</td>\n",
       "      <td>NouabaleTEAM</td>\n",
       "      <td>1280</td>\n",
       "      <td>1024</td>\n",
       "      <td>1280 x 1024</td>\n",
       "    </tr>\n",
       "    <tr>\n",
       "      <th>347117</th>\n",
       "      <td>1529572.jpg</td>\n",
       "      <td>Duiker_Red</td>\n",
       "      <td>allData</td>\n",
       "      <td>False</td>\n",
       "      <td>NouabaleTEAM</td>\n",
       "      <td>1280</td>\n",
       "      <td>1024</td>\n",
       "      <td>1280 x 1024</td>\n",
       "    </tr>\n",
       "    <tr>\n",
       "      <th>347118</th>\n",
       "      <td>1529575.jpg</td>\n",
       "      <td>Duiker_Red</td>\n",
       "      <td>allData</td>\n",
       "      <td>False</td>\n",
       "      <td>NouabaleTEAM</td>\n",
       "      <td>1280</td>\n",
       "      <td>1024</td>\n",
       "      <td>1280 x 1024</td>\n",
       "    </tr>\n",
       "    <tr>\n",
       "      <th>347119</th>\n",
       "      <td>1529576.jpg</td>\n",
       "      <td>Duiker_Red</td>\n",
       "      <td>allData</td>\n",
       "      <td>False</td>\n",
       "      <td>NouabaleTEAM</td>\n",
       "      <td>1280</td>\n",
       "      <td>1024</td>\n",
       "      <td>1280 x 1024</td>\n",
       "    </tr>\n",
       "  </tbody>\n",
       "</table>\n",
       "<p>347120 rows × 8 columns</p>\n",
       "</div>"
      ],
      "text/plain": [
       "         uniqueName     species                    main_folder  is_valid  \\\n",
       "0       0000005.jpg       Human  Compressed Camera Trap Images     False   \n",
       "1       0000007.jpg       Human  Compressed Camera Trap Images     False   \n",
       "2       0000009.jpg       Human  Compressed Camera Trap Images     False   \n",
       "3       0000013.jpg       Human  Compressed Camera Trap Images     False   \n",
       "4       0000015.jpg       Human  Compressed Camera Trap Images     False   \n",
       "...             ...         ...                            ...       ...   \n",
       "347115  1529566.jpg  Duiker_Red                        allData     False   \n",
       "347116  1529571.jpg  Duiker_Red                        allData     False   \n",
       "347117  1529572.jpg  Duiker_Red                        allData     False   \n",
       "347118  1529575.jpg  Duiker_Red                        allData     False   \n",
       "347119  1529576.jpg  Duiker_Red                        allData     False   \n",
       "\n",
       "          sub_folder     x     y          dim  \n",
       "0                T33  1088   816   1088 x 816  \n",
       "1                T33  1088   816   1088 x 816  \n",
       "2                T33  1088   816   1088 x 816  \n",
       "3                T33  1088   816   1088 x 816  \n",
       "4                T33  1088   816   1088 x 816  \n",
       "...              ...   ...   ...          ...  \n",
       "347115  NouabaleTEAM  1280  1024  1280 x 1024  \n",
       "347116  NouabaleTEAM  1280  1024  1280 x 1024  \n",
       "347117  NouabaleTEAM  1280  1024  1280 x 1024  \n",
       "347118  NouabaleTEAM  1280  1024  1280 x 1024  \n",
       "347119  NouabaleTEAM  1280  1024  1280 x 1024  \n",
       "\n",
       "[347120 rows x 8 columns]"
      ]
     },
     "execution_count": 8,
     "metadata": {},
     "output_type": "execute_result"
    }
   ],
   "source": [
    "df_desc_sizes = pd.merge(df, df_sizes, how=\"left\", on=\"uniqueName\")\n",
    "df_desc_sizes"
   ]
  },
  {
   "cell_type": "code",
   "execution_count": 9,
   "metadata": {},
   "outputs": [
    {
     "data": {
      "text/html": [
       "<div>\n",
       "<style scoped>\n",
       "    .dataframe tbody tr th:only-of-type {\n",
       "        vertical-align: middle;\n",
       "    }\n",
       "\n",
       "    .dataframe tbody tr th {\n",
       "        vertical-align: top;\n",
       "    }\n",
       "\n",
       "    .dataframe thead th {\n",
       "        text-align: right;\n",
       "    }\n",
       "</style>\n",
       "<table border=\"1\" class=\"dataframe\">\n",
       "  <thead>\n",
       "    <tr style=\"text-align: right;\">\n",
       "      <th></th>\n",
       "      <th>main_folder</th>\n",
       "      <th>dim</th>\n",
       "      <th>is_valid</th>\n",
       "      <th>counts</th>\n",
       "    </tr>\n",
       "  </thead>\n",
       "  <tbody>\n",
       "    <tr>\n",
       "      <th>7</th>\n",
       "      <td>allData</td>\n",
       "      <td>2048 x 1536</td>\n",
       "      <td>False</td>\n",
       "      <td>123954</td>\n",
       "    </tr>\n",
       "    <tr>\n",
       "      <th>5</th>\n",
       "      <td>allData</td>\n",
       "      <td>1280 x 1024</td>\n",
       "      <td>False</td>\n",
       "      <td>60393</td>\n",
       "    </tr>\n",
       "    <tr>\n",
       "      <th>6</th>\n",
       "      <td>allData</td>\n",
       "      <td>1600 x 1200</td>\n",
       "      <td>True</td>\n",
       "      <td>9268</td>\n",
       "    </tr>\n",
       "    <tr>\n",
       "      <th>8</th>\n",
       "      <td>allData</td>\n",
       "      <td>2048 x 1536</td>\n",
       "      <td>True</td>\n",
       "      <td>6306</td>\n",
       "    </tr>\n",
       "    <tr>\n",
       "      <th>10</th>\n",
       "      <td>allData</td>\n",
       "      <td>2576 x 1496</td>\n",
       "      <td>True</td>\n",
       "      <td>4750</td>\n",
       "    </tr>\n",
       "    <tr>\n",
       "      <th>12</th>\n",
       "      <td>allData</td>\n",
       "      <td>3264 x 1832</td>\n",
       "      <td>True</td>\n",
       "      <td>2905</td>\n",
       "    </tr>\n",
       "    <tr>\n",
       "      <th>9</th>\n",
       "      <td>allData</td>\n",
       "      <td>2560 x 1920</td>\n",
       "      <td>True</td>\n",
       "      <td>734</td>\n",
       "    </tr>\n",
       "    <tr>\n",
       "      <th>13</th>\n",
       "      <td>allData</td>\n",
       "      <td>3264 x 2448</td>\n",
       "      <td>True</td>\n",
       "      <td>324</td>\n",
       "    </tr>\n",
       "    <tr>\n",
       "      <th>11</th>\n",
       "      <td>allData</td>\n",
       "      <td>2576 x 1984</td>\n",
       "      <td>True</td>\n",
       "      <td>41</td>\n",
       "    </tr>\n",
       "    <tr>\n",
       "      <th>3</th>\n",
       "      <td>Compressed Camera Trap Images</td>\n",
       "      <td>1088 x 816</td>\n",
       "      <td>False</td>\n",
       "      <td>88990</td>\n",
       "    </tr>\n",
       "    <tr>\n",
       "      <th>4</th>\n",
       "      <td>Compressed Camera Trap Images</td>\n",
       "      <td>1088 x 816</td>\n",
       "      <td>True</td>\n",
       "      <td>13428</td>\n",
       "    </tr>\n",
       "    <tr>\n",
       "      <th>1</th>\n",
       "      <td>Camera trap Nki National Park</td>\n",
       "      <td>3840 x 2160</td>\n",
       "      <td>False</td>\n",
       "      <td>30154</td>\n",
       "    </tr>\n",
       "    <tr>\n",
       "      <th>2</th>\n",
       "      <td>Camera trap Nki National Park</td>\n",
       "      <td>3840 x 2160</td>\n",
       "      <td>True</td>\n",
       "      <td>5872</td>\n",
       "    </tr>\n",
       "    <tr>\n",
       "      <th>0</th>\n",
       "      <td>Camera trap Nki National Park</td>\n",
       "      <td>1920 x 1440</td>\n",
       "      <td>False</td>\n",
       "      <td>1</td>\n",
       "    </tr>\n",
       "  </tbody>\n",
       "</table>\n",
       "</div>"
      ],
      "text/plain": [
       "                      main_folder          dim  is_valid  counts\n",
       "7                         allData  2048 x 1536     False  123954\n",
       "5                         allData  1280 x 1024     False   60393\n",
       "6                         allData  1600 x 1200      True    9268\n",
       "8                         allData  2048 x 1536      True    6306\n",
       "10                        allData  2576 x 1496      True    4750\n",
       "12                        allData  3264 x 1832      True    2905\n",
       "9                         allData  2560 x 1920      True     734\n",
       "13                        allData  3264 x 2448      True     324\n",
       "11                        allData  2576 x 1984      True      41\n",
       "3   Compressed Camera Trap Images   1088 x 816     False   88990\n",
       "4   Compressed Camera Trap Images   1088 x 816      True   13428\n",
       "1   Camera trap Nki National Park  3840 x 2160     False   30154\n",
       "2   Camera trap Nki National Park  3840 x 2160      True    5872\n",
       "0   Camera trap Nki National Park  1920 x 1440     False       1"
      ]
     },
     "execution_count": 9,
     "metadata": {},
     "output_type": "execute_result"
    }
   ],
   "source": [
    "counts_by_source_dim = df_desc_sizes.groupby([\"main_folder\", \"dim\", \"is_valid\"]).size().reset_index(name=\"counts\").sort_values(by=['main_folder','counts'],ascending=False)\n",
    "counts_by_source_dim"
   ]
  },
  {
   "cell_type": "code",
   "execution_count": 10,
   "metadata": {},
   "outputs": [
    {
     "data": {
      "text/html": [
       "<div>\n",
       "<style scoped>\n",
       "    .dataframe tbody tr th:only-of-type {\n",
       "        vertical-align: middle;\n",
       "    }\n",
       "\n",
       "    .dataframe tbody tr th {\n",
       "        vertical-align: top;\n",
       "    }\n",
       "\n",
       "    .dataframe thead th {\n",
       "        text-align: right;\n",
       "    }\n",
       "</style>\n",
       "<table border=\"1\" class=\"dataframe\">\n",
       "  <thead>\n",
       "    <tr style=\"text-align: right;\">\n",
       "      <th></th>\n",
       "      <th>dim</th>\n",
       "      <th>sub_folder</th>\n",
       "      <th>is_valid</th>\n",
       "      <th>counts</th>\n",
       "    </tr>\n",
       "  </thead>\n",
       "  <tbody>\n",
       "    <tr>\n",
       "      <th>5</th>\n",
       "      <td>2576 x 1496</td>\n",
       "      <td>StephBrittainZSL</td>\n",
       "      <td>True</td>\n",
       "      <td>4750</td>\n",
       "    </tr>\n",
       "    <tr>\n",
       "      <th>7</th>\n",
       "      <td>3264 x 1832</td>\n",
       "      <td>StephBrittainZSL</td>\n",
       "      <td>True</td>\n",
       "      <td>2905</td>\n",
       "    </tr>\n",
       "    <tr>\n",
       "      <th>9</th>\n",
       "      <td>3264 x 2448</td>\n",
       "      <td>StephBrittainZSL</td>\n",
       "      <td>True</td>\n",
       "      <td>74</td>\n",
       "    </tr>\n",
       "    <tr>\n",
       "      <th>6</th>\n",
       "      <td>2576 x 1984</td>\n",
       "      <td>StephBrittainZSL</td>\n",
       "      <td>True</td>\n",
       "      <td>41</td>\n",
       "    </tr>\n",
       "    <tr>\n",
       "      <th>0</th>\n",
       "      <td>1280 x 1024</td>\n",
       "      <td>NouabaleTEAM</td>\n",
       "      <td>False</td>\n",
       "      <td>60393</td>\n",
       "    </tr>\n",
       "    <tr>\n",
       "      <th>1</th>\n",
       "      <td>1600 x 1200</td>\n",
       "      <td>LailaBahaaelDinPanthera</td>\n",
       "      <td>True</td>\n",
       "      <td>9268</td>\n",
       "    </tr>\n",
       "    <tr>\n",
       "      <th>3</th>\n",
       "      <td>2048 x 1536</td>\n",
       "      <td>LailaBahaaelDinPanthera</td>\n",
       "      <td>True</td>\n",
       "      <td>6306</td>\n",
       "    </tr>\n",
       "    <tr>\n",
       "      <th>4</th>\n",
       "      <td>2560 x 1920</td>\n",
       "      <td>LailaBahaaelDinPanthera</td>\n",
       "      <td>True</td>\n",
       "      <td>734</td>\n",
       "    </tr>\n",
       "    <tr>\n",
       "      <th>8</th>\n",
       "      <td>3264 x 2448</td>\n",
       "      <td>LailaBahaaelDinPanthera</td>\n",
       "      <td>True</td>\n",
       "      <td>250</td>\n",
       "    </tr>\n",
       "    <tr>\n",
       "      <th>2</th>\n",
       "      <td>2048 x 1536</td>\n",
       "      <td>KorupTEAM</td>\n",
       "      <td>False</td>\n",
       "      <td>123954</td>\n",
       "    </tr>\n",
       "  </tbody>\n",
       "</table>\n",
       "</div>"
      ],
      "text/plain": [
       "           dim               sub_folder  is_valid  counts\n",
       "5  2576 x 1496         StephBrittainZSL      True    4750\n",
       "7  3264 x 1832         StephBrittainZSL      True    2905\n",
       "9  3264 x 2448         StephBrittainZSL      True      74\n",
       "6  2576 x 1984         StephBrittainZSL      True      41\n",
       "0  1280 x 1024             NouabaleTEAM     False   60393\n",
       "1  1600 x 1200  LailaBahaaelDinPanthera      True    9268\n",
       "3  2048 x 1536  LailaBahaaelDinPanthera      True    6306\n",
       "4  2560 x 1920  LailaBahaaelDinPanthera      True     734\n",
       "8  3264 x 2448  LailaBahaaelDinPanthera      True     250\n",
       "2  2048 x 1536                KorupTEAM     False  123954"
      ]
     },
     "execution_count": 10,
     "metadata": {},
     "output_type": "execute_result"
    }
   ],
   "source": [
    "counts_by_source_dim_all_data = df_desc_sizes[df_desc_sizes[\"main_folder\"] == \"allData\"]\\\n",
    "                                    .groupby([\"dim\", \"sub_folder\", \"is_valid\"]).size()\\\n",
    "                                    .reset_index(name=\"counts\")\\\n",
    "                                    .sort_values(by=['sub_folder','counts'],ascending=False)\n",
    "counts_by_source_dim_all_data"
   ]
  },
  {
   "cell_type": "markdown",
   "metadata": {},
   "source": [
    "### Proportions"
   ]
  },
  {
   "cell_type": "code",
   "execution_count": 11,
   "metadata": {},
   "outputs": [
    {
     "data": {
      "text/plain": [
       "1.33    243005\n",
       "1.25     60393\n",
       "1.78     38931\n",
       "1.72      4750\n",
       "1.30        41\n",
       "Name: propor, dtype: int64"
      ]
     },
     "execution_count": 11,
     "metadata": {},
     "output_type": "execute_result"
    }
   ],
   "source": [
    "df_sizes[\"propor\"] = round(df_sizes.x.apply(float) / df_sizes.y.apply(float),2)\n",
    "df_sizes.propor.value_counts()"
   ]
  },
  {
   "cell_type": "code",
   "execution_count": 12,
   "metadata": {},
   "outputs": [
    {
     "data": {
      "text/plain": [
       "propor  dim        \n",
       "1.25    1280 x 1024     60393\n",
       "1.30    2576 x 1984        41\n",
       "1.33    1088 x 816     102418\n",
       "        1600 x 1200      9268\n",
       "        1920 x 1440         1\n",
       "        2048 x 1536    130260\n",
       "        2560 x 1920       734\n",
       "        3264 x 2448       324\n",
       "1.72    2576 x 1496      4750\n",
       "1.78    3264 x 1832      2905\n",
       "        3840 x 2160     36026\n",
       "dtype: int64"
      ]
     },
     "execution_count": 12,
     "metadata": {},
     "output_type": "execute_result"
    }
   ],
   "source": [
    "df_sizes.groupby([\"propor\", \"dim\"]).size()"
   ]
  },
  {
   "cell_type": "code",
   "execution_count": 37,
   "metadata": {},
   "outputs": [
    {
     "data": {
      "text/html": [
       "<div>\n",
       "<style scoped>\n",
       "    .dataframe tbody tr th:only-of-type {\n",
       "        vertical-align: middle;\n",
       "    }\n",
       "\n",
       "    .dataframe tbody tr th {\n",
       "        vertical-align: top;\n",
       "    }\n",
       "\n",
       "    .dataframe thead th {\n",
       "        text-align: right;\n",
       "    }\n",
       "</style>\n",
       "<table border=\"1\" class=\"dataframe\">\n",
       "  <thead>\n",
       "    <tr style=\"text-align: right;\">\n",
       "      <th></th>\n",
       "      <th>x</th>\n",
       "      <th>y</th>\n",
       "      <th>uniqueName</th>\n",
       "      <th>dim</th>\n",
       "      <th>propor</th>\n",
       "    </tr>\n",
       "  </thead>\n",
       "  <tbody>\n",
       "    <tr>\n",
       "      <th>0</th>\n",
       "      <td>1088</td>\n",
       "      <td>816</td>\n",
       "      <td>0000005.jpg</td>\n",
       "      <td>1088 x 816</td>\n",
       "      <td>1.33</td>\n",
       "    </tr>\n",
       "    <tr>\n",
       "      <th>1</th>\n",
       "      <td>1088</td>\n",
       "      <td>816</td>\n",
       "      <td>0000007.jpg</td>\n",
       "      <td>1088 x 816</td>\n",
       "      <td>1.33</td>\n",
       "    </tr>\n",
       "    <tr>\n",
       "      <th>2</th>\n",
       "      <td>1088</td>\n",
       "      <td>816</td>\n",
       "      <td>0000009.jpg</td>\n",
       "      <td>1088 x 816</td>\n",
       "      <td>1.33</td>\n",
       "    </tr>\n",
       "    <tr>\n",
       "      <th>3</th>\n",
       "      <td>1088</td>\n",
       "      <td>816</td>\n",
       "      <td>0000013.jpg</td>\n",
       "      <td>1088 x 816</td>\n",
       "      <td>1.33</td>\n",
       "    </tr>\n",
       "    <tr>\n",
       "      <th>4</th>\n",
       "      <td>1088</td>\n",
       "      <td>816</td>\n",
       "      <td>0000015.jpg</td>\n",
       "      <td>1088 x 816</td>\n",
       "      <td>1.33</td>\n",
       "    </tr>\n",
       "    <tr>\n",
       "      <th>...</th>\n",
       "      <td>...</td>\n",
       "      <td>...</td>\n",
       "      <td>...</td>\n",
       "      <td>...</td>\n",
       "      <td>...</td>\n",
       "    </tr>\n",
       "    <tr>\n",
       "      <th>347115</th>\n",
       "      <td>1280</td>\n",
       "      <td>1024</td>\n",
       "      <td>1529566.jpg</td>\n",
       "      <td>1280 x 1024</td>\n",
       "      <td>1.25</td>\n",
       "    </tr>\n",
       "    <tr>\n",
       "      <th>347116</th>\n",
       "      <td>1280</td>\n",
       "      <td>1024</td>\n",
       "      <td>1529571.jpg</td>\n",
       "      <td>1280 x 1024</td>\n",
       "      <td>1.25</td>\n",
       "    </tr>\n",
       "    <tr>\n",
       "      <th>347117</th>\n",
       "      <td>1280</td>\n",
       "      <td>1024</td>\n",
       "      <td>1529572.jpg</td>\n",
       "      <td>1280 x 1024</td>\n",
       "      <td>1.25</td>\n",
       "    </tr>\n",
       "    <tr>\n",
       "      <th>347118</th>\n",
       "      <td>1280</td>\n",
       "      <td>1024</td>\n",
       "      <td>1529575.jpg</td>\n",
       "      <td>1280 x 1024</td>\n",
       "      <td>1.25</td>\n",
       "    </tr>\n",
       "    <tr>\n",
       "      <th>347119</th>\n",
       "      <td>1280</td>\n",
       "      <td>1024</td>\n",
       "      <td>1529576.jpg</td>\n",
       "      <td>1280 x 1024</td>\n",
       "      <td>1.25</td>\n",
       "    </tr>\n",
       "  </tbody>\n",
       "</table>\n",
       "<p>347120 rows × 5 columns</p>\n",
       "</div>"
      ],
      "text/plain": [
       "           x     y   uniqueName          dim  propor\n",
       "0       1088   816  0000005.jpg   1088 x 816    1.33\n",
       "1       1088   816  0000007.jpg   1088 x 816    1.33\n",
       "2       1088   816  0000009.jpg   1088 x 816    1.33\n",
       "3       1088   816  0000013.jpg   1088 x 816    1.33\n",
       "4       1088   816  0000015.jpg   1088 x 816    1.33\n",
       "...      ...   ...          ...          ...     ...\n",
       "347115  1280  1024  1529566.jpg  1280 x 1024    1.25\n",
       "347116  1280  1024  1529571.jpg  1280 x 1024    1.25\n",
       "347117  1280  1024  1529572.jpg  1280 x 1024    1.25\n",
       "347118  1280  1024  1529575.jpg  1280 x 1024    1.25\n",
       "347119  1280  1024  1529576.jpg  1280 x 1024    1.25\n",
       "\n",
       "[347120 rows x 5 columns]"
      ]
     },
     "execution_count": 37,
     "metadata": {},
     "output_type": "execute_result"
    }
   ],
   "source": [
    "df_sizes"
   ]
  },
  {
   "cell_type": "markdown",
   "metadata": {},
   "source": [
    "### Code for rescaling"
   ]
  },
  {
   "cell_type": "code",
   "execution_count": 26,
   "metadata": {},
   "outputs": [],
   "source": [
    "import os\n",
    "import piexif\n",
    "\n",
    "from tqdm.notebook import tqdm\n",
    "from PIL import Image\n",
    "\n",
    "from joblib import Parallel, delayed\n",
    "\n",
    "from PIL import ImageFile\n",
    "ImageFile.LOAD_TRUNCATED_IMAGES = True"
   ]
  },
  {
   "cell_type": "code",
   "execution_count": 42,
   "metadata": {},
   "outputs": [],
   "source": [
    "PATH_TO_IMG_RESC = Path(\"/data_rescaled/\")"
   ]
  },
  {
   "cell_type": "code",
   "execution_count": 21,
   "metadata": {},
   "outputs": [],
   "source": [
    "# ! pip install piexif"
   ]
  },
  {
   "cell_type": "code",
   "execution_count": 34,
   "metadata": {},
   "outputs": [
    {
     "data": {
      "text/plain": [
       "[['0000005.jpg', '1088', '816'],\n",
       " ['0000007.jpg', '1088', '816'],\n",
       " ['0000009.jpg', '1088', '816'],\n",
       " ['0000013.jpg', '1088', '816']]"
      ]
     },
     "execution_count": 34,
     "metadata": {},
     "output_type": "execute_result"
    }
   ],
   "source": [
    "images_x_y = df_desc_sizes[[\"uniqueName\", \"x\", \"y\"]].values.tolist()\n",
    "images_x_y[:4]"
   ]
  },
  {
   "cell_type": "code",
   "execution_count": 37,
   "metadata": {},
   "outputs": [
    {
     "data": {
      "application/vnd.jupyter.widget-view+json": {
       "model_id": "8317fdeed89e4b09a9811c7c83910d16",
       "version_major": 2,
       "version_minor": 0
      },
      "text/plain": [
       "HBox(children=(FloatProgress(value=0.0, max=4.0), HTML(value='')))"
      ]
     },
     "metadata": {},
     "output_type": "display_data"
    },
    {
     "name": "stdout",
     "output_type": "stream",
     "text": [
      "0000005.jpg\n",
      "0000007.jpg\n",
      "0000009.jpg\n",
      "0000013.jpg\n",
      "\n"
     ]
    }
   ],
   "source": [
    "for image_x_y in tqdm(images_x_y[:4]):\n",
    "    print(image_x_y[0])"
   ]
  },
  {
   "cell_type": "code",
   "execution_count": null,
   "metadata": {},
   "outputs": [
    {
     "data": {
      "application/vnd.jupyter.widget-view+json": {
       "model_id": "688e2c15609840f4802dfa1f63635b09",
       "version_major": 2,
       "version_minor": 0
      },
      "text/plain": [
       "HBox(children=(FloatProgress(value=0.0, max=347120.0), HTML(value='')))"
      ]
     },
     "metadata": {},
     "output_type": "display_data"
    }
   ],
   "source": [
    "exceptions = []\n",
    "for image_x_y in tqdm(images_x_y):\n",
    "    try:\n",
    "        filename = image_x_y[0]\n",
    "        new_filename = \"resc_\" + filename\n",
    "        if os.path.isfile(PATH_TO_IMG_RESC / new_filename):\n",
    "            continue\n",
    "        img = Image.open(PATH_TO_IMG / filename)\n",
    "        y = 384\n",
    "        scale = 384 / int(image_x_y[2])\n",
    "        x = round(scale * int(image_x_y[1]))\n",
    "        img = img.resize((x, y), Image.ANTIALIAS)\n",
    "        img.save(PATH_TO_IMG_RESC / new_filename)\n",
    "        piexif.transplant(PATH_TO_IMG / filename, PATH_TO_IMG_RESC / new_filename)\n",
    "    except Exception as e:\n",
    "        exceptions.append([image_x_y, e])"
   ]
  },
  {
   "cell_type": "code",
   "execution_count": 58,
   "metadata": {},
   "outputs": [
    {
     "name": "stdout",
     "output_type": "stream",
     "text": [
      "\u001b[0m\u001b[01;34mlost+found\u001b[0m/       resc_0000009.jpg  resc_0000017.jpg  resc_1529575.jpg\n",
      "resc_0000005.jpg  resc_0000013.jpg  resc_0000021.jpg  resc_1529576.jpg\n",
      "resc_0000007.jpg  resc_0000015.jpg  resc_1529572.jpg\n"
     ]
    }
   ],
   "source": [
    "ls /data_rescaled"
   ]
  },
  {
   "cell_type": "code",
   "execution_count": 52,
   "metadata": {},
   "outputs": [
    {
     "data": {
      "application/vnd.jupyter.widget-view+json": {
       "model_id": "f8d618c235104535a44e99eb94661a58",
       "version_major": 2,
       "version_minor": 0
      },
      "text/plain": [
       "HBox(children=(FloatProgress(value=0.0, max=4.0), HTML(value='')))"
      ]
     },
     "metadata": {},
     "output_type": "display_data"
    },
    {
     "name": "stdout",
     "output_type": "stream",
     "text": [
      "['1529571.jpg', '1280', '1024']\n",
      "['1529572.jpg', '1280', '1024']\n",
      "['1529575.jpg', '1280', '1024']\n",
      "['1529576.jpg', '1280', '1024']\n",
      "\n"
     ]
    }
   ],
   "source": [
    "for image_x_y in tqdm(images_x_y[-4:]):\n",
    "    print(image_x_y)"
   ]
  },
  {
   "cell_type": "code",
   "execution_count": 61,
   "metadata": {},
   "outputs": [
    {
     "data": {
      "text/plain": [
       "[[(512, 384), 'resc_0000017.jpg'],\n",
       " [(512, 384), 'resc_0000009.jpg'],\n",
       " [(512, 384), 'resc_0000013.jpg'],\n",
       " [(512, 384), 'resc_0000015.jpg'],\n",
       " [(512, 384), 'resc_0000007.jpg'],\n",
       " [(480, 384), 'resc_1529575.jpg'],\n",
       " [(512, 384), 'resc_0000021.jpg'],\n",
       " [(480, 384), 'resc_1529576.jpg'],\n",
       " [(480, 384), 'resc_1529572.jpg'],\n",
       " [(512, 384), 'resc_0000005.jpg']]"
      ]
     },
     "execution_count": 61,
     "metadata": {},
     "output_type": "execute_result"
    }
   ],
   "source": [
    "[[Image.open(PATH_TO_IMG_RESC / file).size, file] for file in os.listdir(PATH_TO_IMG_RESC) if \".\" in file]"
   ]
  },
  {
   "cell_type": "code",
   "execution_count": 6,
   "metadata": {},
   "outputs": [
    {
     "data": {
      "text/plain": [
       "[['1088', '816', '0000005.jpg'],\n",
       " ['1088', '816', '0000007.jpg'],\n",
       " ['1088', '816', '0000009.jpg'],\n",
       " ['1088', '816', '0000013.jpg']]"
      ]
     },
     "execution_count": 6,
     "metadata": {},
     "output_type": "execute_result"
    }
   ],
   "source": [
    "sizes_from_file[:4]"
   ]
  },
  {
   "cell_type": "code",
   "execution_count": null,
   "metadata": {},
   "outputs": [],
   "source": []
  }
 ],
 "metadata": {
  "kernelspec": {
   "display_name": "Python 3",
   "language": "python",
   "name": "python3"
  },
  "language_info": {
   "codemirror_mode": {
    "name": "ipython",
    "version": 3
   },
   "file_extension": ".py",
   "mimetype": "text/x-python",
   "name": "python",
   "nbconvert_exporter": "python",
   "pygments_lexer": "ipython3",
   "version": "3.7.4"
  }
 },
 "nbformat": 4,
 "nbformat_minor": 4
}
